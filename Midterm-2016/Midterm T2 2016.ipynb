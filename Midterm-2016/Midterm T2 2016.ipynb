{
 "cells": [
  {
   "cell_type": "markdown",
   "metadata": {},
   "source": [
    "# Midterm T2 2016\n",
    "\n",
    "The midterm consists of two parts: \n",
    "\n",
    " - **Easy Zone** which worth 100 point each which most of them you can just copy from exercise/homework\n",
    " - **Creative zone** which worth 125 points each.\n",
    " - The score for each sub question is equal unless indicated.\n",
    " - Comment your code!! If it takes me more than 5 minutes to figure out what your code does, I won't grade it.\n",
    "\n",
    "The total score is 850 but you will be graded out of 0.9*850=765.\n"
   ]
  },
  {
   "cell_type": "code",
   "execution_count": 1,
   "metadata": {},
   "outputs": [],
   "source": [
    "%matplotlib inline\n",
    "import numpy as np\n",
    "from matplotlib import pyplot as plt\n",
    "import math"
   ]
  },
  {
   "cell_type": "markdown",
   "metadata": {},
   "source": [
    "## Easy Zone (100 Each)"
   ]
  },
  {
   "cell_type": "markdown",
   "metadata": {},
   "source": [
    "### 1 Taylor Series\n",
    "\n",
    "1) Find the first 3 *non-zero* terms in Taylor series of\n",
    "$$f(x) = sin(2x)$$"
   ]
  },
  {
   "cell_type": "code",
   "execution_count": null,
   "metadata": {},
   "outputs": [],
   "source": []
  },
  {
   "cell_type": "markdown",
   "metadata": {},
   "source": [
    "2) Use the Taylor series you found in 1) to find $$sin(0.2)$$ **along with bound on error**."
   ]
  },
  {
   "cell_type": "code",
   "execution_count": null,
   "metadata": {},
   "outputs": [],
   "source": []
  },
  {
   "cell_type": "markdown",
   "metadata": {},
   "source": [
    "## 2) Bisection"
   ]
  },
  {
   "cell_type": "markdown",
   "metadata": {},
   "source": [
    "We know that \n",
    "\n",
    "$$\\sin\\left(\\frac{\\pi}{4}\\right) = \\cos\\left(\\frac{\\pi}{4}\\right)$$\n",
    "\n",
    "This means that we can find the value of $\\pi$ by finding the solution of\n",
    "\n",
    "$$\\sin(x) = \\cos(x)$$\n",
    "\n",
    "Then multiply the solution by 4. Then we get the value of $\\pi$."
   ]
  },
  {
   "cell_type": "markdown",
   "metadata": {},
   "source": [
    "1) Since we multiply solution by 4 at the end. This means that if we want the value of $\\pi$ that is accurate at least $10^{-6}$ we need to make sure that our method of finding the solution to $\\sin(x) = \\cos(x)$ is accurate at least $\\displaystyle \\frac{10^{-6}}{4}$.\n",
    "\n",
    "If our initial range is from $x=[0,2]$ and the method we use is bisection, how many iterations do we need to make sure that the solution is at most $\\displaystyle\\frac{10^{-6}}{4}$ from the real answer."
   ]
  },
  {
   "cell_type": "code",
   "execution_count": null,
   "metadata": {},
   "outputs": [],
   "source": []
  },
  {
   "cell_type": "markdown",
   "metadata": {},
   "source": [
    "2) Find the value of $\\pi$ that is accurate at least $10^{-6}$ using the method above."
   ]
  },
  {
   "cell_type": "code",
   "execution_count": null,
   "metadata": {},
   "outputs": [],
   "source": []
  },
  {
   "cell_type": "markdown",
   "metadata": {},
   "source": [
    "### 3 Newton's Method"
   ]
  },
  {
   "cell_type": "markdown",
   "metadata": {},
   "source": [
    "1) (40) In the homework we found that we can find $\\sqrt{x}$ using \n",
    "\n",
    "$$x_{n+1}  = \\frac{\\displaystyle x_{n} + \\frac{2}{x_n}}{2}$$\n",
    "\n",
    "Derive an analogous relation for finding $\\sqrt[5]{x}$"
   ]
  },
  {
   "cell_type": "code",
   "execution_count": null,
   "metadata": {},
   "outputs": [],
   "source": []
  },
  {
   "cell_type": "markdown",
   "metadata": {},
   "source": [
    "2) (40) Find $\\sqrt[5]{31}$ to a decent accuracy using what you found above"
   ]
  },
  {
   "cell_type": "code",
   "execution_count": null,
   "metadata": {},
   "outputs": [],
   "source": []
  },
  {
   "cell_type": "markdown",
   "metadata": {},
   "source": [
    "3) (20) Newtons's Method vs Bisection method.\n",
    "\n",
    "3.1) Which one converge faster?\n",
    "\n",
    "3.2) Why should we bother using slower one?"
   ]
  },
  {
   "cell_type": "code",
   "execution_count": null,
   "metadata": {},
   "outputs": [],
   "source": []
  },
  {
   "cell_type": "markdown",
   "metadata": {},
   "source": [
    "### 4 Legendre"
   ]
  },
  {
   "cell_type": "markdown",
   "metadata": {},
   "source": [
    "1)If we use Legendre method to find polynomail which passes through all thsese points. What would be the degree of the polynomial? (20)"
   ]
  },
  {
   "cell_type": "code",
   "execution_count": 2,
   "metadata": {},
   "outputs": [
    {
     "data": {
      "text/plain": [
       "(-2, 2)"
      ]
     },
     "execution_count": 2,
     "metadata": {},
     "output_type": "execute_result"
    },
    {
     "data": {
      "image/png": "[encoded data removed]",
      "text/plain": [
       "<Figure size 432x288 with 1 Axes>"
      ]
     },
     "metadata": {
      "needs_background": "light"
     },
     "output_type": "display_data"
    }
   ],
   "source": [
    "xs = [1,3,5,7,8,9,11]\n",
    "ys = [-1,1,1,-1,1,1,-1]\n",
    "plt.plot(xs,ys,'o')\n",
    "plt.ylim(-2,2)"
   ]
  },
  {
   "cell_type": "markdown",
   "metadata": {},
   "source": [
    "2) Use Legendre method and plot polynomial which passes through all the points given. (80)"
   ]
  },
  {
   "cell_type": "code",
   "execution_count": null,
   "metadata": {},
   "outputs": [],
   "source": []
  },
  {
   "cell_type": "markdown",
   "metadata": {},
   "source": [
    "### 5 Integration"
   ]
  },
  {
   "cell_type": "markdown",
   "metadata": {},
   "source": [
    "1) We want to calculate\n",
    "\n",
    "$$\\int_3^7 \\sqrt{x} \\; dx$$\n",
    "\n",
    "using trapezoid rule such that the answer is at most $10^{-5}$ away from the real answer how many pieces do we need?"
   ]
  },
  {
   "cell_type": "code",
   "execution_count": null,
   "metadata": {},
   "outputs": [],
   "source": []
  },
  {
   "cell_type": "markdown",
   "metadata": {},
   "source": [
    "2) Use trapezoid rule to calculate\n",
    "$$\\int_3^7 \\sqrt{x} \\; dx$$\n",
    "such that your answer is at most $10^{-5}$ from the real answer.\n"
   ]
  },
  {
   "cell_type": "code",
   "execution_count": null,
   "metadata": {},
   "outputs": [],
   "source": []
  },
  {
   "cell_type": "markdown",
   "metadata": {},
   "source": [
    "### 6 Derivative"
   ]
  },
  {
   "cell_type": "markdown",
   "metadata": {},
   "source": [
    "1) Find the lowest point in the of function `math.lgamma` in the range of [1,2]. (Give me both x and y) "
   ]
  },
  {
   "cell_type": "code",
   "execution_count": null,
   "metadata": {},
   "outputs": [],
   "source": []
  },
  {
   "cell_type": "markdown",
   "metadata": {},
   "source": [
    "2) Show that \n",
    "$$\\frac{9f(x+h)-f(x+3h)-8f(x)}{6h} = f'(x) + O(h^2)$$"
   ]
  },
  {
   "cell_type": "code",
   "execution_count": null,
   "metadata": {},
   "outputs": [],
   "source": []
  },
  {
   "cell_type": "markdown",
   "metadata": {},
   "source": [
    "## Creative Zone (125 Each)\n",
    "\n",
    "The questions may look ridiculous. ** Do not panic **. It is much easier than it looks."
   ]
  },
  {
   "cell_type": "markdown",
   "metadata": {},
   "source": [
    "### 7 Confidence Interval\n",
    "\n",
    "##### Intro\n"
   ]
  },
  {
   "cell_type": "markdown",
   "metadata": {},
   "source": [
    "In the homework you have calculated full width half max which is a measure of how spread out a distribution is there is another measure which has a better statistical intepretation and is widely used called 95% confidence interval.\n",
    "\n",
    "All the statistical interpretations aside(which you will learn in AJ Ko's class), the 95% interval is defined to be an interval symmetric around the most probable(highest value) $\\bar{x}$, \n",
    "$$[\\bar{x} - \\alpha, \\bar{x} + \\alpha]$$ such that the **area under the distribution in this interval is 95% of the total area**. Note that the range is symmetric around the most probable(highest value) $\\bar{x}$.\n",
    "\n",
    "The concept is illustrated in the figure below that the 95% confidence interval of the distribution shown below is approximately [-1.2,1.6] since the highest point is at 0.2 and the area of interval [0.2-1.4, 0.2+1.4] = [-1.2, 1.6] is about 95% of the total area."
   ]
  },
  {
   "cell_type": "code",
   "execution_count": 3,
   "metadata": {},
   "outputs": [
    {
     "data": {
      "text/plain": [
       "Text(0.8, 0.5, '$\\\\bar{x}$')"
      ]
     },
     "execution_count": 3,
     "metadata": {},
     "output_type": "execute_result"
    },
    {
     "data": {
      "image/png": "[encoded data removed]",
      "text/plain": [
       "<Figure size 432x288 with 1 Axes>"
      ]
     },
     "metadata": {
      "needs_background": "light"
     },
     "output_type": "display_data"
    }
   ],
   "source": [
    "def gaussian(x):\n",
    "    sigma = 0.7\n",
    "    mu = 0.2\n",
    "    return 1/math.sqrt(2*math.pi*sigma**2)*np.exp(-(x-mu)**2/(2*sigma))\n",
    "\n",
    "xs = np.linspace(-5,5,100)\n",
    "ys = gaussian(xs)\n",
    "\n",
    "xs2 = np.linspace(-1.2,1.6,100)\n",
    "ys2 = gaussian(xs2)\n",
    "\n",
    "\n",
    "\n",
    "plt.plot(xs, ys)\n",
    "plt.fill_between(xs2, 0, ys2,color='green')\n",
    "plt.axvline(1.6,color='r')\n",
    "plt.axvline(-1.2,color='r')\n",
    "plt.axvline(0.2,color='r',ls='dashed')\n",
    "plt.text(-4,0.3, r'$\\bar{x}-\\alpha$',size=20)\n",
    "plt.text(2.3, 0.3, r'$\\bar{x}+\\alpha$',size=20)\n",
    "plt.text(0.8, 0.5,r'$\\bar{x}$', size=20)\n"
   ]
  },
  {
   "cell_type": "markdown",
   "metadata": {},
   "source": [
    "##### Your task\n",
    "\n",
    "For this problem your task is to find 95% confidence interval for the following distribution.\n",
    "$$f(x) = \\frac{1}{\\pi\\gamma} \\frac{1}{(x-\\mu)^2+\\gamma^2}$$\n",
    "with $\\mu = 1.$ and $\\gamma = 2.$. Your answer should be a range. (Do it for a reasonable accuracy. If you have done the homework, you know what I mean)\n",
    "\n",
    "You may assume that the total area from $x=-\\infty, \\infty$ of this distribution is 1. (It actually is 1.)"
   ]
  },
  {
   "cell_type": "code",
   "execution_count": 26,
   "metadata": {},
   "outputs": [
    {
     "name": "stdout",
     "output_type": "stream",
     "text": [
      "a: 25.41351318359375\n",
      "Range: between -24.41351318359375 and 26.41351318359375\n"
     ]
    },
    {
     "data": {
      "image/png": "[encoded data removed]",
      "text/plain": [
       "<Figure size 432x288 with 1 Axes>"
      ]
     },
     "metadata": {
      "needs_background": "light"
     },
     "output_type": "display_data"
    }
   ],
   "source": [
    "def cauchy(x):\n",
    "    mu = 1.\n",
    "    gamma = 2.\n",
    "    return (1./(math.pi*gamma))*(gamma**2/((x-mu)**2+gamma**2))\n",
    "\n",
    "xs = np.linspace(-10,10, 100)\n",
    "ys = cauchy(xs)\n",
    "plt.plot(xs, ys)\n",
    "plt.grid()\n",
    "\n",
    "def bisection(f, a, b, acc):\n",
    "    if f(a)*f(b) > 0:\n",
    "        print(\"No root found.\")\n",
    "    else:\n",
    "        while (b - a)/2 > acc:\n",
    "            midpoint = (a + b)/2\n",
    "            if f(midpoint) == 0:\n",
    "                return(midpoint) \n",
    "            elif f(a)*f(midpoint) < 0:\n",
    "                b = midpoint\n",
    "            else:\n",
    "                a = midpoint\n",
    "        return (midpoint)\n",
    "\n",
    "def trapezoid(f, a, b, n):\n",
    "    h = abs(b-a)/n\n",
    "    res = 0\n",
    "    for i in range(1,n):\n",
    "        res += f(a+i*h)\n",
    "    return (h/2)*(f(a) + f(b) + 2*res)\n",
    "\n",
    "def confidence(a):\n",
    "    return trapezoid(cauchy, -a+1, a+1, 100) - 0.95\n",
    "\n",
    "\n",
    "a = bisection(confidence, 0, 100,0.001)\n",
    "print(\"a:\", a)\n",
    "print(\"Range: between\", 1-a, \"and\", 1+a)"
   ]
  },
  {
   "cell_type": "markdown",
   "metadata": {},
   "source": [
    "### 8 Sum of $i^k$\n",
    "\n",
    "\n",
    "#### Intro\n",
    "\n",
    "In discrete math we learn that the sum of integer from $1 \\ldots n$ is given by\n",
    "$$\\sum_{i=1}^n i = \\frac{n(n-1)}{2} = \\frac{n^2}{2} - \\frac{n}{2}$$\n",
    "and\n",
    "$$\\sum_{i=1}^n i^2 = \\frac{n^3}{3}+\\frac{n^2}{2}+\\frac{n}{6}$$\n",
    "and\n",
    "$$\\sum_{i=1}^n i^3 = \\left( \\frac{n(n-1)}{2} \\right)^2 = \\frac{n^4}{4} + \\ldots$$\n",
    "\n",
    "As you may notice, one can actually show that $\\displaystyle \\sum_{i=1}^n i^k$ has is a polynomial of degree $k+1$.\n",
    "\n",
    "To calculate the sum if we use for loop and calculate the left hand side it will be $O(n)$. But if we use the right hand side we can calculate it in $O(1)$. So, calculating it with a closed form is a much better approach.\n",
    "\n",
    "But as you recall getting the close formed formula is quite difficult to do by hands. In this problem we will use legendre polynomial to find it.\n",
    "\n",
    "#### Problem\n",
    "\n",
    "\n",
    "Use what you learn about Legendre Method and write a function that takes in $n$ and $k$ and calculate $$\\sum_{i=1}^n i^k$$ in $O(k)$ (NOT $O(n)$).\n",
    "\n",
    "##### Warning: don't try to sum up too far as it can cause integer overflow."
   ]
  },
  {
   "cell_type": "code",
   "execution_count": null,
   "metadata": {},
   "outputs": [],
   "source": []
  }
 ],
 "metadata": {
  "kernelspec": {
   "display_name": "Python 3",
   "language": "python",
   "name": "python3"
  },
  "language_info": {
   "codemirror_mode": {
    "name": "ipython",
    "version": 3
   },
   "file_extension": ".py",
   "mimetype": "text/x-python",
   "name": "python",
   "nbconvert_exporter": "python",
   "pygments_lexer": "ipython3",
   "version": "3.8.1"
  },
  "toc": {
   "colors": {
    "hover_highlight": "#DAA520",
    "running_highlight": "#FF0000",
    "selected_highlight": "#FFD700"
   },
   "moveMenuLeft": true,
   "nav_menu": {
    "height": "247px",
    "width": "252px"
   },
   "navigate_menu": true,
   "number_sections": false,
   "sideBar": true,
   "threshold": 4,
   "toc_cell": false,
   "toc_section_display": "block",
   "toc_window_display": false
  }
 },
 "nbformat": 4,
 "nbformat_minor": 1
}
