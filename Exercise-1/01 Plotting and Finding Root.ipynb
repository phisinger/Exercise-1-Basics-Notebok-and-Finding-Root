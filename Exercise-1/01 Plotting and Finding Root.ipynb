{
 "cells": [
  {
   "cell_type": "markdown",
   "metadata": {},
   "source": [
    "# Important\n",
    "To Execute a cell. Press Shift+Enter"
   ]
  },
  {
   "cell_type": "code",
   "execution_count": 10,
   "metadata": {},
   "outputs": [
    {
     "name": "stdout",
     "output_type": "stream",
     "text": [
      "Python version\n",
      "3.5.4 |Anaconda custom (64-bit)| (default, Oct 13 2017, 11:22:58) \n",
      "[GCC 7.2.0]\n",
      "Version info.\n",
      "sys.version_info(major=3, minor=5, micro=4, releaselevel='final', serial=0)\n"
     ]
    }
   ],
   "source": [
    "#load all the necessary libraries\n",
    "%matplotlib inline\n",
    "from matplotlib import pyplot as plt\n",
    "import numpy as np\n",
    "import math\n",
    "import time\n",
    "import sys\n",
    "print(\"Python version\")\n",
    "print (sys.version)\n",
    "print(\"Version info.\")\n",
    "print (sys.version_info)"
   ]
  },
  {
   "cell_type": "markdown",
   "metadata": {},
   "source": [
    "# Python Recap"
   ]
  },
  {
   "cell_type": "code",
   "execution_count": 7,
   "metadata": {},
   "outputs": [
    {
     "name": "stdout",
     "output_type": "stream",
     "text": [
      "3\n"
     ]
    }
   ],
   "source": [
    "# here is how you print something\n",
    "a = 1\n",
    "b = 2\n",
    "c = a + b\n",
    "print(c)\n",
    "\n",
    "#if you want to show line number View --> Toggle Line Number"
   ]
  },
  {
   "cell_type": "code",
   "execution_count": 4,
   "metadata": {},
   "outputs": [
    {
     "name": "stdout",
     "output_type": "stream",
     "text": [
      "3 is less than five\n"
     ]
    }
   ],
   "source": [
    "#conditional statement\n",
    "x = 3\n",
    "if x<5:\n",
    "    print (x, 'is less than five')\n",
    "else:\n",
    "    print (x, 'is not less than five')"
   ]
  },
  {
   "cell_type": "code",
   "execution_count": 5,
   "metadata": {},
   "outputs": [
    {
     "name": "stdout",
     "output_type": "stream",
     "text": [
      "21\n"
     ]
    }
   ],
   "source": [
    "#define a function\n",
    "def f(x):\n",
    "    a = 2*x + 1\n",
    "    return a\n",
    "print(f(10))"
   ]
  },
  {
   "cell_type": "code",
   "execution_count": 6,
   "metadata": {},
   "outputs": [
    {
     "name": "stdout",
     "output_type": "stream",
     "text": [
      "12345678910"
     ]
    }
   ],
   "source": [
    "#while loop\n",
    "i = 0\n",
    "while i < 10:\n",
    "    i+=1\n",
    "    print(i, end='') #that's how you avoid new line"
   ]
  },
  {
   "cell_type": "code",
   "execution_count": 12,
   "metadata": {},
   "outputs": [
    {
     "name": "stdout",
     "output_type": "stream",
     "text": [
      "123456----\n",
      "0 1\n",
      "1 2\n",
      "2 3\n",
      "3 4\n",
      "4 5\n",
      "5 6\n"
     ]
    }
   ],
   "source": [
    "#here is list and use it\n",
    "a1 = [1,2,3,4,5,6]\n",
    "for x in a1:\n",
    "    print(x, end='')\n",
    "print('----')\n",
    "for i,x in enumerate(a1): #if you also want the index\n",
    "    print(i, x)"
   ]
  },
  {
   "cell_type": "code",
   "execution_count": 13,
   "metadata": {},
   "outputs": [
    {
     "name": "stdout",
     "output_type": "stream",
     "text": [
      "[2, 4, 6, 8, 10, 12]\n"
     ]
    }
   ],
   "source": [
    "#here is how to build one (not so beautiful)\n",
    "#Also notice here that I use a1 from the previous cell.\n",
    "#once you execute the code it's stored in the kernel\n",
    "a2 = []\n",
    "for x in a1:\n",
    "    a2.append(2*x)\n",
    "print (a2)"
   ]
  },
  {
   "cell_type": "code",
   "execution_count": 14,
   "metadata": {},
   "outputs": [
    {
     "name": "stdout",
     "output_type": "stream",
     "text": [
      "[3, 5, 7, 9, 11, 13]\n"
     ]
    }
   ],
   "source": [
    "#But this is ugly\n",
    "#let us use list comprehension makes it much easier to read\n",
    "a3 = [2*x+1 for x in a1]\n",
    "print (a3)"
   ]
  },
  {
   "cell_type": "code",
   "execution_count": 15,
   "metadata": {},
   "outputs": [
    {
     "name": "stdout",
     "output_type": "stream",
     "text": [
      "[ 0.          0.11111111  0.22222222  0.33333333  0.44444444  0.55555556\n",
      "  0.66666667  0.77777778  0.88888889  1.        ]\n",
      "[ 0.          0.22222222  0.44444444  0.66666667  0.88888889  1.11111111\n",
      "  1.33333333  1.55555556  1.77777778  2.        ]\n",
      "[ 0.          0.01234568  0.04938272  0.11111111  0.19753086  0.30864198\n",
      "  0.44444444  0.60493827  0.79012346  1.        ]\n",
      "[ 1.          1.11751907  1.24884887  1.39561243  1.5596235   1.742909\n",
      "  1.94773404  2.17662993  2.43242545  2.71828183]\n",
      "[ 6 10 14 18 22 26]\n"
     ]
    }
   ],
   "source": [
    "#but since we will be using it a lot we have something much better\n",
    "#it's called numpy array\n",
    "\n",
    "arr = np.linspace(0,1,10) #this gives you 10 number from 0 to 10 equally spaced \n",
    "print (arr)\n",
    "print (2*arr) #array broadcasting magic it does what you think it should\n",
    "print (arr**2)\n",
    "print (np.exp(arr)) #exp function\n",
    "\n",
    "#you can also convert normal list to numpy array if you want\n",
    "arr3 = np.array(a3)\n",
    "print(arr3*2)"
   ]
  },
  {
   "cell_type": "code",
   "execution_count": 16,
   "metadata": {},
   "outputs": [
    {
     "data": {
      "image/png": "[encoded data removed]",
      "text/plain": [
       "<matplotlib.figure.Figure at 0x105f0a198>"
      ]
     },
     "metadata": {},
     "output_type": "display_data"
    }
   ],
   "source": [
    "#plotting is easy\n",
    "xs = np.linspace(0,1,100)\n",
    "ys = xs**2\n",
    "plt.plot(xs,ys)\n",
    "plt.savefig('first_plot.pdf') #you can save it too"
   ]
  },
  {
   "cell_type": "code",
   "execution_count": 17,
   "metadata": {},
   "outputs": [
    {
     "data": {
      "text/plain": [
       "[<matplotlib.lines.Line2D at 0x105f0a518>]"
      ]
     },
     "execution_count": 17,
     "metadata": {},
     "output_type": "execute_result"
    },
    {
     "data": {
      "image/png": "[encoded data removed]",
      "text/plain": [
       "<matplotlib.figure.Figure at 0x105f0a080>"
      ]
     },
     "metadata": {},
     "output_type": "display_data"
    }
   ],
   "source": [
    "plt.plot(xs,ys, color='red') #change the style too\n",
    "plt.plot(xs,xs) #and you can plot two things on the same graph\n",
    "#It can do much more see: http://matplotlib.org/gallery.html"
   ]
  },
  {
   "cell_type": "markdown",
   "metadata": {},
   "source": [
    "## Root Finding"
   ]
  },
  {
   "cell_type": "code",
   "execution_count": 15,
   "metadata": {},
   "outputs": [
    {
     "data": {
      "text/plain": [
       "(-1, 10)"
      ]
     },
     "execution_count": 15,
     "metadata": {},
     "output_type": "execute_result"
    },
    {
     "data": {
      "image/png": "[encoded data removed]",
      "text/plain": [
       "<matplotlib.figure.Figure at 0x7f0729e93668>"
      ]
     },
     "metadata": {},
     "output_type": "display_data"
    }
   ],
   "source": [
    "xs = np.linspace(0,2*np.pi,100)\n",
    "ys = np.exp(xs)\n",
    "plt.plot(xs,ys, color=\"blue\")\n",
    "xb = np.linspace(0,2*np.pi,100)\n",
    "yb = np.sin(xb)\n",
    "plt.plot(xb, yb, color=\"black\")\n",
    "plt.ylim(-1,10)"
   ]
  },
  {
   "cell_type": "markdown",
   "metadata": {},
   "source": [
    "#### 1) Consider $x = cos(x)$. Our goal is to solve for x that satisfy that.\n",
    "\n",
    "Plot something that helps you solve it."
   ]
  },
  {
   "cell_type": "code",
   "execution_count": null,
   "metadata": {},
   "outputs": [],
   "source": []
  },
  {
   "cell_type": "code",
   "execution_count": 17,
   "metadata": {},
   "outputs": [
    {
     "data": {
      "text/plain": [
       "[<matplotlib.lines.Line2D at 0x7f0729e59518>]"
      ]
     },
     "execution_count": 17,
     "metadata": {},
     "output_type": "execute_result"
    },
    {
     "data": {
      "image/png": "[encoded data removed]",
      "text/plain": [
       "<matplotlib.figure.Figure at 0x7f0729e59588>"
      ]
     },
     "metadata": {},
     "output_type": "display_data"
    }
   ],
   "source": [
    "xx = np.linspace(0.7, 0.75, 1000)\n",
    "xy = xx\n",
    "plt.plot(xx, xy, color=\"black\")\n",
    "xcos = np.linspace(0.7, 0.75, 1000)\n",
    "ycos = np.cos(xcos)\n",
    "plt.plot(xcos, ycos, color=\"blue\")"
   ]
  },
  {
   "cell_type": "markdown",
   "metadata": {},
   "source": [
    "#### 2) Given the what you did what is your answer?"
   ]
  },
  {
   "cell_type": "code",
   "execution_count": null,
   "metadata": {
    "collapsed": true
   },
   "outputs": [],
   "source": []
  },
  {
   "cell_type": "markdown",
   "metadata": {},
   "source": [
    "#### 3) How accurate is your answer?\n",
    "$answer = \\ldots \\pm \\ldots$\n",
    "\n",
    "Accuracy is also an important part for numerical algorithm --> How fast we can improve our accuracy."
   ]
  },
  {
   "cell_type": "code",
   "execution_count": null,
   "metadata": {
    "collapsed": true
   },
   "outputs": [],
   "source": [
    "0.75 +- 0.05"
   ]
  },
  {
   "cell_type": "markdown",
   "metadata": {},
   "source": [
    "#### 4) Make it more accurate"
   ]
  },
  {
   "cell_type": "code",
   "execution_count": null,
   "metadata": {},
   "outputs": [],
   "source": []
  },
  {
   "cell_type": "markdown",
   "metadata": {},
   "source": [
    "#### 5) Write the equation above as $f(x)= 0$"
   ]
  },
  {
   "cell_type": "code",
   "execution_count": null,
   "metadata": {},
   "outputs": [],
   "source": []
  },
  {
   "cell_type": "markdown",
   "metadata": {},
   "source": [
    "# Bisection"
   ]
  },
  {
   "cell_type": "markdown",
   "metadata": {},
   "source": [
    "#### 1) If you use a bisection method and your starting bound is $x=0.2$ and $x=1.2$, how do you know that there is a solution by looking only at $f(0.2)$ and $f(1.2)$"
   ]
  },
  {
   "cell_type": "code",
   "execution_count": null,
   "metadata": {},
   "outputs": [],
   "source": [
    "If the function is continious and the the values of y have different signs, there must be a solution"
   ]
  },
  {
   "cell_type": "markdown",
   "metadata": {},
   "source": [
    "#### 2) Plot the graph along with the two vertical line representing the bound. (use plt.axvline)"
   ]
  },
  {
   "cell_type": "code",
   "execution_count": 27,
   "metadata": {},
   "outputs": [
    {
     "data": {
      "text/plain": [
       "[<matplotlib.lines.Line2D at 0x7f07296edef0>]"
      ]
     },
     "execution_count": 27,
     "metadata": {},
     "output_type": "execute_result"
    },
    {
     "data": {
      "image/png": "[encoded data removed]",
      "text/plain": [
       "<matplotlib.figure.Figure at 0x7f07296c2710>"
      ]
     },
     "metadata": {},
     "output_type": "display_data"
    }
   ],
   "source": [
    "x_cos = np.linspace(-2, 2, 100)\n",
    "y_cos = np.cos(x_cos) - x_cos\n",
    "plt.axvline(x=0.2)\n",
    "plt.axvline(x=0.7)\n",
    "plt.axvline(x=1.2)\n",
    "plt.grid()\n",
    "plt.plot(x_cos, y_cos)\n"
   ]
  },
  {
   "cell_type": "markdown",
   "metadata": {},
   "source": [
    "#### 3) If we guess right in the middle of the two bound what would be the error on our guess?\n",
    "$$\n",
    "    answer = \\ldots \\pm \\ldots\n",
    "$$\n"
   ]
  },
  {
   "cell_type": "code",
   "execution_count": 24,
   "metadata": {},
   "outputs": [
    {
     "name": "stdout",
     "output_type": "stream",
     "text": [
      "0.5\n"
     ]
    }
   ],
   "source": [
    "answer = (1.2-0.2)/2\n",
    "print(answer)"
   ]
  },
  {
   "cell_type": "markdown",
   "metadata": {},
   "source": [
    "#### 4) If you want to make a new pair of bound which pair would you pick? How did you know?"
   ]
  },
  {
   "cell_type": "code",
   "execution_count": null,
   "metadata": {},
   "outputs": [],
   "source": [
    "Answer: [0.7, 1.2] because the signs of f(0.7) and f(1.2) are different"
   ]
  },
  {
   "cell_type": "markdown",
   "metadata": {},
   "source": [
    "#### 5) Write a function which find solution to f(x)=0 using the method you just discovered. Try plotting as you go."
   ]
  },
  {
   "cell_type": "code",
   "execution_count": 11,
   "metadata": {},
   "outputs": [
    {
     "name": "stdout",
     "output_type": "stream",
     "text": [
      "0.7\n",
      "0.95\n",
      "0.825\n",
      "0.7625\n",
      "0.73125\n",
      "0.746875\n",
      "0.7390625\n",
      "0.74296875\n",
      "0.741015625\n",
      "0.7400390625\n",
      "0.73955078125\n",
      "0.739306640625\n",
      "0.7391845703125\n",
      "0.73912353515625\n"
     ]
    },
    {
     "data": {
      "image/png": "[encoded data removed]",
      "text/plain": [
       "<matplotlib.figure.Figure at 0x7f92cffefc50>"
      ]
     },
     "metadata": {},
     "output_type": "display_data"
    }
   ],
   "source": [
    "x_cos = np.linspace(0.2, 1.2, 100)\n",
    "y_cos = np.cos(x_cos) - x_cos\n",
    "plt.plot(x_cos, y_cos)\n",
    "\n",
    "\n",
    "error = 1\n",
    "bound_l = 1.2\n",
    "bound_r = 0.2\n",
    "\n",
    "plt.axvline(x=0.2)\n",
    "plt.axvline(x=1.2)\n",
    "\n",
    "\n",
    "def fun(x):\n",
    "    return np.cos(x) - x\n",
    "\n",
    "\n",
    "while(error > 0.0001):\n",
    "    error = error / 2\n",
    "    new_bound = (bound_l + bound_r) / 2\n",
    "    print(new_bound)\n",
    "    plt.axvline(x=new_bound, color = \"red\")\n",
    "    plt.plot()\n",
    "    \n",
    "    if( fun(new_bound)* fun(bound_r) < 0):\n",
    "        bound_l = new_bound\n",
    "    else:\n",
    "        bound_r = new_bound\n",
    "    "
   ]
  },
  {
   "cell_type": "markdown",
   "metadata": {},
   "source": [
    "#### 6) Given that the intial bound is of size $S$. After $n$ iterations how accurate is your answer?\n",
    "\n",
    "$$\\text{error}(n) = \\ldots$$"
   ]
  },
  {
   "cell_type": "code",
   "execution_count": null,
   "metadata": {},
   "outputs": [],
   "source": [
    "S/2**n"
   ]
  },
  {
   "cell_type": "markdown",
   "metadata": {},
   "source": [
    "#### 7) Give me the solution to  $x=cos(x)$ that is at most  $10^{−6}$ away from the real answer. Verify your solution graphically."
   ]
  },
  {
   "cell_type": "code",
   "execution_count": 9,
   "metadata": {},
   "outputs": [
    {
     "name": "stdout",
     "output_type": "stream",
     "text": [
      "error: \n",
      "1\n",
      "error: \n",
      "0.5\n",
      "0.7\n",
      "error: \n",
      "0.5\n",
      "error: \n",
      "0.25\n",
      "0.95\n",
      "error: \n",
      "0.25\n",
      "error: \n",
      "0.125\n",
      "0.825\n",
      "error: \n",
      "0.125\n",
      "error: \n",
      "0.0625\n",
      "0.7625\n",
      "error: \n",
      "0.0625\n",
      "error: \n",
      "0.03125\n",
      "0.73125\n",
      "error: \n",
      "0.03125\n",
      "error: \n",
      "0.015625\n",
      "0.746875\n",
      "error: \n",
      "0.015625\n",
      "error: \n",
      "0.0078125\n",
      "0.7390625\n",
      "error: \n",
      "0.0078125\n",
      "error: \n",
      "0.00390625\n",
      "0.74296875\n",
      "error: \n",
      "0.00390625\n",
      "error: \n",
      "0.001953125\n",
      "0.741015625\n",
      "error: \n",
      "0.001953125\n",
      "error: \n",
      "0.0009765625\n",
      "0.7400390625\n",
      "error: \n",
      "0.0009765625\n",
      "error: \n",
      "0.00048828125\n",
      "0.73955078125\n",
      "error: \n",
      "0.00048828125\n",
      "error: \n",
      "0.000244140625\n",
      "0.739306640625\n",
      "error: \n",
      "0.000244140625\n",
      "error: \n",
      "0.0001220703125\n",
      "0.7391845703125\n",
      "error: \n",
      "0.0001220703125\n",
      "error: \n",
      "6.103515625e-05\n",
      "0.73912353515625\n",
      "error: \n",
      "6.103515625e-05\n",
      "error: \n",
      "3.0517578125e-05\n",
      "0.739093017578125\n",
      "error: \n",
      "3.0517578125e-05\n",
      "error: \n",
      "1.52587890625e-05\n",
      "0.7390777587890625\n",
      "error: \n",
      "1.52587890625e-05\n",
      "error: \n",
      "7.62939453125e-06\n",
      "0.7390853881835937\n",
      "error: \n",
      "7.62939453125e-06\n",
      "error: \n",
      "3.814697265625e-06\n",
      "0.7390815734863281\n",
      "error: \n",
      "3.814697265625e-06\n",
      "error: \n",
      "1.9073486328125e-06\n",
      "0.7390834808349609\n",
      "error: \n",
      "1.9073486328125e-06\n",
      "error: \n",
      "9.5367431640625e-07\n",
      "0.7390844345092773\n",
      "error: \n",
      "9.5367431640625e-07\n",
      "error: \n",
      "4.76837158203125e-07\n",
      "0.7390849113464355\n",
      "error: \n",
      "4.76837158203125e-07\n",
      "error: \n",
      "2.384185791015625e-07\n",
      "0.7390851497650146\n",
      "error: \n",
      "2.384185791015625e-07\n",
      "error: \n",
      "1.1920928955078125e-07\n",
      "0.739085030555725\n",
      "error: \n",
      "1.1920928955078125e-07\n",
      "error: \n",
      "5.960464477539063e-08\n",
      "0.7390850901603698\n"
     ]
    },
    {
     "data": {
      "image/png": "[encoded data removed]",
      "text/plain": [
       "<matplotlib.figure.Figure at 0x7f08d03a9e10>"
      ]
     },
     "metadata": {},
     "output_type": "display_data"
    }
   ],
   "source": [
    "x_cos = np.linspace(0.2, 1.2, 100)\n",
    "y_cos = np.cos(x_cos) - x_cos\n",
    "plt.plot(x_cos, y_cos)\n",
    "\n",
    "\n",
    "error = 1\n",
    "bound_l = 0.2\n",
    "bound_r = 1.2\n",
    "\n",
    "plt.axvline(x=0.2)\n",
    "plt.axvline(x=1.2)\n",
    "\n",
    "\n",
    "def fun(x):\n",
    "    return np.cos(x) - x\n",
    "\n",
    "\n",
    "while(error > 0.0000001):\n",
    "    print (\"error: \")\n",
    "    print (error)\n",
    "    error = error / 2\n",
    "    print (\"error: \")\n",
    "    print (error)\n",
    "    new_bound = (bound_l + bound_r) / 2\n",
    "    print(new_bound)\n",
    "    plt.axvline(x=new_bound, color = \"red\")\n",
    "    plt.plot()\n",
    "    \n",
    "    if(fun(new_bound)* fun(bound_r) < 0):\n",
    "        bound_l = new_bound\n",
    "    else:\n",
    "        bound_r = new_bound"
   ]
  },
  {
   "cell_type": "markdown",
   "metadata": {},
   "source": [
    "# Newton's Method\n",
    "Let us do someting a bit more efficient. Suppose that we want to solve  $x^3−x=1$  using Newtons's method with initial guess at  $x=2$ . If you start to get lost, PLOT!."
   ]
  },
  {
   "cell_type": "markdown",
   "metadata": {},
   "source": [
    "#### 1) What is the function that we are trying to find intercept? Plot it."
   ]
  },
  {
   "cell_type": "code",
   "execution_count": 17,
   "metadata": {},
   "outputs": [
    {
     "data": {
      "text/plain": [
       "[<matplotlib.lines.Line2D at 0x7f92cfaf0390>]"
      ]
     },
     "execution_count": 17,
     "metadata": {},
     "output_type": "execute_result"
    },
    {
     "data": {
      "image/png": "[encoded data removed]",
      "text/plain": [
       "<matplotlib.figure.Figure at 0x7f92cfaf0518>"
      ]
     },
     "metadata": {},
     "output_type": "display_data"
    }
   ],
   "source": [
    "new_x = np.linspace(-1, 2, 1000)\n",
    "new_y = (new_x**3)-new_x-1\n",
    "plt.grid()\n",
    "plt.plot(new_x, new_y)\n"
   ]
  },
  {
   "cell_type": "markdown",
   "metadata": {},
   "source": [
    "#### 2) What is the slope of the tangent line at $x=2$"
   ]
  },
  {
   "cell_type": "code",
   "execution_count": null,
   "metadata": {},
   "outputs": [],
   "source": [
    "3*4-1 = 11"
   ]
  },
  {
   "cell_type": "markdown",
   "metadata": {},
   "source": [
    "#### 3) What is the equation for the tangent line at  $x=2$ Plot it along with the function."
   ]
  },
  {
   "cell_type": "code",
   "execution_count": 20,
   "metadata": {},
   "outputs": [
    {
     "data": {
      "text/plain": [
       "[<matplotlib.lines.Line2D at 0x7f92cfa697b8>]"
      ]
     },
     "execution_count": 20,
     "metadata": {},
     "output_type": "execute_result"
    },
    {
     "data": {
      "image/png": "[encoded data removed]",
      "text/plain": [
       "<matplotlib.figure.Figure at 0x7f92cfa69198>"
      ]
     },
     "metadata": {},
     "output_type": "display_data"
    }
   ],
   "source": [
    "new_x = np.linspace(-1, 2, 1000)\n",
    "tang_x = np.linspace(-1, 2, 1000)\n",
    "new_y = (new_x**3)-new_x-1\n",
    "plt.grid()\n",
    "\n",
    "tang_y = 11*tang_x - 17\n",
    "\n",
    "plt.plot(tang_x, tang_y)\n",
    "plt.plot(new_x, new_y)"
   ]
  },
  {
   "cell_type": "markdown",
   "metadata": {},
   "source": [
    "#### 4) What is the intercept for that line? That's your new guess."
   ]
  },
  {
   "cell_type": "code",
   "execution_count": 21,
   "metadata": {},
   "outputs": [
    {
     "name": "stdout",
     "output_type": "stream",
     "text": [
      "1.5454545454545454\n"
     ]
    }
   ],
   "source": [
    "next_g = -5/11 + 2\n",
    "print(next_g)"
   ]
  },
  {
   "cell_type": "markdown",
   "metadata": {},
   "source": [
    "#### 5) Now combine everything in to one formula you should get something along the line of\n",
    "\n",
    "$$\n",
    "x_{n+1} = \\ldots - \\frac{\\ldots(x_n)}{\\ldots(x_n)}\n",
    "$$\n",
    "\n",
    "This is called update rule; how you get an improved answer from the previous guess."
   ]
  },
  {
   "cell_type": "code",
   "execution_count": null,
   "metadata": {},
   "outputs": [],
   "source": [
    "x_next = x_prev - y/m"
   ]
  },
  {
   "cell_type": "markdown",
   "metadata": {},
   "source": [
    "#### 6) Newton's method converges very very quickly. We will go through the derivation later on.\n",
    "Now find solution to $x^3−x=1$. Also as a plotting exercise try make something similar to this figure:\n",
    "\n",
    "Here is how I annotate the figure\n",
    "`plt.annotate('x%d'%i, xy=(x, 0), xytext=(x,-0.2), fontsize=18)`\n",
    "\n",
    "<img src=\"trythis.png\" width=\"500px\"/>"
   ]
  },
  {
   "cell_type": "code",
   "execution_count": 45,
   "metadata": {},
   "outputs": [
    {
     "name": "stdout",
     "output_type": "stream",
     "text": [
      "5\n",
      "1.1457550713749058\n",
      "0.15370493448007472\n",
      "0.004624917047829857\n",
      "1.3247190494171253\n"
     ]
    },
    {
     "data": {
      "image/png": "[encoded data removed]",
      "text/plain": [
       "<matplotlib.figure.Figure at 0x7f92cf347c88>"
      ]
     },
     "metadata": {},
     "output_type": "display_data"
    }
   ],
   "source": [
    "new_x = np.linspace(1.2, 2, 1000)\n",
    "tang_x = np.linspace(1.2, 2, 1000)\n",
    "new_y = (new_x**3)-new_x-1\n",
    "plt.grid()\n",
    "plt.axhline(y=0)\n",
    "\n",
    "def abl(x):\n",
    "    return 3*(x**2)-1\n",
    "    \n",
    "def y(x):\n",
    "    return x**3 -x -1\n",
    "\n",
    "\n",
    "\n",
    "plt.plot(new_x, new_y, color=\"red\")\n",
    "\n",
    "x_prev = 2\n",
    "\n",
    "for z in range(4):\n",
    "    print(y(x_prev))\n",
    "    plt.plot([x_prev, x_prev], [0, y(x_prev)])\n",
    "    x_next = x_prev - (y(x_prev)/abl(x_prev))\n",
    "    #plt.plot([x_prev, x_next], [f(x_prev), f(x_next)])\n",
    "    #plt.axvline(x=x_next)\n",
    "    x_prev = x_next\n",
    "    \n",
    "\n",
    "plt.plot()\n",
    "print(x_next)\n",
    "                                   \n",
    "\n",
    "\n"
   ]
  },
  {
   "cell_type": "markdown",
   "metadata": {},
   "source": [
    "#### 7) Solve $\\sqrt[3]{x}=0$ by hand. What's $x$?"
   ]
  },
  {
   "cell_type": "code",
   "execution_count": null,
   "metadata": {},
   "outputs": [],
   "source": []
  },
  {
   "cell_type": "markdown",
   "metadata": {},
   "source": [
    "#### 8) Try Newton's method on it.\n",
    "Try plotting as you go to see what's going on.\n",
    "\n",
    "Now you learn that even though it converges super fast. It doesn't guarantee to converge."
   ]
  },
  {
   "cell_type": "code",
   "execution_count": null,
   "metadata": {},
   "outputs": [],
   "source": []
  },
  {
   "cell_type": "markdown",
   "metadata": {},
   "source": [
    "# Bonus\n"
   ]
  },
  {
   "cell_type": "markdown",
   "metadata": {},
   "source": [
    "#### 1) Simplify (1+x)-1"
   ]
  },
  {
   "cell_type": "code",
   "execution_count": null,
   "metadata": {},
   "outputs": [],
   "source": []
  },
  {
   "cell_type": "markdown",
   "metadata": {},
   "source": [
    "#### 2) Then why is this false"
   ]
  },
  {
   "cell_type": "code",
   "execution_count": 3,
   "metadata": {},
   "outputs": [
    {
     "name": "stdout",
     "output_type": "stream",
     "text": [
      "1e-10\n",
      "False\n"
     ]
    }
   ],
   "source": [
    "x = 1e-10\n",
    "print (x)\n",
    "print ((1+x)-1 == x)"
   ]
  }
 ],
 "metadata": {
  "kernelspec": {
   "display_name": "Python 3",
   "language": "python",
   "name": "python3"
  },
  "language_info": {
   "codemirror_mode": {
    "name": "ipython",
    "version": 3
   },
   "file_extension": ".py",
   "mimetype": "text/x-python",
   "name": "python",
   "nbconvert_exporter": "python",
   "pygments_lexer": "ipython3",
   "version": "3.8.1"
  },
  "toc": {
   "colors": {
    "hover_highlight": "#DAA520",
    "running_highlight": "#FF0000",
    "selected_highlight": "#FFD700"
   },
   "moveMenuLeft": true,
   "nav_menu": {
    "height": "84px",
    "width": "252px"
   },
   "navigate_menu": true,
   "number_sections": false,
   "sideBar": true,
   "threshold": 4,
   "toc_cell": false,
   "toc_section_display": "block",
   "toc_window_display": false
  }
 },
 "nbformat": 4,
 "nbformat_minor": 1
}
