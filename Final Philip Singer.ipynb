{
 "cells": [
  {
   "cell_type": "markdown",
   "metadata": {},
   "source": [
    "## Rule\n",
    "- Open everything. No communication regarding exam.\n",
    "- You will be graded out of 450."
   ]
  },
  {
   "cell_type": "code",
   "execution_count": 1,
   "metadata": {
    "ExecuteTime": {
     "end_time": "2020-03-22T17:44:17.489140Z",
     "start_time": "2020-03-22T17:44:17.107812Z"
    }
   },
   "outputs": [],
   "source": [
    "import numpy as np\n",
    "from matplotlib import pyplot as plt"
   ]
  },
  {
   "cell_type": "markdown",
   "metadata": {},
   "source": [
    "## Problem 1: (100)\n",
    "Some Theory. Make the correct statement **bold**"
   ]
  },
  {
   "cell_type": "markdown",
   "metadata": {},
   "source": [
    "1. When we found that gradient descent does not converge. We should (increase/**decrease**) the learning rate.\n",
    "\n",
    "2. Gradient descent (guarantee/ **does not guarantee**) global minimum.\n",
    "\n",
    "3. Newton's Methods (guarantee/**does not guarantee**) convergence.\n",
    "\n",
    "4. Monte Carlo integration convergence (does/**does not**) depend on the number of dimension.\n",
    "\n",
    "5. Hill Climbing method (guarantee/ **does not guarantee**) global minimum."
   ]
  },
  {
   "cell_type": "markdown",
   "metadata": {},
   "source": [
    "## Problem 2:\n",
    "    \n",
    "### 2.1 (50)\n",
    "Find solutions to the following system of equation using Newton's method.\n",
    "$$\n",
    "x + \\sin(y) = 1 \\\\\n",
    "y^2 + \\sin(x) = 2\n",
    "$$\n",
    "\n",
    "Find both solutions. There are two.\n"
   ]
  },
  {
   "cell_type": "code",
   "execution_count": 2,
   "metadata": {},
   "outputs": [
    {
     "name": "stdout",
     "output_type": "stream",
     "text": [
      "result 1: (1.8518061190601822, -1.0194234220493739)\n",
      "result 2: (0.012960145441816378, 1.4096241404588696)\n"
     ]
    }
   ],
   "source": [
    "def u(x, y):\n",
    "    return x + np.sin(y) -1\n",
    "\n",
    "def v(x,y):\n",
    "    return y**2 + np.sin(x) -2\n",
    "\n",
    "def u_x(x, y):\n",
    "    return 1\n",
    "\n",
    "def u_y(x, y):\n",
    "    return np.cos(y)\n",
    "\n",
    "def v_x(x, y):\n",
    "    return np.cos(x)\n",
    "\n",
    "def v_y(x,y):\n",
    "    return 2*y\n",
    "\n",
    "def newton_2D(initial, n):\n",
    "    x_s, y_s = initial\n",
    "    for i in range(n):\n",
    "        alpha = np.array([-u(x_s, y_s), -v(x_s, y_s)])\n",
    "        beta = np.array([[u_x(x_s, y_s), u_y(x_s, y_s)],\n",
    "                        [v_x(x_s, y_s), v_y(x_s, y_s)]])\n",
    "        x, y = np.linalg.solve(beta, alpha)\n",
    "        x_s = x_s +x\n",
    "        y_s = y_s +y\n",
    "    \n",
    "    return x_s, y_s\n",
    "\n",
    "print(\"result 1:\", newton_2D((0.,-2.), 20))\n",
    "print(\"result 2:\", newton_2D((0.,2.), 20))\n",
    "    "
   ]
  },
  {
   "cell_type": "markdown",
   "metadata": {},
   "source": [
    "### 2.2(50)\n",
    "    \n",
    "$$\n",
    "\\int_C \\sin(x^2)\\cos(y^2) \\;\\text{d}A\n",
    "$$\n",
    "\n",
    "where C is the region defined by **circle of radius 1 centered at $x=1, y=2$**"
   ]
  },
  {
   "cell_type": "code",
   "execution_count": 3,
   "metadata": {},
   "outputs": [
    {
     "name": "stdout",
     "output_type": "stream",
     "text": [
      "-0.1371362202761555\n"
     ]
    }
   ],
   "source": [
    "def f(x, y):\n",
    "    return np.sin(x**2)*np.cos(y**2)\n",
    "\n",
    "n = 100000\n",
    "x = (np.random.rand(n)*2)\n",
    "y = (np.random.rand(n)*2)+1\n",
    "\n",
    "res = 0\n",
    "for i in range(n):\n",
    "    if (((x[i]-1)**2)+((y[i]-2)**2) <= (1**2)):\n",
    "        res += f(x[i],y[i])\n",
    "total_vol = (2**2)/n\n",
    "res *= total_vol\n",
    "print(res)\n",
    "\n"
   ]
  },
  {
   "cell_type": "markdown",
   "metadata": {},
   "source": [
    "## Problem 3\n",
    "\n",
    "We believe that the data be written as\n",
    "\n",
    "$$y = A \\exp(\\frac{-(x-\\mu)^2}{\\sigma^2}) + Bx + C$$\n",
    "\n",
    "Find $A, B, C, \\mu$ and $\\sigma$ which gives you the best fit.\n",
    "\n",
    "Be careful with starting parameter."
   ]
  },
  {
   "cell_type": "code",
   "execution_count": 4,
   "metadata": {
    "ExecuteTime": {
     "end_time": "2020-03-22T17:46:37.341188Z",
     "start_time": "2020-03-22T17:46:37.300664Z"
    }
   },
   "outputs": [],
   "source": [
    "p3_xs = np.array([-5.        , -4.79591837, -4.59183673, -4.3877551 , -4.18367347,\n",
    "       -3.97959184, -3.7755102 , -3.57142857, -3.36734694, -3.16326531,\n",
    "       -2.95918367, -2.75510204, -2.55102041, -2.34693878, -2.14285714,\n",
    "       -1.93877551, -1.73469388, -1.53061224, -1.32653061, -1.12244898,\n",
    "       -0.91836735, -0.71428571, -0.51020408, -0.30612245, -0.10204082,\n",
    "        0.10204082,  0.30612245,  0.51020408,  0.71428571,  0.91836735,\n",
    "        1.12244898,  1.32653061,  1.53061224,  1.73469388,  1.93877551,\n",
    "        2.14285714,  2.34693878,  2.55102041,  2.75510204,  2.95918367,\n",
    "        3.16326531,  3.36734694,  3.57142857,  3.7755102 ,  3.97959184,\n",
    "        4.18367347,  4.3877551 ,  4.59183673,  4.79591837,  5.        ])\n",
    "p3_ys = np.array([-3.68772107, -3.67941398, -3.1462531 , -2.95653641, -3.10147411,\n",
    "       -2.91346186, -2.88410695, -2.71646963, -2.49963456, -2.50369043,\n",
    "       -2.25090053, -2.56505422, -2.13260531, -2.27992346, -2.14562936,\n",
    "       -2.12596261, -1.35278898, -1.71622788, -1.57028003, -1.65361591,\n",
    "       -0.9234219 , -0.88144526, -0.77234316, -1.03093821, -0.54947754,\n",
    "        0.50733427, -0.00471332,  0.4976489 ,  1.51112504,  1.7035049 ,\n",
    "        2.06354253,  3.08385693,  2.51778002,  2.63658336,  3.18624835,\n",
    "        2.54578237,  2.33866124,  2.31325498,  2.29221991,  1.59749764,\n",
    "        1.83940422,  1.2050842 ,  1.20128484,  1.50524725,  1.34539803,\n",
    "        0.98641652,  1.24856525,  1.15139335,  1.47977891,  1.4729804 ])"
   ]
  },
  {
   "cell_type": "code",
   "execution_count": 5,
   "metadata": {
    "ExecuteTime": {
     "end_time": "2020-03-22T17:46:49.344882Z",
     "start_time": "2020-03-22T17:46:48.955365Z"
    }
   },
   "outputs": [
    {
     "data": {
      "text/plain": [
       "[<matplotlib.lines.Line2D at 0x1ea79c051c0>]"
      ]
     },
     "execution_count": 5,
     "metadata": {},
     "output_type": "execute_result"
    },
    {
     "data": {
      "image/png": "[encoded data removed]",
      "text/plain": [
       "<Figure size 432x288 with 1 Axes>"
      ]
     },
     "metadata": {
      "needs_background": "light"
     },
     "output_type": "display_data"
    }
   ],
   "source": [
    "plt.plot(p3_xs, p3_ys, '.')"
   ]
  },
  {
   "cell_type": "code",
   "execution_count": 6,
   "metadata": {},
   "outputs": [
    {
     "name": "stdout",
     "output_type": "stream",
     "text": [
      "[ 2.97964504  0.49529678 -0.97113259  1.66142546  1.42026975]\n"
     ]
    },
    {
     "data": {
      "text/plain": [
       "[<matplotlib.lines.Line2D at 0x1ea086c8df0>]"
      ]
     },
     "execution_count": 6,
     "metadata": {},
     "output_type": "execute_result"
    },
    {
     "data": {
      "image/png": "[encoded data removed]",
      "text/plain": [
       "<Figure size 432x288 with 1 Axes>"
      ]
     },
     "metadata": {
      "needs_background": "light"
     },
     "output_type": "display_data"
    }
   ],
   "source": [
    "import scipy.optimize\n",
    "\n",
    "def cost(v):\n",
    "    A, B, C, u, s = v\n",
    "    return np.sum(((A*np.exp(-(p3_xs-u)**2/(s**2))+B*p3_xs+C-p3_ys)**2))\n",
    "\n",
    "res = scipy.optimize.minimize(cost,(1,1,1,1,1))\n",
    "A, B, C, u, s = res.x\n",
    "print(res.x)\n",
    "\n",
    "plt.plot(p3_xs, p3_ys,'.r')\n",
    "x_s = np.linspace(-5, 5)\n",
    "plt.plot(x_s,(A*np.exp(-(x_s-u)**2/(s**2))+B*x_s+C))"
   ]
  },
  {
   "cell_type": "markdown",
   "metadata": {},
   "source": [
    "## Problem 4: Simulation (100)\n",
    "\n",
    "Consider a game where the player toss 5 dices at a time. Each turn his score is the maximum of the 5 dices. For example, if the 5 dices are [3,5,2,1,5] then his score is 5."
   ]
  },
  {
   "cell_type": "markdown",
   "metadata": {},
   "source": [
    "1) Find the probabality that his score is below or equal 3."
   ]
  },
  {
   "cell_type": "code",
   "execution_count": 7,
   "metadata": {},
   "outputs": [
    {
     "name": "stdout",
     "output_type": "stream",
     "text": [
      "0.028\n"
     ]
    }
   ],
   "source": [
    "def dice():\n",
    "    x = np.random.rand()\n",
    "    if x < 1/6:\n",
    "        return 1\n",
    "    elif x < 2/6:\n",
    "        return 2\n",
    "    elif x < 0.5:\n",
    "        return 3\n",
    "    elif x < 4/6:\n",
    "        return 4\n",
    "    elif x < 5/6:\n",
    "        return 5\n",
    "    else:\n",
    "        return 6\n",
    "    \n",
    "def score():\n",
    "    tosses = []\n",
    "    for i in range(5):\n",
    "        tosses.append(dice())\n",
    "    maxi = max(tosses)\n",
    "    return maxi\n",
    "\n",
    "def probability(x,n):\n",
    "    count = 0\n",
    "    for i in range(n):\n",
    "        if score() <= x:\n",
    "            count += 1\n",
    "    \n",
    "    return count/n\n",
    "\n",
    "print(probability(3, 1000))"
   ]
  },
  {
   "cell_type": "markdown",
   "metadata": {},
   "source": [
    "2) What is the expected value of his score?"
   ]
  },
  {
   "cell_type": "code",
   "execution_count": 8,
   "metadata": {},
   "outputs": [
    {
     "name": "stdout",
     "output_type": "stream",
     "text": [
      "5.4254\n"
     ]
    }
   ],
   "source": [
    "def expected(n):\n",
    "    value = 0\n",
    "    for _ in range(n):\n",
    "        value += score()\n",
    "    return value/n\n",
    "\n",
    "print(expected(10000))"
   ]
  },
  {
   "cell_type": "markdown",
   "metadata": {},
   "source": [
    "### Problem 5: Hill Climbing(100)"
   ]
  },
  {
   "cell_type": "markdown",
   "metadata": {},
   "source": [
    "Food delivery service is now quite popular given social distancing adopted by many countries. Let's us try to solve lunch time problem for a Juni's Kitchen: a startup company delivering lunch to people.\n",
    "\n",
    "Juni's Kitchen has a **centralized** kitchen where they cook all the food at **(0,0)**. The delivery motocycles need to pick up the food from this centralized location and travel to each customer house to deliver lunch.\n",
    "\n",
    "**The company only have 6 motorcycle**. It is very economical that each motorcycle pick up **all** the lunch that each motorcycle needs to deliver. Then deliver them. This way the motorcycle doesn't have to waste gas coming back to the central location to pick up food.\n",
    "\n",
    "Consider a lunch day where there are **60 deliveries to be made**. The job is spread out evenly so that each motorcycle needs to make **10 deliveries each**. The location of each delivery is given(xs, ys) list in the list below.\n",
    "\n",
    "Since Juni company is a startup. They try very best to save on money. The cost of delivery is proportional to the total distance$\\sqrt{\\Delta x^2 + \\Delta y^2}$ the motorcycles traveling\n",
    "    \n",
    "    - from the kitchen center to the first location\n",
    "    - from delivery location to delivery location\n",
    "    - from the final delivery location back to the kitchen center\n",
    "    \n",
    "Find and plot a path for the 6 motorcycles that save Juni's money. **I'm not looking for the global minimum just a decent path is enough**. (I accept anything below 300)\n",
    "\n",
    "**Note**\n",
    "\n",
    "If you have nothing better to do, in the real world application, spreading out the job to 10delivery/motorcycle is a not a very good constraint. The better contsraint would be to limit the delivery for each motorcycle to 20 delivery max/motorcycle(each motorcycle will get different amount of job)"
   ]
  },
  {
   "cell_type": "code",
   "execution_count": 9,
   "metadata": {
    "ExecuteTime": {
     "end_time": "2020-03-22T19:09:30.938216Z",
     "start_time": "2020-03-22T19:09:30.502672Z"
    }
   },
   "outputs": [
    {
     "name": "stdout",
     "output_type": "stream",
     "text": [
      "[ -5.42815302   4.98672723   1.41489249  -7.53147357  -2.89300126\n",
      "   8.25718269 -12.13339622  -2.14456314   6.32968129  -4.33370201\n",
      "  -3.39443076  -0.47354484   7.45694813  -3.19450998  -2.2199098\n",
      "  -2.17175638  11.02965041  10.93393044   5.02026949   1.930932\n",
      "   3.68684288   7.45366014  -4.67916934   5.87914522  -6.26940334\n",
      "  -3.18875751   4.53552598  -7.1434035   -0.7003436   -4.30877448\n",
      "  -1.27809685 -13.99294553  -8.85766552  -3.49938617   4.63731216\n",
      "  -0.86817841   0.01422958   3.44111356  -4.39768172   1.41813662\n",
      "  -4.02683259  -8.63834747  -1.95449897   2.86902931   1.69294525\n",
      "  -0.05915247  11.96182633   2.0645608    4.89368003  11.19071669\n",
      "  -6.47042662  -5.19394105   8.71856113  -3.99031368   0.14841615\n",
      "   5.34657985   4.45353196   8.77443091   7.47822069   5.34696335]\n"
     ]
    },
    {
     "data": {
      "image/png": "[encoded data removed]",
      "text/plain": [
       "<Figure size 432x288 with 1 Axes>"
      ]
     },
     "metadata": {
      "needs_background": "light"
     },
     "output_type": "display_data"
    }
   ],
   "source": [
    "np.random.seed(123)\n",
    "xs = np.random.randn(60)*5\n",
    "ys = np.random.randn(60)*5\n",
    "plt.plot(xs, ys, '.r') # These people are hungry\n",
    "plt.plot(0,0, 'ob') # The kitchen center\n",
    "print(xs)"
   ]
  },
  {
   "cell_type": "code",
   "execution_count": 10,
   "metadata": {},
   "outputs": [
    {
     "name": "stdout",
     "output_type": "stream",
     "text": [
      "global distance: 253.69359013412264\n"
     ]
    },
    {
     "data": {
      "text/plain": [
       "[<matplotlib.lines.Line2D at 0x1ea087720a0>]"
      ]
     },
     "execution_count": 10,
     "metadata": {},
     "output_type": "execute_result"
    },
    {
     "data": {
      "image/png": "[encoded data removed]",
      "text/plain": [
       "<Figure size 432x288 with 1 Axes>"
      ]
     },
     "metadata": {
      "needs_background": "light"
     },
     "output_type": "display_data"
    }
   ],
   "source": [
    "def distance(v1, v2):\n",
    "    x1, y1 = v1\n",
    "    x2, y2 = v2\n",
    "    return np.sqrt((x1-x2)**2 + (y1-y2)**2)\n",
    "\n",
    "def distance2(px, py):\n",
    "    kitchen = (0,0)\n",
    "    customer = 0\n",
    "    dist = 0\n",
    "    for entry in range(0, len(px)):\n",
    "        if customer == 0:\n",
    "            dist += distance(kitchen, (px[entry], py[entry]))\n",
    "            customer += 1\n",
    "        elif customer == 9:\n",
    "            dist += distance(kitchen, (px[entry], py[entry]))\n",
    "            dist += distance((px[(entry-1)], py[(entry-1)]), (px[entry], py[entry]))\n",
    "            customer = 0\n",
    "        else:\n",
    "            dist += distance((px[(entry-1)], py[(entry-1)]), (px[entry], py[entry]))\n",
    "            customer += 1\n",
    "    return dist\n",
    "        \n",
    "\n",
    "def swap(px, py):\n",
    "    newX = px.copy()\n",
    "    newY = py.copy()\n",
    "    \n",
    "    ind1 = np.random.randint(len(px))\n",
    "    ind2 = np.random.randint(len(px))\n",
    "    \n",
    "    tmp = newX[ind1]\n",
    "    newX[ind1] = newX[ind2]\n",
    "    newX[ind2] = tmp\n",
    "    \n",
    "    tmp = newY[ind1]\n",
    "    newY[ind1] = newY[ind2]\n",
    "    newY[ind2] = tmp\n",
    "\n",
    "    return newX, newY\n",
    "\n",
    "def evaluate(n):\n",
    "    cy = ys\n",
    "    cx = xs\n",
    "    distance = distance2(xs, ys)\n",
    "    for i in range(n):\n",
    "        newX, newY = swap(cx, cy)\n",
    "        if distance > distance2(newX, newY):\n",
    "            distance = distance2(newX, newY)\n",
    "            cy = newY\n",
    "            cx = newX\n",
    "            #print(\"archieve\")\n",
    "    return distance, cx, cy\n",
    "\n",
    "\n",
    "\n",
    "final_dist, rX, rY = evaluate(10000)\n",
    "print(\"global distance:\", final_dist)\n",
    "\n",
    "\n",
    "# X processing for plotting\n",
    "routesX = list(np.split(rX, 6))\n",
    "waysX = []\n",
    "for route in routesX:\n",
    "    route = list(route)\n",
    "    route.insert(0,0)\n",
    "    route.append(0)\n",
    "    waysX.append(route)\n",
    "\n",
    "\n",
    "# Y processing for plotting\n",
    "routesY = list(np.split(rY, 6))\n",
    "waysY = []\n",
    "for route in routesY:\n",
    "    route = list(route)\n",
    "    route.insert(0,0)\n",
    "    route.append(0)\n",
    "    waysY.append(route)\n",
    "\n",
    "\n",
    "for i in range(len(waysX)):\n",
    "    plt.plot(waysX[i], waysY[i], alpha= 0.5)\n",
    "\n",
    "np.random.seed(123)\n",
    "xs = np.random.randn(60)*5\n",
    "ys = np.random.randn(60)*5\n",
    "plt.plot(xs, ys, '.r') # These people are hungry\n",
    "plt.plot(0,0, 'ob') # The kitchen center\n"
   ]
  },
  {
   "cell_type": "code",
   "execution_count": null,
   "metadata": {},
   "outputs": [],
   "source": []
  }
 ],
 "metadata": {
  "hide_input": false,
  "kernelspec": {
   "display_name": "Python 3",
   "language": "python",
   "name": "python3"
  },
  "language_info": {
   "codemirror_mode": {
    "name": "ipython",
    "version": 3
   },
   "file_extension": ".py",
   "mimetype": "text/x-python",
   "name": "python",
   "nbconvert_exporter": "python",
   "pygments_lexer": "ipython3",
   "version": "3.8.1"
  },
  "toc": {
   "colors": {
    "hover_highlight": "#DAA520",
    "running_highlight": "#FF0000",
    "selected_highlight": "#FFD700"
   },
   "moveMenuLeft": true,
   "nav_menu": {
    "height": "120px",
    "width": "252px"
   },
   "navigate_menu": true,
   "number_sections": false,
   "sideBar": true,
   "threshold": 4,
   "toc_cell": false,
   "toc_section_display": "block",
   "toc_window_display": false
  }
 },
 "nbformat": 4,
 "nbformat_minor": 2
}
