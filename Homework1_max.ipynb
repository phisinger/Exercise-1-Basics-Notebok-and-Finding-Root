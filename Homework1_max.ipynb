{
 "cells": [
  {
   "cell_type": "code",
   "execution_count": 9,
   "metadata": {},
   "outputs": [],
   "source": [
    "%matplotlib inline\n",
    "import math\n",
    "import numpy as np\n",
    "from matplotlib import pyplot as plt"
   ]
  },
  {
   "cell_type": "markdown",
   "metadata": {},
   "source": [
    "# Homework"
   ]
  },
  {
   "cell_type": "markdown",
   "metadata": {},
   "source": [
    "## Problem 1\n",
    "\n",
    "Give me the solution to $x = e^{-x}$ that is $10^{-6}$ using bisection method.\n",
    "\n",
    "Pick the initial bound from the following and explain why you can't pick the other one.\n",
    "Bound A: (-1,0), Bound B (0,1)\n",
    "\n",
    "#### Answer:\n",
    "\n",
    "We pick Bound B, because $e^{-x}$ can never be negative, so it doesn't make sense to check $x = e^{-x}$ for the negative values in [-1,0]"
   ]
  },
  {
   "cell_type": "code",
   "execution_count": 3,
   "metadata": {},
   "outputs": [
    {
     "ename": "NameError",
     "evalue": "name 'np' is not defined",
     "output_type": "error",
     "traceback": [
      "\u001b[1;31m---------------------------------------------------------------------------\u001b[0m",
      "\u001b[1;31mNameError\u001b[0m                                 Traceback (most recent call last)",
      "\u001b[1;32m<ipython-input-3-227b6f01c482>\u001b[0m in \u001b[0;36m<module>\u001b[1;34m\u001b[0m\n\u001b[0;32m     25\u001b[0m     \u001b[1;32mreturn\u001b[0m \u001b[0mmiddle\u001b[0m\u001b[1;33m\u001b[0m\u001b[1;33m\u001b[0m\u001b[0m\n\u001b[0;32m     26\u001b[0m \u001b[1;33m\u001b[0m\u001b[0m\n\u001b[1;32m---> 27\u001b[1;33m \u001b[0mroot\u001b[0m\u001b[1;33m=\u001b[0m \u001b[0mbisection\u001b[0m\u001b[1;33m(\u001b[0m\u001b[0mg\u001b[0m\u001b[1;33m,\u001b[0m\u001b[0ml_bound\u001b[0m\u001b[1;33m,\u001b[0m\u001b[0mr_bound\u001b[0m\u001b[1;33m,\u001b[0m\u001b[0maccuracy\u001b[0m\u001b[1;33m)\u001b[0m\u001b[1;33m\u001b[0m\u001b[1;33m\u001b[0m\u001b[0m\n\u001b[0m\u001b[0;32m     28\u001b[0m \u001b[0mprint\u001b[0m\u001b[1;33m(\u001b[0m\u001b[1;34m\"Answer for x is approx. : \"\u001b[0m\u001b[1;33m,\u001b[0m \u001b[0mroot\u001b[0m\u001b[1;33m)\u001b[0m\u001b[1;33m\u001b[0m\u001b[1;33m\u001b[0m\u001b[0m\n\u001b[0;32m     29\u001b[0m \u001b[0mprint\u001b[0m\u001b[1;33m(\u001b[0m\u001b[1;34m\"Function value at this point is:\"\u001b[0m \u001b[1;33m,\u001b[0m \u001b[0mg\u001b[0m\u001b[1;33m(\u001b[0m\u001b[0mroot\u001b[0m\u001b[1;33m)\u001b[0m\u001b[1;33m)\u001b[0m\u001b[1;33m\u001b[0m\u001b[1;33m\u001b[0m\u001b[0m\n",
      "\u001b[1;32m<ipython-input-3-227b6f01c482>\u001b[0m in \u001b[0;36mbisection\u001b[1;34m(f, l_bound, r_bound, accuracy)\u001b[0m\n\u001b[0;32m     12\u001b[0m         \u001b[0mmiddle\u001b[0m\u001b[1;33m=\u001b[0m \u001b[0ml_bound\u001b[0m \u001b[1;33m+\u001b[0m \u001b[1;33m(\u001b[0m\u001b[0mr_bound\u001b[0m \u001b[1;33m-\u001b[0m \u001b[0ml_bound\u001b[0m\u001b[1;33m)\u001b[0m \u001b[1;33m/\u001b[0m\u001b[1;36m2\u001b[0m\u001b[1;33m\u001b[0m\u001b[1;33m\u001b[0m\u001b[0m\n\u001b[0;32m     13\u001b[0m         \u001b[1;31m#f_middle= f(middle)\u001b[0m\u001b[1;33m\u001b[0m\u001b[1;33m\u001b[0m\u001b[1;33m\u001b[0m\u001b[0m\n\u001b[1;32m---> 14\u001b[1;33m         \u001b[1;32mif\u001b[0m\u001b[1;33m(\u001b[0m\u001b[0mf\u001b[0m\u001b[1;33m(\u001b[0m\u001b[0ml_bound\u001b[0m\u001b[1;33m)\u001b[0m\u001b[1;33m*\u001b[0m\u001b[0mf\u001b[0m\u001b[1;33m(\u001b[0m\u001b[0mr_bound\u001b[0m\u001b[1;33m)\u001b[0m\u001b[1;33m>\u001b[0m\u001b[1;36m0\u001b[0m\u001b[1;33m)\u001b[0m\u001b[1;33m:\u001b[0m\u001b[1;33m\u001b[0m\u001b[1;33m\u001b[0m\u001b[0m\n\u001b[0m\u001b[0;32m     15\u001b[0m             \u001b[1;31m#print(\"no root here!\")\u001b[0m\u001b[1;33m\u001b[0m\u001b[1;33m\u001b[0m\u001b[1;33m\u001b[0m\u001b[0m\n\u001b[0;32m     16\u001b[0m             \u001b[1;32mreturn\u001b[0m \u001b[1;32mFalse\u001b[0m\u001b[1;33m\u001b[0m\u001b[1;33m\u001b[0m\u001b[0m\n",
      "\u001b[1;32m<ipython-input-3-227b6f01c482>\u001b[0m in \u001b[0;36mg\u001b[1;34m(x)\u001b[0m\n\u001b[0;32m      5\u001b[0m \u001b[1;33m\u001b[0m\u001b[0m\n\u001b[0;32m      6\u001b[0m \u001b[1;32mdef\u001b[0m \u001b[0mg\u001b[0m\u001b[1;33m(\u001b[0m\u001b[0mx\u001b[0m\u001b[1;33m)\u001b[0m\u001b[1;33m:\u001b[0m\u001b[1;33m\u001b[0m\u001b[1;33m\u001b[0m\u001b[0m\n\u001b[1;32m----> 7\u001b[1;33m     \u001b[1;32mreturn\u001b[0m \u001b[0mnp\u001b[0m\u001b[1;33m.\u001b[0m\u001b[0mexp\u001b[0m\u001b[1;33m(\u001b[0m\u001b[1;33m-\u001b[0m\u001b[0mx\u001b[0m\u001b[1;33m)\u001b[0m\u001b[1;33m-\u001b[0m\u001b[0mx\u001b[0m\u001b[1;33m\u001b[0m\u001b[1;33m\u001b[0m\u001b[0m\n\u001b[0m\u001b[0;32m      8\u001b[0m \u001b[1;33m\u001b[0m\u001b[0m\n\u001b[0;32m      9\u001b[0m \u001b[1;32mdef\u001b[0m \u001b[0mbisection\u001b[0m\u001b[1;33m(\u001b[0m\u001b[0mf\u001b[0m\u001b[1;33m,\u001b[0m\u001b[0ml_bound\u001b[0m\u001b[1;33m,\u001b[0m\u001b[0mr_bound\u001b[0m\u001b[1;33m,\u001b[0m\u001b[0maccuracy\u001b[0m\u001b[1;33m)\u001b[0m\u001b[1;33m:\u001b[0m\u001b[1;33m\u001b[0m\u001b[1;33m\u001b[0m\u001b[0m\n",
      "\u001b[1;31mNameError\u001b[0m: name 'np' is not defined"
     ]
    }
   ],
   "source": [
    "l_bound= 0 #the left bound \n",
    "r_bound= 1 #the right bound\n",
    "accuracy = 10**-6; #the accuracy we want\n",
    "\n",
    "\n",
    "def g(x):\n",
    "    return np.exp(-x)-x\n",
    "\n",
    "def bisection(f,l_bound,r_bound,accuracy):\n",
    "    error = (r_bound - l_bound) /2\n",
    "    while 1:\n",
    "        middle= l_bound + (r_bound - l_bound) /2\n",
    "        #f_middle= f(middle)\n",
    "        if(f(l_bound)*f(r_bound)>0):\n",
    "            #print(\"no root here!\")\n",
    "            return False\n",
    "        elif (f(middle)*f(l_bound)>0):\n",
    "            l_bound=middle    \n",
    "        elif(f(middle)*f(r_bound)>0):\n",
    "            r_bound=middle\n",
    "            \n",
    "        if(error < accuracy): #python version of do while loop\n",
    "            break; #we have to check condition before changing error, because in next line it will be the error of the next step!\n",
    "        error= error/2 #if we check in while head, that will give us too little accuracy!\n",
    "    return middle\n",
    "        \n",
    "root= bisection(g,l_bound,r_bound,accuracy)\n",
    "print(\"Answer for x is approx. : \", root)        \n",
    "print(\"Function value at this point is:\" , g(root))\n",
    "#print(np.abs(g(root))<accuracy) #just for testing"
   ]
  },
  {
   "cell_type": "markdown",
   "metadata": {},
   "source": [
    "## Problem 2\n",
    "Find all value of $x \\in [0,1]$ such that $f(x)=0$ for\n",
    "\n",
    "$f(x) = -0.000216747 + 0.0072868 x - 0.0977383 x^2 + 0.664685 x^3 - \n",
    " 2.40773 x^4 + 4.46766 x^5 - 3.7091 x^6 + x^7$\n",
    " \n",
    "Make sure your answers are at most $10^{-6}$ away from the real solution."
   ]
  },
  {
   "cell_type": "code",
   "execution_count": 11,
   "metadata": {},
   "outputs": [
    {
     "name": "stdout",
     "output_type": "stream",
     "text": [
      "[0.1221661376953125, 0.2200286865234375, 0.3332989501953124, 0.7854095458984375]\n"
     ]
    }
   ],
   "source": [
    "def f(x):\n",
    "    return -0.000216747 + 0.0072868*x - 0.0977383*x**2 + 0.664685*x**3 - 2.40773*x**4 + 4.46766*x**5 - 3.7091*x**6 + x**7\n",
    "\n",
    "roots=[]#bisection(f,0,1,1e-6)\n",
    "\n",
    "for i in range(100):\n",
    "    res= bisection(f,i/100,((i+1)/100),1e-6)\n",
    "    if(res):\n",
    "        roots.append(res)\n",
    "print (roots)\n"
   ]
  },
  {
   "cell_type": "markdown",
   "metadata": {},
   "source": [
    "2.1) Find all the local minima and maxima of the above function. How do you figure out whether it is a local maximum or local minimum\n",
    "\n",
    "#### Answer:\n",
    "\n",
    "You can find the extrem points by finding the roots of f prime and their type by the value of f double prime at this point"
   ]
  },
  {
   "cell_type": "code",
   "execution_count": 12,
   "metadata": {
    "scrolled": true
   },
   "outputs": [
    {
     "name": "stdout",
     "output_type": "stream",
     "text": [
      "Local Maximum in 0.19140808105468748 with Value 1.3690740025168456e-06\n",
      "Local Minimum in  0.29706604003906245 with Value -1.2147132582967151e-05\n",
      "Local Maximum in 0.6817852783203125 with Value 0.0038258083169440266\n"
     ]
    },
    {
     "data": {
      "image/png": "[encoded data removed]",
      "text/plain": [
       "<Figure size 432x288 with 1 Axes>"
      ]
     },
     "metadata": {
      "needs_background": "light"
     },
     "output_type": "display_data"
    }
   ],
   "source": [
    "def f_prime(x):\n",
    "    return 0.0072868 - 0.195477 *x + 1.99406* x**2 - 9.63092 *x**3 + 22.3383 *x**4 - 22.2546 *x**5 + 7 *x**6\n",
    "\n",
    "def f_doublePrime(x):\n",
    "    return -0.195477 + 3.98812 *x - 28.8928 *x**2 + 89.3532 *x**3 - 111.273 *x**4 + 42 *x**5\n",
    "\n",
    "\n",
    "\n",
    "xs=np.linspace(0,1,20)\n",
    "plt.plot(xs,f_prime(xs))\n",
    "plt.axhline(0,color='red') #where f_prime=0, f has a possible extreme point\n",
    "plt.ylim(-0.08,0.05)\n",
    "extremePoints=[]\n",
    "for i in range(100):\n",
    "    res= bisection(f_prime,i/100,((i+1)/100),1e-6)\n",
    "    if(res):\n",
    "        extremePoints.append(res)\n",
    "#print(extremePoints)\n",
    "for point in extremePoints:\n",
    "    print(\"Local Minimum in \" if (f_doublePrime(point)>0) else \"Local Maximum in\", point , \"with Value\", f(point))"
   ]
  },
  {
   "cell_type": "markdown",
   "metadata": {},
   "source": [
    "2.2) What is the `global maximum` and `global minimum` of the function above within the range $x\\in[0,1]$"
   ]
  },
  {
   "cell_type": "code",
   "execution_count": 13,
   "metadata": {},
   "outputs": [
    {
     "name": "stdout",
     "output_type": "stream",
     "text": [
      "[1.3690740025168456e-06, -1.2147132582967151e-05, 0.0038258083169440266, -0.000216747, -0.07515324699999937]\n",
      "Global Maximum is 0.0038258083169440266\n",
      "Global Minimum is -0.07515324699999937\n"
     ]
    }
   ],
   "source": [
    "candidates=extremePoints.copy()\n",
    "candidates.extend([0,1]) #but in boundary points, those are potential max or mins as well\n",
    "candidateValues=[f(point) for point in candidates]\n",
    "print(candidateValues)\n",
    "\n",
    "print(\"Global Maximum is\", max(candidateValues))\n",
    "print(\"Global Minimum is\", min(candidateValues))\n"
   ]
  },
  {
   "cell_type": "markdown",
   "metadata": {},
   "source": [
    "## Problem 3\n",
    "In quantum physics, when finding a bound state for a finite potential well one would end up with the following equation(Yes E is negative):\n",
    "\n",
    "$$\n",
    "\\sqrt{\\frac{-E}{E+V_0}} = \\tan \\sqrt{2m \\frac{E+V_0}{\\hbar^2} a}\n",
    "$$\n",
    "\n",
    "The goal is to find all Energy($E$) that satisfy this equation.\n",
    "For simplicity, let\n",
    "- $V_0 = 1$\n",
    "- $m = 1$\n",
    "- $a = 1$\n",
    "- $\\hbar = 1$(Yes this is called natural unit)\n",
    "\n",
    "$$\n",
    "    \\sqrt{\\frac{-E}{E+1}} = \\tan \\sqrt{2(E+1)}\n",
    "$$\n",
    "\n",
    "Find the value for $E\\in (-1.0, 0)$ which satisfy the equation above). Make sure you accuracy is $<\\pm10^{-4}$\n"
   ]
  },
  {
   "cell_type": "code",
   "execution_count": 14,
   "metadata": {},
   "outputs": [
    {
     "data": {
      "text/plain": [
       "[<matplotlib.lines.Line2D at 0x1c436549048>]"
      ]
     },
     "execution_count": 14,
     "metadata": {},
     "output_type": "execute_result"
    },
    {
     "data": {
      "image/png": "[encoded data removed]",
      "text/plain": [
       "<Figure size 432x288 with 1 Axes>"
      ]
     },
     "metadata": {
      "needs_background": "light"
     },
     "output_type": "display_data"
    }
   ],
   "source": [
    "def f(x):\n",
    "    return math.sqrt(-x/(x+1))\n",
    "def g(x):\n",
    "    return math.tan(math.sqrt(2*(x + 1)))\n",
    "\n",
    "xs = np.linspace(-0.999,-0.1, 100)\n",
    "fx = [f(x) for x in xs]\n",
    "gx = [g(x) for x in xs]\n",
    "plt.plot(xs,fx)\n",
    "plt.plot(xs,gx)"
   ]
  },
  {
   "cell_type": "markdown",
   "metadata": {},
   "source": [
    "## Problem 4\n",
    "Ply quit programming and decide to be a Apple(fruit) shop owner. He bought 1000 apples everyday and try to sell it. The probability $k$ customer want Ply's apple(one each) is given by Poisson distribution:\n",
    "\n",
    "$$\n",
    "    P(k; \\lambda) = \\frac{\\lambda^k \\exp(-\\lambda)}{k!}\n",
    "$$\n",
    "\n",
    "Where $\\lambda$ is an parameter that represent the mean of number of people that want Ply's apple each day.\n",
    "\n",
    "After selling apples for 2000 days Ply found that his 1000 apples a day are sold out 600 days out of 2000 days.\n",
    "\n",
    "The goal for this problem is to figure out how he should change the number of apples he bought in a day.\n",
    "\n",
    "- In case you are curious https://en.wikipedia.org/wiki/Poisson_distribution. The true distribution of this selling apple process should be binomial distribution but with large enough customer and low enough probability of an individual buying an apple this is an excellent approximatoin."
   ]
  },
  {
   "cell_type": "markdown",
   "metadata": {
    "collapsed": true
   },
   "source": [
    "4.1) You may find that if you try to code poisson distribution directly. It will not work with large number.\n",
    "$$\n",
    "    P(k; \\lambda) = \\frac{\\lambda^k \\exp(-\\lambda)}{k!}\n",
    "$$\n",
    "\n",
    "Explain briefly why python complains\n",
    "\n",
    "#### Answer:\n",
    "The factorial of 1000 is a huge number, which overflows the length a float can hold. Therefore Python can't convert the number to that format. biggest number that a float can hold is 1.7976931348623157e+308, which is less then even 171! ."
   ]
  },
  {
   "cell_type": "code",
   "execution_count": 15,
   "metadata": {},
   "outputs": [],
   "source": [
    "import math\n",
    "def bad_poisson(lmd, k):\n",
    "    return pow(lmd,k)*math.exp(-lmd)/math.factorial(k)\n",
    "#bad_poisson(1000,1000) # uncomment to see it breaks\n"
   ]
  },
  {
   "cell_type": "markdown",
   "metadata": {},
   "source": [
    "4.2) A very useful trick to avoid this problem is to take log and exponentiate. That is\n",
    "\n",
    "$$\n",
    "    P(k; \\lambda) = \\exp\\left( \\ln \\left[ \\frac{\\lambda^k \\exp(-\\lambda)}{k!} \\right] \\right)\n",
    "$$\n",
    "\n",
    "First, show that\n",
    "$$\n",
    "    \\ln(P(k; \\lambda)) = (\\ldots \\ln(\\ldots)-\\ldots)-\\ln(k!)\n",
    "$$\n",
    "\n"
   ]
  },
  {
   "cell_type": "markdown",
   "metadata": {
    "collapsed": true
   },
   "source": [
    "### Proof:\n",
    "Using the logarithm rules we get:\n",
    "$$\n",
    "\\ln(P(k; \\lambda)) = \\ln(\\frac{\\lambda^k \\exp(-\\lambda)}{k!}) = \\frac{\\ln(\\lambda^k \\exp(-\\lambda))}{\\ln(k!)}\n",
    "    = \\frac{\\ln(\\lambda^k) + \\ln(\\exp(-\\lambda))}{\\ln(k!)} = (k*\\ln(\\lambda) - \\lambda) - ln(k!)\n",
    "$$\n",
    "q.e.d."
   ]
  },
  {
   "cell_type": "markdown",
   "metadata": {},
   "source": [
    "### Proof:\n",
    "Using the logarithm rules we get:\n",
    "$$\n",
    "\\ln(P(k; \\lambda)) = \\ln(\\frac{\\lambda^k \\exp(-\\lambda)}{k!}) = \\ln(\\lambda^k \\exp(-\\lambda)) - \\ln(k!)\n",
    "    = \\ln(\\lambda^k) + \\ln(\\exp(-\\lambda)) - \\ln(k!) = k*\\ln(\\lambda) - \\lambda - ln(k!)\n",
    "$$\n",
    "q.e.d."
   ]
  },
  {
   "cell_type": "markdown",
   "metadata": {},
   "source": [
    "4.3) $\\ln(k!)$ shows up everywhere in math. So most math library have `lgamma` function to compute this very fast.\n",
    "For example,\n",
    "\n",
    "`math.lgamma(5) == math.log(math.factorial(4))`\n",
    "\n",
    "Your job for this problem is to implement $P(k; \\lambda)$ using log-exp trick.\n",
    "\n",
    "If you do it right, $P(k=1000; \\lambda=1000) \\approx 0.0126146$"
   ]
  },
  {
   "cell_type": "code",
   "execution_count": 16,
   "metadata": {},
   "outputs": [
    {
     "data": {
      "text/plain": [
       "0.012614611348719664"
      ]
     },
     "execution_count": 16,
     "metadata": {},
     "output_type": "execute_result"
    }
   ],
   "source": [
    "def good_poisson(lmd, k):\n",
    "    return math.exp((k*math.log(lmd)-lmd)-math.lgamma(k+1))\n",
    "good_poisson(1000,1000)"
   ]
  },
  {
   "cell_type": "markdown",
   "metadata": {},
   "source": [
    "4.4) Now here is the fun part. Suppose that $\\lambda = 987.6$(this is not true). Find the probability that Ply will sell all his 1000 apples. (Remember if 2000 people want Ply's apple, he his apple will also be sold out). \n",
    "\n",
    "And No, summing up to infinity is not practical.\n",
    "\n",
    "### Answer\n",
    "\n",
    "We get the propability for P('1000 or more apples') by subtracting P(\"999 or fewer apples\") from the 100%.\n",
    "Since summing up all the numbers to infinity is not practical, we can just arrive at the propability for P(\"1000 or more apples\") by subtracting P(\"999 or fewer apples\") from the 100% which all Probabilitys need to add up to. This is still a lot of individual probabilitys but also way less then infinity (as most things tend to be)"
   ]
  },
  {
   "cell_type": "code",
   "execution_count": 17,
   "metadata": {},
   "outputs": [
    {
     "name": "stdout",
     "output_type": "stream",
     "text": [
      "The chance that Ply sells all his apples is :  36.260488004681335 %\n"
     ]
    }
   ],
   "source": [
    "def poisson_percentage(lmd):\n",
    "    totalPercent= 0\n",
    "    for i in range (999):\n",
    "        totalPercent += good_poisson(lmd,i) #chance Ply sells less then 1000 apples\n",
    "    return 1-totalPercent\n",
    "print(\"The chance that Ply sells all his apples is : \", poisson_percentage(987.6)*100 , '%')      "
   ]
  },
  {
   "cell_type": "markdown",
   "metadata": {},
   "source": [
    "4.5) Recall the information that\n",
    "\n",
    "After selling apples for 2000 days Ply found that his 1000 apples a day are sold out 600 days out of 2000 days.\n",
    "\n",
    "Find the value for $\\lambda$ to a decent accuracy($<\\pm 0.1$)"
   ]
  },
  {
   "cell_type": "code",
   "execution_count": 18,
   "metadata": {},
   "outputs": [
    {
     "name": "stdout",
     "output_type": "stream",
     "text": [
      "The actual lambda is  982.12890625\n"
     ]
    },
    {
     "data": {
      "image/png": "[encoded data removed]",
      "text/plain": [
       "<Figure size 432x288 with 1 Axes>"
      ]
     },
     "metadata": {
      "needs_background": "light"
     },
     "output_type": "display_data"
    }
   ],
   "source": [
    "xs=np.linspace(900,1000,200)\n",
    "def find_lambda(lmd):\n",
    "    totalPercent= 0\n",
    "    for i in range (0,999):\n",
    "        totalPercent += good_poisson(lmd,i) #chance Ply sells less then 1000 apples\n",
    "    \n",
    "    return ((1-totalPercent)-0.3)*100\n",
    "\n",
    "#print(xs)\n",
    "arr = [find_lambda(i) for i in xs]\n",
    "#for i in xs:\n",
    " #   bisection((poisson_percentage(i)-0.3),800,1200,0.1)\n",
    "plt.plot(xs,arr)\n",
    "plt.axhline(color='red')\n",
    "lamb = bisection(find_lambda,800,1200,0.1)\n",
    "print(\"The actual lambda is \" , lamb)"
   ]
  },
  {
   "cell_type": "markdown",
   "metadata": {},
   "source": [
    "4.6) Using $\\lambda$ you found in 4.5).\n",
    "\n",
    "Ply bounght apple for 20 Baht each and he sell it for 50 Baht each. Which means that for each apple he sells he make a profit of 30 baht. But, at the end of each day Ply has to trash all unsold Apples(taking a loss of 20 Baht each).\n",
    "\n",
    "If Ply bought 1000 apples a day, what would be his expected profit(remember expected value from discrete math/stat/quantum?).\n"
   ]
  },
  {
   "cell_type": "markdown",
   "metadata": {},
   "source": [
    "\n",
    "### Answer\n",
    "\n",
    "Expected Profit= Chance of event * total value of the event"
   ]
  },
  {
   "cell_type": "code",
   "execution_count": 19,
   "metadata": {},
   "outputs": [
    {
     "name": "stdout",
     "output_type": "stream",
     "text": [
      "Ply can expect a Profit of  20174.683786667956 baht\n"
     ]
    }
   ],
   "source": [
    "#expectedSales=poisson_percentage(lamb)\n",
    "#expectedProfit= *30 - (1-expectedSales)*20 #lamb= lambda from previous exercise\n",
    "def expectedProfit(lmd):\n",
    "    profit=0\n",
    "    for i in range(1000):\n",
    "        #saleChance=good_poisson(lmd,i)\n",
    "        profit += good_poisson(lmd,i)*(i*30 - (1000-i)*20) #chance of occuring*value of the event, add all of them up\n",
    "    return profit\n",
    "print(\"Ply can expect a Profit of \", expectedProfit(lamb), \"baht\")"
   ]
  },
  {
   "cell_type": "markdown",
   "metadata": {},
   "source": [
    "4.7) Using $\\lambda$ you found in 4.5) Find the number of apple Ply should buy in a day to maximize his expected profit."
   ]
  },
  {
   "cell_type": "code",
   "execution_count": 24,
   "metadata": {},
   "outputs": [
    {
     "data": {
      "text/plain": [
       "[<matplotlib.lines.Line2D at 0x1c436496688>]"
      ]
     },
     "execution_count": 24,
     "metadata": {},
     "output_type": "execute_result"
    },
    {
     "data": {
      "image/png": "[encoded data removed]",
      "text/plain": [
       "<Figure size 432x288 with 1 Axes>"
      ]
     },
     "metadata": {
      "needs_background": "light"
     },
     "output_type": "display_data"
    }
   ],
   "source": [
    "def profitFunc(num_apples,lmd):\n",
    "    profit=0\n",
    "    for i in range(num_apples):\n",
    "        #saleChance=good_poisson(lmd,i)\n",
    "        profit += good_poisson(lmd,i)*(i*30 - (num_apples-i)*20) #chance of occuring*value of the event, add all of them up\n",
    "    return profit\n",
    "\n",
    "arr=[profitFunc(i,lamb) for i in range(800,1200)]\n",
    "xs=[i for i in range(800,1200)]\n",
    "plt.plot(xs,arr)"
   ]
  },
  {
   "cell_type": "markdown",
   "metadata": {},
   "source": [
    "## Problem 5\n",
    "\n",
    "Full Width at Half Maximum(FWHM). Distribution width is a very important quantity. It tells you how wide a the distribution is. One way to do that is to use a quantity called full-width half max.\n",
    "\n",
    "This is the width of the distribution at half maximum. \n",
    "\n",
    "For example for distribution shown below the maximum is at x=0.0 and y=1.0\n",
    "\n",
    "The maximum of this distribution is 1.0. So we are interested in the width of the distribution when the value of the distribution is 1.0/2=0.5\n",
    "\n",
    "The width of the distribution is shown in black line. In this case it's about 2.35"
   ]
  },
  {
   "cell_type": "code",
   "execution_count": 21,
   "metadata": {},
   "outputs": [
    {
     "data": {
      "text/plain": [
       "Text(0, 0.3, 'FWHM')"
      ]
     },
     "execution_count": 21,
     "metadata": {},
     "output_type": "execute_result"
    },
    {
     "data": {
      "image/png": "[encoded data removed]",
      "text/plain": [
       "<Figure size 432x288 with 1 Axes>"
      ]
     },
     "metadata": {
      "needs_background": "light"
     },
     "output_type": "display_data"
    }
   ],
   "source": [
    "import math\n",
    "def demo(x):\n",
    "    return math.exp(-x**2/2.0)\n",
    "x = np.linspace(-3,3)\n",
    "y = [demo(xx) for xx in x]\n",
    "plt.plot(x,y)\n",
    "plt.axhline(0.5, color='red')\n",
    "\n",
    "plt.axvline(2.355/2,color='red',linestyle='dashed')\n",
    "plt.axvline(-2.355/2,color='red',linestyle='dashed')\n",
    "\n",
    "plt.grid()\n",
    "plt.annotate(\n",
    "    '', xy=(-2.355/2, 0.4), xycoords='data',\n",
    "    xytext=(2.355/2, 0.4), textcoords='data',\n",
    "    arrowprops={'arrowstyle': '<->'})\n",
    "plt.text(0,0.3,'FWHM',horizontalalignment ='center')"
   ]
  },
  {
   "cell_type": "markdown",
   "metadata": {},
   "source": [
    "5.1)Find FWHM of the following function. Make sure the bound on error of the FWHM is less than $10^{-4}$."
   ]
  },
  {
   "cell_type": "code",
   "execution_count": 26,
   "metadata": {},
   "outputs": [
    {
     "name": "stdout",
     "output_type": "stream",
     "text": [
      "Maximum:  2.3450469970703125  with value  0.3225806450871497\n",
      "FWHM has the width  6.20006158715114  with value  0.16129032254357484\n"
     ]
    },
    {
     "data": {
      "text/plain": [
       "<matplotlib.lines.Line2D at 0x1c4365e2b08>"
      ]
     },
     "execution_count": 26,
     "metadata": {},
     "output_type": "execute_result"
    },
    {
     "data": {
      "image/png": "[encoded data removed]",
      "text/plain": [
       "<Figure size 432x288 with 1 Axes>"
      ]
     },
     "metadata": {
      "needs_background": "light"
     },
     "output_type": "display_data"
    }
   ],
   "source": [
    "import math\n",
    "\n",
    "def f(x, gamma=3.1):\n",
    "    mu = 2.345\n",
    "    return gamma/((x-mu)**2+gamma**2)\n",
    "\n",
    "def d(x, gamma=3.1):\n",
    "    mu = 2.345\n",
    "    return -(2*gamma*(-mu + x))/(gamma**2+(mu-x)**2)**2\n",
    "\n",
    "def halfmax(x):\n",
    "    return f(x)-(0.5*maxvalue);\n",
    "  \n",
    "\n",
    "x = np.linspace(-10,10,200)\n",
    "y = [f(xx) for xx in x]\n",
    "plt.plot(x,y)\n",
    "\n",
    "l = -10.0\n",
    "r = 10.0\n",
    "accuracy= 1e-4\n",
    "\n",
    "maximum = bisection(d, l, r,accuracy)\n",
    "maxvalue = f(maximum)\n",
    "hmValue = maxvalue/2\n",
    "\n",
    "leftfwhm = bisection(halfmax, l, maximum,accuracy)\n",
    "rightfwhm = bisection(halfmax, maximum, r,accuracy)\n",
    "fwhm = rightfwhm - leftfwhm\n",
    "     \n",
    "print (\"Maximum: \", maximum, \" with value \", maxvalue) #only maximum (-> plot)\n",
    "print (\"FWHM has the width \", fwhm, \" with value \", hmValue)\n",
    "\n",
    "plt.plot(maximum, maxvalue, marker='x', markersize=7, color=\"black\")\n",
    "plt.axhline(hmValue, color=\"red\")\n",
    "plt.axvline(leftfwhm, color=\"red\", linestyle=\"dashed\")\n",
    "plt.axvline(rightfwhm, color=\"red\", linestyle=\"dashed\")\n"
   ]
  },
  {
   "cell_type": "markdown",
   "metadata": {},
   "source": [
    "5.2) Plot FWHM(y-axis) as a function of $\\gamma$(gamma) from $\\gamma=0.5\\ldots 3$. Make sure you have at least 30 points."
   ]
  },
  {
   "cell_type": "code",
   "execution_count": 23,
   "metadata": {},
   "outputs": [
    {
     "name": "stdout",
     "output_type": "stream",
     "text": [
      "0.1081651140465921\n"
     ]
    }
   ],
   "source": [
    "print(f(1.0, gamma=0.2)) # you may find this useful\n",
    "gamma= np.linspace(0.5,3,50)\n",
    "\n",
    "leftfwhm = bisection(halfmax, l, maximum,accuracy)\n",
    "rightfwhm = bisection(halfmax, maximum, r,accuracy)\n",
    "fwhm = rightfwhm - leftfwhm"
   ]
  },
  {
   "cell_type": "markdown",
   "metadata": {
    "collapsed": true
   },
   "source": [
    "5.3) (Optional) Prove the relation you found in 5.2)"
   ]
  },
  {
   "cell_type": "code",
   "execution_count": null,
   "metadata": {},
   "outputs": [],
   "source": []
  }
 ],
 "metadata": {
  "kernelspec": {
   "display_name": "Python 3",
   "language": "python",
   "name": "python3"
  },
  "language_info": {
   "codemirror_mode": {
    "name": "ipython",
    "version": 3
   },
   "file_extension": ".py",
   "mimetype": "text/x-python",
   "name": "python",
   "nbconvert_exporter": "python",
   "pygments_lexer": "ipython3",
   "version": "3.8.1"
  },
  "toc": {
   "colors": {
    "hover_highlight": "#DAA520",
    "running_highlight": "#FF0000",
    "selected_highlight": "#FFD700"
   },
   "moveMenuLeft": true,
   "nav_menu": {
    "height": "30px",
    "width": "252px"
   },
   "navigate_menu": true,
   "number_sections": false,
   "sideBar": true,
   "threshold": 4,
   "toc_cell": false,
   "toc_section_display": "block",
   "toc_window_display": false
  }
 },
 "nbformat": 4,
 "nbformat_minor": 1
}
