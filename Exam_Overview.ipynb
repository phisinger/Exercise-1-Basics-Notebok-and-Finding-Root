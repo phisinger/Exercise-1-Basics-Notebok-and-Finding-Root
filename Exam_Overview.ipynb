{
 "cells": [
  {
   "cell_type": "markdown",
   "metadata": {},
   "source": [
    "# Overview\n",
    "\n",
    "useful functions\n",
    "\n",
    "**PLEASE COMMENT YOUR CODE OR USE INTUITIVE NAMES**"
   ]
  },
  {
   "cell_type": "markdown",
   "metadata": {},
   "source": [
    "### Derivatives\n",
    "First one:"
   ]
  },
  {
   "cell_type": "code",
   "execution_count": 3,
   "metadata": {},
   "outputs": [],
   "source": [
    "def first_der(f, x, h): ## also called centered derivative\n",
    "    return ((f(x+h) - f(x-h))/ (2*h))\n",
    "\n",
    "def forward_diff(f, x, h):\n",
    "    return (f(x+h) - f(x))/h"
   ]
  },
  {
   "cell_type": "markdown",
   "metadata": {},
   "source": [
    "And second one:"
   ]
  },
  {
   "cell_type": "code",
   "execution_count": null,
   "metadata": {},
   "outputs": [],
   "source": [
    "def second_der(f, x, h):\n",
    "    return (f(x+h)- 2*f(x) + f(x-h)) / (h**2)"
   ]
  },
  {
   "cell_type": "markdown",
   "metadata": {},
   "source": [
    "#### Proving / Showing\n",
    "Example:  \n",
    "Use Taylor series until the pow of h in the error term devided by the rank of the h in the denominator(=Nenner) is equal to the rank of the h in O(h). Then put everything together and reduce."
   ]
  },
  {
   "cell_type": "markdown",
   "metadata": {},
   "source": [
    "2) Show that \n",
    "$$\\frac{9f(x+h)-f(x+3h)-8f(x)}{6h} = f'(x) + O(h^2)$$\n",
    "\n",
    "$$9f(x+h) = 9[f(x)+f'(x)h+\\frac{f''(x)h^2}{2!}+\\frac{f'''(\\xi')h^3}{3!}]$$\n",
    "$$9f(x+h) = 9f(x)+9f'(x)h+\\frac{9f''(x)h^2}{2!}+\\frac{9f'''(\\xi')h^3}{3!}$$\n",
    "\n",
    "$$-f(x+3h) = -[f(x)+f'(x)3h+\\frac{9f''(x)h^2}{2!}+\\frac{27f'''(\\xi')h^3}{3!}]$$\n",
    "$$-f(x+3h) = -f(x)-f'(x)3h-\\frac{9f''(x)h^2}{2!}-\\frac{27f'''(\\xi')h^3}{3!}$$\n",
    "\n",
    "$$\\frac{9f(x+h)-f(x+3h)-8f(x)}{6h} = \\frac{9f(x)+9f'(x)h+\\frac{9f''(x)h^2}{2!}+\\frac{9f'''(\\xi')h^3}{3!}-f(x)-f'(x)3h-\\frac{9f''(x)h^2}{2!}-\\frac{27f'''(\\xi')h^3}{3!} - 8f(x)}{6h} $$\n",
    "\n",
    "$$\\frac{9f(x+h)-f(x+3h)-8f(x)}{6h} = \\frac{6f'(x)h+\\frac{9f'''(\\xi')h^3}{3!}-\\frac{27f'''(\\xi')h^3}{3!}}{6h} $$\n",
    "\n",
    "$$\\frac{9f(x+h)-f(x+3h)-8f(x)}{6h} = f'(x)+\\frac{9f'''(\\xi')h^2}{6*3!}-\\frac{27f'''(\\xi')h^2}{6*3!} $$\n",
    "\n",
    "$$\\frac{9f(x+h)-f(x+3h)-8f(x)}{6h} = f'(x)+ O(h^2) $$"
   ]
  },
  {
   "cell_type": "markdown",
   "metadata": {},
   "source": [
    "### Bisection\n",
    "find the point where the function is equal to 0"
   ]
  },
  {
   "cell_type": "code",
   "execution_count": null,
   "metadata": {},
   "outputs": [],
   "source": [
    "def bisection(f, a, b, acc):\n",
    "    if f(a)*f(b) > 0:\n",
    "        print(\"No root found.\")\n",
    "    else:\n",
    "        while (b - a)/2 > acc:\n",
    "            midpoint = (a + b)/2\n",
    "            if f(midpoint) == 0:\n",
    "                return(midpoint) \n",
    "            elif f(a)*f(midpoint) < 0:\n",
    "                b = midpoint\n",
    "            else:\n",
    "                a = midpoint\n",
    "        return (midpoint)"
   ]
  },
  {
   "cell_type": "markdown",
   "metadata": {},
   "source": [
    "### Newton-Method\n",
    "find the point where the function is equal to 0, but more precise"
   ]
  },
  {
   "cell_type": "code",
   "execution_count": null,
   "metadata": {},
   "outputs": [],
   "source": [
    "def center_diff(f, x, h):\n",
    "    return((f(x+h) - f(x-h))/ (2*h))\n",
    "\n",
    "def newton(f, start, n):\n",
    "    for z in range(n):\n",
    "        x_next = start - (f(start)/ center_diff(f, start, 0.05))\n",
    "        start = x_next\n",
    "    return start"
   ]
  },
  {
   "cell_type": "markdown",
   "metadata": {},
   "source": [
    "#### Showing/Proofing\n",
    "Example.  \n",
    "It's more often useful, than you think. Especially for tasks with **roots**."
   ]
  },
  {
   "cell_type": "markdown",
   "metadata": {},
   "source": [
    "Let $f(x) = x^5 - a = 0$ where $x = \\sqrt[5]a$\n",
    "\n",
    "Newton's method: \n",
    "\n",
    "$$\n",
    "x_{n+1} = x_n - \\frac{f(x_n)}{f'(x_n)} \\\\\n",
    "x_{n+1} = x_n - \\frac{x_n^5 - a}{5x_n^4} \\\\\n",
    "x_{n+1} = \\frac{5x_n}{5} - \\frac{x_n - \\frac{a}{x_n^4}}{5} \\\\\n",
    "x_{n+1} = \\frac{5x_n - x_n + \\frac{a}{x_n^4}}{5} \\\\\n",
    "x_{n+1} = \\frac{4x_n + \\frac{a}{x_n^4}}{5} \n",
    "$$"
   ]
  },
  {
   "cell_type": "markdown",
   "metadata": {},
   "source": [
    "#### Overshooting\n",
    "Newton-method fails when the derivative is not optimal behaved.  \n",
    "For example this case:\n",
    "$$\n",
    "f(x) = |x|^a,   0 < a, < 0.5\n",
    "$$"
   ]
  },
  {
   "cell_type": "markdown",
   "metadata": {},
   "source": [
    "### Legendre\n",
    "\n",
    "make a polynomial function out of points"
   ]
  },
  {
   "cell_type": "code",
   "execution_count": null,
   "metadata": {},
   "outputs": [],
   "source": [
    "def make_legendre(xs, ys):\n",
    "    \n",
    "    def legendre(x):\n",
    "        summand = 0\n",
    "        for ind,zz in enumerate(xs):\n",
    "            xZeros = xs.copy()\n",
    "            c = xZeros.pop(ind)\n",
    "            num = 1\n",
    "            den = 1\n",
    "            for xx in xZeros:\n",
    "                num *= ((x-xx)/(c-xx))\n",
    "            summand += ys[ind]*num\n",
    "        return summand\n",
    "    return legendre"
   ]
  },
  {
   "cell_type": "markdown",
   "metadata": {},
   "source": [
    "### Trapezoid\n",
    "calculate the integral"
   ]
  },
  {
   "cell_type": "code",
   "execution_count": null,
   "metadata": {},
   "outputs": [],
   "source": [
    "def trapezoid(f, a, b, n):\n",
    "    h = abs(b-a)/n\n",
    "    res = 0\n",
    "    for i in range(1,n):\n",
    "        res += f(a+i*h)\n",
    "    return (h/2)*(f(a) + f(b) + 2*res)"
   ]
  },
  {
   "cell_type": "markdown",
   "metadata": {},
   "source": [
    "Calculate the error bound of the integral calculation:\n",
    "\n",
    "*Often you are asked to compare the error bound to the real error (Wolfram-Alpha).*"
   ]
  },
  {
   "cell_type": "code",
   "execution_count": 10,
   "metadata": {},
   "outputs": [],
   "source": [
    "def second_der(f, x, h):\n",
    "    return (f(x+h)- 2*f(x) + f(x-h)) / (h**2)\n",
    "\n",
    "def trap_error_bound(f, a, b, n):\n",
    "    p = abs(((b-a)**3 / (12*n**2)) * second_der(f, a, 0.0001))\n",
    "    q = abs(((b-a)**3 / (12*n**2)) * second_der(f, b, 0.0001))\n",
    "    if p > q:\n",
    "        return p\n",
    "    else:\n",
    "        return q"
   ]
  },
  {
   "cell_type": "markdown",
   "metadata": {},
   "source": [
    "### Linear Equation\n",
    "Normally you can just use `np.linalg.solve`\n",
    "\n",
    "But you can also use this one:"
   ]
  },
  {
   "cell_type": "code",
   "execution_count": null,
   "metadata": {},
   "outputs": [],
   "source": [
    "def forward_elim(tmp, right):\n",
    "    C = right.copy()\n",
    "    A = tmp.copy()\n",
    "    nrow, ncol = A.shape\n",
    "    for i_pivot_row in range(nrow):\n",
    "        pivot_row = A[i_pivot_row]\n",
    "        for i_target_row in range(i_pivot_row+1, nrow):\n",
    "            coef1 = A[i_target_row, i_pivot_row] / A[i_pivot_row, i_pivot_row]\n",
    "            C[i_target_row] = C[i_target_row] - coef1 * C[i_pivot_row]\n",
    "            A[i_target_row] = A[i_target_row] - coef1 * A[i_pivot_row]\n",
    "        #normalisieren\n",
    "        coef2 = A[i_pivot_row, i_pivot_row]\n",
    "        A[i_pivot_row] = A[i_pivot_row] / coef2\n",
    "        C[i_pivot_row] = C[i_pivot_row] / coef2\n",
    "    return A,C\n",
    "\n",
    "def backward_elim(tmp, right):\n",
    "    C = right.copy()\n",
    "    A = tmp.copy()\n",
    "    nrow, ncol = A.shape\n",
    "    for i_pivot_row in range(nrow-1, -1, -1):\n",
    "        pivot_row = A[i_pivot_row]\n",
    "        for i_target_row in range(i_pivot_row-1,-1, -1):\n",
    "            coef = A[i_target_row, i_pivot_row] / A[i_pivot_row, i_pivot_row]\n",
    "            A[i_target_row] = A[i_target_row] - coef * A[i_pivot_row]\n",
    "            C[i_target_row] = C[i_target_row] - coef * C[i_pivot_row] \n",
    "    return C\n",
    "\n",
    "def gauss(a, b):\n",
    "    c, d = forward_elim(a, b)\n",
    "    return backward_elim(c, d)"
   ]
  },
  {
   "cell_type": "markdown",
   "metadata": {},
   "source": [
    "### Optimization/Gradient Descent\n",
    "Find the minimum of a function to optimize something"
   ]
  },
  {
   "cell_type": "markdown",
   "metadata": {},
   "source": [
    "#### 1D Optimization\n",
    "`eta` should be something around 0.1  \n",
    "`n` depends on where you start and how accurate your guesses should be  \n",
    "`start` is your start guess.  \n",
    "Returns a list of all the `guesses` to plot them. Best result is the last value in the list. "
   ]
  },
  {
   "cell_type": "code",
   "execution_count": null,
   "metadata": {},
   "outputs": [],
   "source": [
    "def walk_min(f, n, start, eta):\n",
    "    guesses = [start]\n",
    "    for i in range(n):\n",
    "        start = start - eta*f(start)\n",
    "        guesses.append(start)\n",
    "    return guesses"
   ]
  },
  {
   "cell_type": "markdown",
   "metadata": {},
   "source": [
    "#### 2D Optimization\n",
    "`lamb` should be something around 0.1  \n",
    "`n` depends on where you start and how accurate your guesses should be  \n",
    "`start` is your start guess.  \n",
    "Returns a list of all the `guesses` to plot them. `x` values are at first value of each pair, `y` values in the second one.  \n",
    "The Best result is the last value in the list.   "
   ]
  },
  {
   "cell_type": "code",
   "execution_count": null,
   "metadata": {},
   "outputs": [],
   "source": [
    "def gradient(pos):\n",
    "    x = 2*(pos[0]-2) + pos[1] \n",
    "    y = pos[0] + 2*pos[1]\n",
    "    return np.array([x, y])\n",
    "\n",
    "def gradient_descent(f, n, start, lamp):\n",
    "    guesses = [start]\n",
    "    for i in range(n):\n",
    "        start = np.add(start, -np.multiply(lamp,f(start)))\n",
    "        guesses.append(start)\n",
    "    return guesses\n",
    "\n"
   ]
  },
  {
   "cell_type": "markdown",
   "metadata": {},
   "source": [
    "### Root\n",
    "#### Square Root\n",
    "`a` the number to be rooted.  \n",
    "`x_0` is the first guess for the result.  \n",
    "` i` stands for the iterations and accuracy"
   ]
  },
  {
   "cell_type": "code",
   "execution_count": null,
   "metadata": {},
   "outputs": [],
   "source": [
    "def n_square(a, x_0, i):\n",
    "    for l in range(i+1):\n",
    "        x_n = (x_0 + a/x_0) / 2\n",
    "        x_0 = x_n\n",
    "    return x_0"
   ]
  },
  {
   "cell_type": "markdown",
   "metadata": {},
   "source": [
    "#### General Root\n",
    "`b` is the \"basis\"  \n",
    "`a` the number to be rooted.  \n",
    "`x_0` is the first guess for the result.  \n",
    "`n` stands for the iterations and accuracy"
   ]
  },
  {
   "cell_type": "code",
   "execution_count": 2,
   "metadata": {},
   "outputs": [],
   "source": [
    "def root(b, a, x_0, n):\n",
    "    for i in range(n+1):\n",
    "        x_n = ((b-1)* x_0**b + a) / (3*x_0**2)\n",
    "        x_0 = x_n\n",
    "    return x_0"
   ]
  },
  {
   "cell_type": "markdown",
   "metadata": {},
   "source": [
    "### Fourier\n",
    "Approximate a function `f` with cos and sin.  \n",
    "`l` is the stepsize of the given function. You can see it in the plot."
   ]
  },
  {
   "cell_type": "code",
   "execution_count": null,
   "metadata": {},
   "outputs": [],
   "source": [
    "def make_four(f, l, n):    \n",
    "    def fourier(x):\n",
    "        terms = ((1/l) * trapezoid(f, 0, 2*l, 100))/2\n",
    "        for i in range(1,n):\n",
    "            def f_cos(x):\n",
    "                return f(x)* cos(i*np.pi*(x/l))\n",
    "    \n",
    "            def f_sin(x):\n",
    "                return f(x)* sin(i*np.pi*(x/l))\n",
    "            \n",
    "            terms += (1/l)*trapezoid(f_cos, 0, 2*l, 100)*cos(i*np.pi*(x/l))\n",
    "        #for i in range(1,n):\n",
    "            terms += (1/l)*trapezoid(f_sin, 0, 2*l, 100)*sin(i*np.pi*(x/l))\n",
    "        return terms\n",
    "    return fourier"
   ]
  },
  {
   "cell_type": "markdown",
   "metadata": {},
   "source": [
    "### Poisson distribution\n",
    "`lmb` is the lambda value for the distribution"
   ]
  },
  {
   "cell_type": "code",
   "execution_count": null,
   "metadata": {},
   "outputs": [],
   "source": [
    "def good_poisson(lmd, k):\n",
    "    return np.exp((k*math.log(lmd)-lmd)-math.lgamma(k+1))"
   ]
  },
  {
   "cell_type": "markdown",
   "metadata": {},
   "source": [
    "#### Finding Lambda\n",
    "This function returns a lambda.  \n",
    "`LIMIT` can be a high number as 5000 or higher, if you haven't a real limit from the task  \n",
    "`BIAS` can be set to value to make bisection or newton with `find_lambda`"
   ]
  },
  {
   "cell_type": "code",
   "execution_count": null,
   "metadata": {},
   "outputs": [],
   "source": [
    "def find_lambda(lmd):\n",
    "    totalPercent= 0\n",
    "    for i in range(LIMIT):\n",
    "        totalPercent += good_poisson(lmd,i)\n",
    "    return ((1-totalPercent)-BIAS)*100\n",
    "\n",
    "##Other example\n",
    "\n",
    "def expected_stars(lmd): ## finding Lambda\n",
    "    total = 0\n",
    "    for i in range(5000):\n",
    "        total += good_poisson(lmd, i)*stars(i)\n",
    "    return total - 500"
   ]
  },
  {
   "cell_type": "markdown",
   "metadata": {},
   "source": [
    "### Linear regression\n",
    "Find parameters from data to generate a function (with a cost function."
   ]
  },
  {
   "cell_type": "markdown",
   "metadata": {},
   "source": [
    "#### Optimizing: \n",
    "You have your cost function already: Just optimize it.  \n",
    "**Pay Attention: minimize accepts only cost-functions with one parameter**"
   ]
  },
  {
   "cell_type": "code",
   "execution_count": null,
   "metadata": {},
   "outputs": [],
   "source": [
    "from scipy.optimize import minimize\n",
    "\n",
    "result = minimize(COST_FUNCTION, [STRARTING POINTS])\n",
    "ANSWER1, ANSWER2, ...  = result.x"
   ]
  },
  {
   "cell_type": "markdown",
   "metadata": {},
   "source": [
    "Example cost function:"
   ]
  },
  {
   "cell_type": "code",
   "execution_count": 1,
   "metadata": {},
   "outputs": [
    {
     "ename": "NameError",
     "evalue": "name 'np' is not defined",
     "output_type": "error",
     "traceback": [
      "\u001b[1;31m---------------------------------------------------------------------------\u001b[0m",
      "\u001b[1;31mNameError\u001b[0m                                 Traceback (most recent call last)",
      "\u001b[1;32m<ipython-input-1-12116934272f>\u001b[0m in \u001b[0;36m<module>\u001b[1;34m\u001b[0m\n\u001b[0;32m      1\u001b[0m \u001b[1;32mfrom\u001b[0m \u001b[0mscipy\u001b[0m\u001b[1;33m.\u001b[0m\u001b[0moptimize\u001b[0m \u001b[1;32mimport\u001b[0m \u001b[0mminimize\u001b[0m\u001b[1;33m\u001b[0m\u001b[1;33m\u001b[0m\u001b[0m\n\u001b[1;32m----> 2\u001b[1;33m \u001b[0mdx\u001b[0m \u001b[1;33m=\u001b[0m \u001b[0mnp\u001b[0m\u001b[1;33m.\u001b[0m\u001b[0mlinspace\u001b[0m\u001b[1;33m(\u001b[0m\u001b[1;36m0\u001b[0m\u001b[1;33m,\u001b[0m\u001b[1;36m1\u001b[0m\u001b[1;33m,\u001b[0m\u001b[0mn\u001b[0m\u001b[1;33m)\u001b[0m\u001b[1;33m\u001b[0m\u001b[1;33m\u001b[0m\u001b[0m\n\u001b[0m\u001b[0;32m      3\u001b[0m \u001b[0mdy\u001b[0m \u001b[1;33m=\u001b[0m \u001b[1;33m-\u001b[0m\u001b[1;36m2\u001b[0m\u001b[1;33m*\u001b[0m\u001b[0mdx\u001b[0m \u001b[1;33m+\u001b[0m \u001b[1;36m1\u001b[0m \u001b[1;33m+\u001b[0m \u001b[0mnp\u001b[0m\u001b[1;33m.\u001b[0m\u001b[0mrandom\u001b[0m\u001b[1;33m.\u001b[0m\u001b[0mrandn\u001b[0m\u001b[1;33m(\u001b[0m\u001b[0mn\u001b[0m\u001b[1;33m)\u001b[0m\u001b[1;33m/\u001b[0m\u001b[1;36m2\u001b[0m\u001b[1;33m\u001b[0m\u001b[1;33m\u001b[0m\u001b[0m\n\u001b[0;32m      4\u001b[0m \u001b[1;33m\u001b[0m\u001b[0m\n\u001b[0;32m      5\u001b[0m \u001b[1;32mdef\u001b[0m \u001b[0mcost\u001b[0m\u001b[1;33m(\u001b[0m\u001b[0mv\u001b[0m\u001b[1;33m)\u001b[0m\u001b[1;33m:\u001b[0m\u001b[1;33m\u001b[0m\u001b[1;33m\u001b[0m\u001b[0m\n",
      "\u001b[1;31mNameError\u001b[0m: name 'np' is not defined"
     ]
    }
   ],
   "source": [
    "from scipy.optimize import minimize\n",
    "dx = np.linspace(0,1,n)\n",
    "dy = -2*dx + 1 + np.random.randn(n)/2\n",
    "\n",
    "def cost(v):\n",
    "    m, c = v\n",
    "    return sum((m*dx+c-dy)**2)\n",
    "\n",
    "res = minimize(cost, [1,1])\n",
    "m, c = res.x\n",
    "\n"
   ]
  },
  {
   "cell_type": "markdown",
   "metadata": {},
   "source": [
    "#### Matrixes:\n",
    "You have a data set and use the linear equation or `np.linalg.solve`"
   ]
  },
  {
   "cell_type": "code",
   "execution_count": null,
   "metadata": {},
   "outputs": [],
   "source": [
    "### For a staight line\n",
    "\n",
    "alpha = np.array([sum(data_x*data_y), sum(data_y)])\n",
    "beta = np.array([\n",
    "    [sum(data_x**2), sum(data_x)],\n",
    "    [sum(data_x), data_x.size]\n",
    "    \n",
    "### For a parabola\n",
    "    \n",
    "alpha = np.array([sum(data_x**2*data_y), sum(data_y*data_x), sum(data_y)])\n",
    "beta = np.array([\n",
    "    [sum(data_x**4), sum(data_x**3), sum(data_x**2)],\n",
    "    [sum(data_x**3), sum(data_x**2), sum(data_x)], #data_x.size\n",
    "    [sum(data_x**2), sum(data_x), data_x.size]])"
   ]
  }
 ],
 "metadata": {
  "kernelspec": {
   "display_name": "Python 3",
   "language": "python",
   "name": "python3"
  },
  "language_info": {
   "codemirror_mode": {
    "name": "ipython",
    "version": 3
   },
   "file_extension": ".py",
   "mimetype": "text/x-python",
   "name": "python",
   "nbconvert_exporter": "python",
   "pygments_lexer": "ipython3",
   "version": "3.8.1"
  }
 },
 "nbformat": 4,
 "nbformat_minor": 4
}
