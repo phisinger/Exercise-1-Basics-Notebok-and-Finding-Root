{
 "cells": [
  {
   "cell_type": "code",
   "execution_count": 25,
   "metadata": {
    "ExecuteTime": {
     "end_time": "2020-02-19T01:52:21.149238Z",
     "start_time": "2020-02-19T01:52:20.713165Z"
    }
   },
   "outputs": [],
   "source": [
    "import numpy as np\n",
    "from matplotlib import pyplot as plt\n",
    "import math"
   ]
  },
  {
   "cell_type": "markdown",
   "metadata": {},
   "source": [
    "- Open everything including internet and wolfram alpha(Please do use wolfram alpha for boring tedious task). It's 2020.\n",
    "- Just no communication regarding exam. Making jokes with your friends is ok.\n",
    "- The total score is 650. You only need to do 600 to get full score."
   ]
  },
  {
   "cell_type": "markdown",
   "metadata": {},
   "source": [
    "## Problem 1\n",
    "\n",
    "### 1.1) (50)\n",
    "Use bisection to solve the following equation\n",
    "\n",
    "$\\exp(x) = x^2$\n",
    "\n",
    "make sure that the uncertainty is at most $10^{-5}$"
   ]
  },
  {
   "cell_type": "code",
   "execution_count": 46,
   "metadata": {},
   "outputs": [
    {
     "name": "stdout",
     "output_type": "stream",
     "text": [
      "-0.7034759521484375\n"
     ]
    }
   ],
   "source": [
    "def f(x):\n",
    "    return np.exp(x) - x**2\n",
    "\n",
    "\n",
    "\n",
    "def bisection(f, a, b, acc):\n",
    "    if f(a)*f(b) > 0:\n",
    "        print(\"No root found.\")\n",
    "    else:\n",
    "        while (b - a)/2 > acc:\n",
    "            midpoint = (a + b)/2\n",
    "            if f(midpoint) == 0:\n",
    "                return(midpoint) \n",
    "            elif f(a)*f(midpoint) <= 0:\n",
    "                b = midpoint\n",
    "            else:\n",
    "                a = midpoint\n",
    "        return (midpoint)\n",
    "\n",
    "\n",
    "print(bisection(f, -2, 2, 1e-5))"
   ]
  },
  {
   "cell_type": "markdown",
   "metadata": {},
   "source": [
    "### 1.2) (50)\n",
    "Write down the Newtons' method update rule for solving\n",
    "\n",
    "$\\exp(x) = x^2$"
   ]
  },
  {
   "cell_type": "code",
   "execution_count": 48,
   "metadata": {},
   "outputs": [
    {
     "name": "stdout",
     "output_type": "stream",
     "text": [
      "-0.7034674224983917\n"
     ]
    }
   ],
   "source": [
    "def center_diff(f, x, h):\n",
    "    return((f(x+h) - f(x-h))/ (2*h))\n",
    "\n",
    "def newton(f, start, n):\n",
    "    for z in range(n):\n",
    "        x_next = start - (f(start)/ center_diff(f, start, 0.05))\n",
    "        start = x_next\n",
    "    return start\n",
    "\n",
    "print(newton(f, 2, 100))"
   ]
  },
  {
   "cell_type": "markdown",
   "metadata": {},
   "source": [
    "## Problem 2 (Wolfram-alpha is your friend)"
   ]
  },
  {
   "cell_type": "markdown",
   "metadata": {},
   "source": [
    "### 1)  (50)\n",
    "\n",
    "Find taylor series for around x=0 for 4 **non-zero** term.\n",
    "\n",
    "$f(x) = (\\sin(x))^2$\n",
    "\n",
    "and use it to find $\\sin(0.3)^2$"
   ]
  },
  {
   "cell_type": "markdown",
   "metadata": {},
   "source": [
    "#### Answer \n",
    "Look in the pdf file"
   ]
  },
  {
   "cell_type": "markdown",
   "metadata": {},
   "source": [
    "### 2) (50)\n",
    "\n",
    "Given what you did above what is your uncertainty?\n",
    "\n",
    "\n"
   ]
  },
  {
   "cell_type": "markdown",
   "metadata": {},
   "source": [
    "#### Answer \n",
    "Look in the pdf file"
   ]
  },
  {
   "cell_type": "markdown",
   "metadata": {},
   "source": [
    "## Problem 3\n",
    "\n",
    "### 3.1 (50)\n",
    "Suppose that we want to perform linear regression of data points $x^{(i)}$ and $y^{(i)}$ for $i=1\\ldots n$ with the function\n",
    "\n",
    "$$\n",
    "y = A \\exp(x) + B \\ln(x) + C\n",
    "$$\n",
    "\n",
    "Write down the normal equation(matrix that you need to solve to get A,B,C).\n"
   ]
  },
  {
   "cell_type": "markdown",
   "metadata": {},
   "source": [
    "#### Answer \n",
    "Look in the pdf file"
   ]
  },
  {
   "cell_type": "markdown",
   "metadata": {},
   "source": [
    "### 3.2 (50)\n",
    "\n",
    "Find Legendre Polynomial which passes through all these points"
   ]
  },
  {
   "cell_type": "code",
   "execution_count": 12,
   "metadata": {
    "ExecuteTime": {
     "end_time": "2020-02-19T01:52:21.574827Z",
     "start_time": "2020-02-19T01:52:21.152616Z"
    }
   },
   "outputs": [
    {
     "data": {
      "text/plain": [
       "[<matplotlib.lines.Line2D at 0x241190df580>]"
      ]
     },
     "execution_count": 12,
     "metadata": {},
     "output_type": "execute_result"
    },
    {
     "data": {
      "image/png": "[encoded data removed]",
      "text/plain": [
       "<Figure size 432x288 with 1 Axes>"
      ]
     },
     "metadata": {
      "needs_background": "light"
     },
     "output_type": "display_data"
    }
   ],
   "source": [
    "xs = np.linspace(0,4,7)\n",
    "ys = np.sin(2*xs)**2 + np.cos(xs)\n",
    "plt.plot(xs, ys, 'o')\n",
    "\n"
   ]
  },
  {
   "cell_type": "code",
   "execution_count": 11,
   "metadata": {},
   "outputs": [
    {
     "data": {
      "text/plain": [
       "[<matplotlib.lines.Line2D at 0x24116ef8520>]"
      ]
     },
     "execution_count": 11,
     "metadata": {},
     "output_type": "execute_result"
    },
    {
     "data": {
      "image/png": "[encoded data removed]",
      "text/plain": [
       "<Figure size 432x288 with 1 Axes>"
      ]
     },
     "metadata": {
      "needs_background": "light"
     },
     "output_type": "display_data"
    }
   ],
   "source": [
    "xs = np.linspace(0,4,7)\n",
    "ys = np.sin(2*xs)**2 + np.cos(xs)\n",
    "plt.plot(xs, ys, 'o')\n",
    "\n",
    "def make_legendre(xs, ys):\n",
    "    def legendre(x):\n",
    "        summand = 0\n",
    "        for ind,zz in enumerate(xs):\n",
    "            xZeros = xs.copy()\n",
    "            c = xZeros.pop(ind)\n",
    "            num = 1\n",
    "            den = 1\n",
    "            for xx in xZeros:\n",
    "                num *= ((x-xx)/(c-xx))\n",
    "            summand += ys[ind]*num\n",
    "        return summand\n",
    "    return legendre\n",
    "\n",
    "line = make_legendre(list(xs), list(ys))\n",
    "ls = np.linspace(0,4, 100)\n",
    "plt.plot(ls, line(ls))"
   ]
  },
  {
   "cell_type": "markdown",
   "metadata": {},
   "source": [
    "## Problem 4\n",
    "\n",
    "### 4.1 (50)\n",
    "\n",
    "Use trapezoid rule to find the following integral. Make sure the uncertainty of your answer is less than $10^{-5}$\n",
    "\n",
    "$$\n",
    "     \\int_0^2 2\\sin(3x) \\; \\text{dx}\n",
    "$$\n",
    "\n"
   ]
  },
  {
   "cell_type": "code",
   "execution_count": 29,
   "metadata": {},
   "outputs": [
    {
     "name": "stdout",
     "output_type": "stream",
     "text": [
      "Answer: 0.026552905432945615\n"
     ]
    }
   ],
   "source": [
    "def f(x):\n",
    "    return 2*np.sin(3*x)\n",
    "\n",
    "def second_der(f, x, h): ##second derivative\n",
    "    return (f(x+h)- 2*f(x) + f(x-h)) / (h**2)\n",
    "\n",
    "\n",
    "def trap_error_bound(f, a, b, n):\n",
    "    p = abs(((b-a)**3 / (12*n**2)) * second_der(f, a, 0.0001))\n",
    "    q = abs(((b-a)**3 / (12*n**2)) * second_der(f, b, 0.0001))\n",
    "    if p > q:\n",
    "        return p\n",
    "    else:\n",
    "        return q\n",
    "    \n",
    "def calc_n(f, a, b): ## Function to calculate how many iterations I need\n",
    "    n = 1\n",
    "    while trap_error_bound(f, a, b, n) > 1e-5:\n",
    "        n += 1\n",
    "    return n\n",
    "\n",
    "def trapezoid(f, a, b, n):\n",
    "    h = abs(b-a)/n\n",
    "    res = 0\n",
    "    for i in range(1,n):\n",
    "        res += f(a+i*h)\n",
    "    return (h/2)*(f(a) + f(b) + 2*res)\n",
    "\n",
    "print(\"Answer:\", trapezoid(f, 0, 2, calc_n(f, 0, 2)))"
   ]
  },
  {
   "cell_type": "markdown",
   "metadata": {},
   "source": [
    "### 4.2 (50)\n",
    "\n",
    "Plot **first** and **second** derivative of $\\sin(x^2)$ for $x=0\\ldots 5$."
   ]
  },
  {
   "cell_type": "code",
   "execution_count": 19,
   "metadata": {},
   "outputs": [
    {
     "data": {
      "text/plain": [
       "[<matplotlib.lines.Line2D at 0x241191f6790>]"
      ]
     },
     "execution_count": 19,
     "metadata": {},
     "output_type": "execute_result"
    },
    {
     "data": {
      "image/png": "[encoded data removed]",
      "text/plain": [
       "<Figure size 432x288 with 1 Axes>"
      ]
     },
     "metadata": {
      "needs_background": "light"
     },
     "output_type": "display_data"
    }
   ],
   "source": [
    "def f(x):\n",
    "    return np.sin(x**2)\n",
    "\n",
    "def first_der(f, x, h): \n",
    "    return ((f(x+h) - f(x-h))/ (2*h))\n",
    "\n",
    "def second_der(f, x, h):\n",
    "    return (f(x+h)- 2*f(x) + f(x-h)) / (h**2)\n",
    "\n",
    "xs = np.linspace(0,5, 1000)\n",
    "plt.plot(xs, first_der(f, xs, 0.001), \"g\")\n",
    "plt.plot(xs, second_der(f, xs, 0.001), \"b\")"
   ]
  },
  {
   "cell_type": "markdown",
   "metadata": {},
   "source": [
    "## Problem 5(100). Tracking Alien\n",
    "\n",
    "In the year 3088, MUIC becomes humanity last fortress against alien attack. You are trying to figure out where the alien hideout exactly is from the alien partial footprint track. There are two types of aliens\n",
    "\n",
    "1. **Red** alien which always travel in a straight line $y = A x + B$.\n",
    "\n",
    "2. **Blue** alien which travel is a weird sinusodal line $y = C\\sin(4x) +D x + E$.\n",
    "\n",
    "Both alien species are originating from `exactly the same hideout` ($x_{hideout}, y_{hideout}$)\n",
    "<img src=\"hideout.png\" width=\"300px\"/>\n",
    "\n",
    "The track data is given below.\n",
    "\n",
    "**Your task:**\n",
    "\n",
    "Find the hideout."
   ]
  },
  {
   "cell_type": "code",
   "execution_count": 20,
   "metadata": {
    "ExecuteTime": {
     "end_time": "2020-02-19T01:52:22.080220Z",
     "start_time": "2020-02-19T01:52:21.580367Z"
    }
   },
   "outputs": [
    {
     "data": {
      "text/plain": [
       "[<matplotlib.lines.Line2D at 0x24119252220>]"
      ]
     },
     "execution_count": 20,
     "metadata": {},
     "output_type": "execute_result"
    },
    {
     "data": {
      "image/png": "[encoded data removed]",
      "text/plain": [
       "<Figure size 432x288 with 1 Axes>"
      ]
     },
     "metadata": {
      "needs_background": "light"
     },
     "output_type": "display_data"
    }
   ],
   "source": [
    "# DO NOT TOUCH THIS\n",
    "np.random.seed(12345)\n",
    "n_red = 1000\n",
    "red_xs = np.linspace(3, 5,n_red)\n",
    "red_ys = 3 * red_xs + 4. + np.random.randn(n_red)\n",
    "plt.plot(red_xs, red_ys, '.r')\n",
    "\n",
    "n_blue = 1000\n",
    "blue_xs = np.linspace(3,5,n_blue)\n",
    "blue_ys = 3*np.sin(blue_xs*4)-10 * blue_xs + 30. + np.random.randn(n_blue)\n",
    "plt.plot(blue_xs, blue_ys, '.b')"
   ]
  },
  {
   "cell_type": "code",
   "execution_count": 28,
   "metadata": {},
   "outputs": [
    {
     "name": "stdout",
     "output_type": "stream",
     "text": [
      "Hideout: 2.15771484375 10.42908886669304\n"
     ]
    }
   ],
   "source": [
    "from scipy.optimize import minimize\n",
    "\n",
    "## finding functions\n",
    "def cost_red(v):\n",
    "    A, B = v\n",
    "    return sum((A*red_xs + B - red_ys)**2)\n",
    "\n",
    "def cost_blue(v):\n",
    "    C, D, E = v\n",
    "    return sum((C*np.sin(4*blue_xs) + D*blue_xs + E - blue_ys)**2)\n",
    "\n",
    "A, B = minimize(cost_red, [4,3]).x\n",
    "C, D, E = minimize(cost_blue, [4, 7, 20]).x\n",
    "\n",
    "#print(A ,B, C, D, E)\n",
    "\n",
    "## Finding intersection/hideout\n",
    "\n",
    "def red_alien(x):\n",
    "    return A*x + B\n",
    "\n",
    "def blue_alien(x):\n",
    "    return C*np.sin(4*x) + D*x + E\n",
    "\n",
    "def hideout(x):\n",
    "    return red_alien(x) - blue_alien(x)\n",
    "\n",
    "def bisection(f, a, b, acc):\n",
    "    if f(a)*f(b) > 0:\n",
    "        print(\"No root found.\")\n",
    "    else:\n",
    "        while (b - a)/2 > acc:\n",
    "            midpoint = (a + b)/2\n",
    "            if f(midpoint) == 0:\n",
    "                return(midpoint) \n",
    "            elif f(a)*f(midpoint) < 0:\n",
    "                b = midpoint\n",
    "            else:\n",
    "                a = midpoint\n",
    "        return (midpoint)\n",
    "\n",
    "x_hideout = bisection(hideout, -3, 3, 0.001)\n",
    "y_hideout = blue_alien(x_hideout)\n",
    "print(\"Hideout:\", x_hideout, y_hideout)"
   ]
  },
  {
   "cell_type": "markdown",
   "metadata": {},
   "source": [
    "# Problem 6(150)."
   ]
  },
  {
   "cell_type": "markdown",
   "metadata": {
    "ExecuteTime": {
     "end_time": "2020-02-18T10:12:43.274867Z",
     "start_time": "2020-02-18T10:12:42.128588Z"
    }
   },
   "source": [
    "**Disclaimer**: This is an oversimplified model. It doesn't really represent the actual situation. After the term ends you will have enough knowledge to do a much better model.\n",
    "\n",
    "This problem concerns the spread of COVID-19 virus. The basic model is the following\n",
    "\n",
    "- At the beginning of day 1 there is excaly 1 patient.\n",
    "\n",
    "- During each day, each active patient(see next one) will spread virus to $R$ more persons.\n",
    "Ex: If $R=0.5$, and at the beginning of the day there are 10 patients. Then at the end of the day, $0.5 \\times 10 = 5$ **more** people gets infected. (Keep all the precisions even if it's not the whole number)\n",
    "\n",
    "- 14 days after infection. The patient either die off(more below) or heal and will no longer spread the virus to others. Ex: This means that the first patient will no longer spread the virus at the end of day 14(during day 14 he still spread the virus). In particular, number of newly infected patient during day 50 is $\\sum_{i=36..49} \\text{newly_infected}_i$\n",
    "\n",
    "- 14 days after infection. A proportion $d$ of patient who are already infected for 14 days will die off and $(1-d)$ will be healed at the end of the day. \n",
    "In particular, if during day 12 there are $n_{12}$ more people who get infected during the day. At the end of day 26, $d \\times n_{12}$ will die off.\n",
    "\n",
    "**Your Task:**\n",
    "\n",
    "At the **beginning** of Day 81 (80 days have passed), there are 80,000 total infected patient(including spreading, dead and healed) and 1000 dead . \n",
    "1. Find $R$.\n",
    "2. Then, find $d$.\n",
    "\n",
    "\n",
    "**Hint**\n",
    "\n",
    "To get last 5 element of the list you can do ``x[-5:]``\n",
    "\n",
    "For you to check your answer.\n",
    "\n",
    "If $R=0.2$ and $d=0.1$, the number of newly infected patient on each day is as follow:\n",
    "```\n",
    "day 0 - newly infected(during) 1 - dead(at the end) 0\n",
    "day 1 - newly infected(during) 0.2 - dead(at the end) 0\n",
    "day 2 - newly infected(during) 0.24 - dead(at the end) 0\n",
    "day 3 - newly infected(during) 0.288 - dead(at the end) 0\n",
    "day 4 - newly infected(during) 0.3456 - dead(at the end) 0\n",
    "day 5 - newly infected(during) 0.41472 - dead(at the end) 0\n",
    "day 6 - newly infected(during) 0.497664 - dead(at the end) 0\n",
    "day 7 - newly infected(during) 0.5971968 - dead(at the end) 0\n",
    "day 8 - newly infected(during) 0.71663616 - dead(at the end) 0\n",
    "day 9 - newly infected(during) 0.8599633919999999 - dead(at the end) 0\n",
    "day 10 - newly infected(during) 1.0319560704 - dead(at the end) 0\n",
    "day 11 - newly infected(during) 1.2383472844799999 - dead(at the end) 0\n",
    "day 12 - newly infected(during) 1.486016741376 - dead(at the end) 0\n",
    "day 13 - newly infected(during) 1.7832200896512 - dead(at the end) 0\n",
    "day 14 - newly infected(during) 2.13986410758144 - dead(at the end) 0.1\n",
    "day 15 - newly infected(during) 2.3678369290977277 - dead(at the end) 0.020000000000000004\n",
    "day 16 - newly infected(during) 2.8014043149172734 - dead(at the end) 0.024\n",
    "day 17 - newly infected(during) 3.3136851779007284 - dead(at the end) 0.0288\n",
    "day 18 - newly infected(during) 3.9188222134808743 - dead(at the end) 0.03456\n",
    "day 19 - newly infected(during) 4.633466656177048 - dead(at the end) 0.041472\n",
    "day 20 - newly infected(during) 5.477215987412459 - dead(at the end) 0.0497664\n",
    "day 21 - newly infected(during) 6.47312638489495 - dead(at the end) 0.05971968\n",
    "day 22 - newly infected(during) 7.648312301873941 - dead(at the end) 0.071663616\n",
    "day 23 - newly infected(during) 9.034647530248728 - dead(at the end) 0.0859963392\n",
    "day 24 - newly infected(during) 10.669584357898474 - dead(at the end) 0.10319560704\n",
    "day 25 - newly infected(during) 12.597110015398169 - dead(at the end) 0.12383472844799999\n",
    "day 26 - newly infected(during) 14.868862561581802 - dead(at the end) 0.1486016741376\n",
    "day 27 - newly infected(during) 17.545431725622965 - dead(at the end) 0.17832200896512002\n",
    "day 28 - newly infected(during) 20.697874052817316 - dead(at the end) 0.213986410758144\n",
    "day 29 - newly infected(during) 24.409476041864494 - dead(at the end) 0.23678369290977277\n",
    "day 30 - newly infected(during) 28.81780386441784 - dead(at the end) 0.28014043149172735\n",
    "day 31 - newly infected(during) 34.02108377431796 - dead(at the end) 0.33136851779007287\n",
    "day 32 - newly infected(during) 40.162563493601404 - dead(at the end) 0.3918822213480875\n",
    "day 33 - newly infected(during) 47.41131174962551 - dead(at the end) 0.4633466656177048\n",
    "day 34 - newly infected(during) 55.9668807683152 - dead(at the end) 0.5477215987412459\n",
    "day 35 - newly infected(during) 66.06481372449575 - dead(at the end) 0.647312638489495\n",
    "day 36 - newly infected(during) 77.98315119241592 - dead(at the end) 0.7648312301873941\n",
    "day 37 - newly infected(during) 92.05011897052431 - dead(at the end) 0.9034647530248728\n",
    "day 38 - newly infected(during) 108.65321325857943 - dead(at the end) 1.0669584357898474\n",
    "day 39 - newly infected(during) 128.2499390387156 - dead(at the end) 1.259711001539817\n",
    "day 40 - newly infected(during) 151.3805048433791 - dead(at the end) 1.4868862561581802\n",
    "day 41 - newly infected(during) 178.68283329973858 - dead(at the end) 1.7545431725622966\n",
    "day 42 - newly infected(during) 210.9103136145617 - dead(at the end) 2.0697874052817316\n",
    "day 43 - newly infected(during) 248.95280152691058 - dead(at the end) 2.4409476041864497\n",
    "day 44 - newly infected(during) 293.8614666239198 - dead(at the end) 2.8817803864417844\n",
    "day 45 - newly infected(during) 346.8701991758202 - dead(at the end) 3.402108377431796\n",
    "day 46 - newly infected(during) 409.4400222561206 - dead(at the end) 4.01625634936014\n",
    "day 47 - newly infected(during) 483.2955140086245 - dead(at the end) 4.741131174962551\n",
    "day 48 - newly infected(during) 570.4723544604243 - dead(at the end) 5.59668807683152\n",
    "day 49 - newly infected(during) 673.3734491988462 - dead(at the end) 6.606481372449576\n",
    "day 50 - newly infected(during) 794.8351762937164 - dead(at the end) 7.798315119241592\n",
    "day 51 - newly infected(during) 938.2055813139764 - dead(at the end) 9.205011897052431\n",
    "day 52 - newly infected(during) 1107.4366737826665 - dead(at the end) 10.865321325857943\n",
    "day 53 - newly infected(during) 1307.193365887484 - dead(at the end) 12.824993903871562\n",
    "day 54 - newly infected(during) 1542.9820512572378 - dead(at the end) 15.13805048433791\n",
    "day 55 - newly infected(during) 1821.3023605400097 - dead(at the end) 17.86828332997386\n",
    "day 56 - newly infected(during) 2149.826265988064 - dead(at the end) 21.09103136145617\n",
    "day 57 - newly infected(during) 2537.6094564627642 - dead(at the end) 24.895280152691058\n",
    "day 58 - newly infected(during) 2995.3407874499353 - dead(at the end) 29.38614666239198\n",
    "day 59 - newly infected(during) 3535.636651615138 - dead(at the end) 34.68701991758202\n",
    "day 60 - newly infected(during) 4173.389942103002 - dead(at the end) 40.94400222561206\n",
    "day 61 - newly infected(during) 4926.179926072378 - dead(at the end) 48.32955140086245\n",
    "day 62 - newly infected(during) 5814.756808485129 - dead(at the end) 57.047235446042436\n",
    "day 63 - newly infected(during) 6863.613699290069 - dead(at the end) 67.33734491988461\n",
    "day 64 - newly infected(during) 8101.661749308315 - dead(at the end) 79.48351762937165\n",
    "day 65 - newly infected(during) 9563.027063911235 - dead(at the end) 93.82055813139765\n",
    "day 66 - newly infected(during) 11287.991360430688 - dead(at the end) 110.74366737826665\n",
    "day 67 - newly infected(during) 13324.102297760292 - dead(at the end) 130.7193365887484\n",
    "day 68 - newly infected(during) 15727.484084134852 - dead(at the end) 154.2982051257238\n",
    "day 69 - newly infected(during) 18564.384490710374 - dead(at the end) 182.130236054001\n",
    "day 70 - newly infected(during) 21913.00091674445 - dead(at the end) 214.9826265988064\n",
    "day 71 - newly infected(during) 25865.635846895726 - dead(at the end) 253.76094564627644\n",
    "day 72 - newly infected(during) 30531.24112498232 - dead(at the end) 299.53407874499356\n",
    "day 73 - newly infected(during) 36038.4211924888 - dead(at the end) 353.5636651615138\n",
    "day 74 - newly infected(during) 42538.97810066353 - dead(at the end) 417.3389942103002\n",
    "day 75 - newly infected(during) 50212.09573237563 - dead(at the end) 492.61799260723785\n",
    "day 76 - newly infected(during) 59269.278893636285 - dead(at the end) 581.475680848513\n",
    "day 77 - newly infected(during) 69960.18331066651 - dead(at the end) 686.361369929007\n",
    "day 78 - newly infected(during) 82579.49723294181 - dead(at the end) 810.1661749308315\n",
    "day 79 - newly infected(during) 97475.06432966852 - dead(at the end) 956.3027063911236\n",
    "day 80 - newly infected(during) 115057.47178281995 - dead(at the end) 1128.7991360430688\n",
    "```\n",
    "\n",
    "\n",
    "\n",
    "**Bonus: 0.0000000000001 point just for fun**\n",
    "\n",
    "You can think about this model as if we makes no effort in controlling the virus. No quarantine, no awareness, no reserch on the cure. You will find that with this model and the number you found the virus will take over the world.\n",
    "\n",
    "In real life, a lot of effort are made to control the virus, you can think about it as $R$ is decreasing over time.\n",
    "\n",
    "To see why this is important:\n",
    "\n",
    "Given this model, there is a critical value of $R$ that is if $R$ is greater than the critical value the virus will take over the world. Find/Approximate $R_\\text{critical}$.\n",
    "\n"
   ]
  },
  {
   "cell_type": "code",
   "execution_count": 108,
   "metadata": {},
   "outputs": [
    {
     "name": "stdout",
     "output_type": "stream",
     "text": [
      "R: 0.166015625\n"
     ]
    }
   ],
   "source": [
    "### I know the solution is not correct at all. I didn't understand how I can simulate people who become \n",
    "### not spreading (heal or die) the virus. (You will see, that my values are correct until the 14th day.)\n",
    "\n",
    "def virus(R, day):\n",
    "    active = 1\n",
    "    new = 1\n",
    "    inactive = 0\n",
    "    news = [1]\n",
    "    for i in range(0, day):\n",
    "        #print(\"day\", i, \"newly infected:\", new)\n",
    "        new = active*R\n",
    "        news.append(new)\n",
    "        active += new\n",
    "        if (i%13) == 0 and i != 0: ## Here I tried to mention the healed or died persons\n",
    "            for i in range(0, 13):\n",
    "                active -= (1/(i+1))*news[i]\n",
    "            news = []        \n",
    "    return active \n",
    "\n",
    "def total_on80(R):\n",
    "    return virus(R, 80) - 80000\n",
    "\n",
    "def bisection(f, a, b, acc):\n",
    "    if f(a)*f(b) > 0:\n",
    "        print(\"No root found.\")\n",
    "    else:\n",
    "        while (b - a)/2 > acc:\n",
    "            midpoint = (a + b)/2\n",
    "            if f(midpoint) == 0:\n",
    "                return(midpoint) \n",
    "            elif f(a)*f(midpoint) < 0:\n",
    "                b = midpoint\n",
    "            else:\n",
    "                a = midpoint\n",
    "        return (midpoint)\n",
    "    \n",
    "print(\"R:\", bisection(total_on80, 0, 1, 0.001))\n",
    "#virus(0.2, 20)\n"
   ]
  },
  {
   "cell_type": "code",
   "execution_count": null,
   "metadata": {},
   "outputs": [],
   "source": []
  }
 ],
 "metadata": {
  "hide_input": false,
  "kernelspec": {
   "display_name": "Python 3",
   "language": "python",
   "name": "python3"
  },
  "language_info": {
   "codemirror_mode": {
    "name": "ipython",
    "version": 3
   },
   "file_extension": ".py",
   "mimetype": "text/x-python",
   "name": "python",
   "nbconvert_exporter": "python",
   "pygments_lexer": "ipython3",
   "version": "3.8.1"
  },
  "toc": {
   "colors": {
    "hover_highlight": "#DAA520",
    "running_highlight": "#FF0000",
    "selected_highlight": "#FFD700"
   },
   "moveMenuLeft": true,
   "nav_menu": {
    "height": "30px",
    "width": "252px"
   },
   "navigate_menu": true,
   "number_sections": false,
   "sideBar": true,
   "threshold": 4,
   "toc_cell": false,
   "toc_section_display": "block",
   "toc_window_display": false
  }
 },
 "nbformat": 4,
 "nbformat_minor": 2
}
