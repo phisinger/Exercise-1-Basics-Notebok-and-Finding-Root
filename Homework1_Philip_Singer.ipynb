{
 "cells": [
  {
   "cell_type": "code",
   "execution_count": 12,
   "metadata": {},
   "outputs": [],
   "source": [
    "%matplotlib inline\n",
    "import math\n",
    "import numpy as np\n",
    "from matplotlib import pyplot as plt"
   ]
  },
  {
   "cell_type": "code",
   "execution_count": 13,
   "metadata": {},
   "outputs": [
    {
     "name": "stdout",
     "output_type": "stream",
     "text": [
      "Python version\n",
      "3.8.1 (tags/v3.8.1:1b293b6, Dec 18 2019, 23:11:46) [MSC v.1916 64 bit (AMD64)]\n",
      "Version info.\n",
      "sys.version_info(major=3, minor=8, micro=1, releaselevel='final', serial=0)\n"
     ]
    }
   ],
   "source": [
    "import sys\n",
    "print(\"Python version\")\n",
    "print (sys.version)\n",
    "print(\"Version info.\")\n",
    "print (sys.version_info)"
   ]
  },
  {
   "cell_type": "markdown",
   "metadata": {},
   "source": [
    "# Homework"
   ]
  },
  {
   "cell_type": "markdown",
   "metadata": {},
   "source": [
    "## Problem 1\n",
    "\n",
    "Give me the solution to $x = e^{-x}$ that is $10^{-6}$ using bisection method.\n",
    "\n",
    "Pick the initial bound from the following and explain why you can't pick the other one.\n",
    "Bound A: (-1,0), Bound B (0,1)"
   ]
  },
  {
   "cell_type": "code",
   "execution_count": 14,
   "metadata": {},
   "outputs": [
    {
     "name": "stdout",
     "output_type": "stream",
     "text": [
      "new bound:  0.5\n",
      "new bound:  0.75\n",
      "new bound:  0.625\n",
      "new bound:  0.5625\n",
      "new bound:  0.59375\n",
      "new bound:  0.578125\n",
      "new bound:  0.5703125\n",
      "new bound:  0.56640625\n",
      "new bound:  0.568359375\n",
      "new bound:  0.5673828125\n",
      "new bound:  0.56689453125\n",
      "new bound:  0.567138671875\n",
      "new bound:  0.5672607421875\n",
      "new bound:  0.56719970703125\n",
      "new bound:  0.567169189453125\n",
      "new bound:  0.5671539306640625\n",
      "new bound:  0.5671463012695312\n",
      "new bound:  0.5671424865722656\n",
      "new bound:  0.5671443939208984\n",
      "new bound:  0.567143440246582\n"
     ]
    },
    {
     "data": {
      "image/png": "[encoded data removed]",
      "text/plain": [
       "<Figure size 432x288 with 1 Axes>"
      ]
     },
     "metadata": {
      "needs_background": "light"
     },
     "output_type": "display_data"
    }
   ],
   "source": [
    "x_cos = np.linspace(-1.2, 1.2, 100)\n",
    "y_cos = np.exp(-x_cos) - x_cos\n",
    "plt.plot(x_cos, y_cos)\n",
    "\n",
    "\n",
    "error = 1.0\n",
    "bound_l = 0\n",
    "bound_r = 1\n",
    "\n",
    "plt.axvline(x=bound_l)\n",
    "plt.axvline(x=bound_r)\n",
    "\n",
    "\n",
    "def fun(x):\n",
    "    return np.exp(-x) - x\n",
    "\n",
    "\n",
    "while(error > 0.000001):\n",
    "    #print \"error: \" , error\n",
    "    error = error * 0.5\n",
    "    #print \"error: \" , error\n",
    "    new_bound = (bound_l + bound_r) * 0.5\n",
    "    #print \"bound_l: \" , bound_l\n",
    "    #print \"bound_r: \" , bound_r\n",
    "    print (\"new bound: \" , new_bound)\n",
    "    plt.axvline(x=new_bound, color = \"red\")\n",
    "    plt.plot()\n",
    "    \n",
    "    if( fun(new_bound)* fun(bound_r) < 0):\n",
    "        bound_l = new_bound\n",
    "    else:\n",
    "        bound_r = new_bound\n",
    "        \n",
    "##############ANSWER#############\n",
    "#You can't pick -1 and 0 because f(-1) and f(0) have the same sign.\n",
    "#With this circumstances bisection doesn't work"
   ]
  },
  {
   "cell_type": "markdown",
   "metadata": {},
   "source": [
    "## Problem 2\n",
    "Find all value of $x \\in [0,1]$ such that $f(x)=0$ for\n",
    "\n",
    "$f(x) = -0.000216747 + 0.0072868 x - 0.0977383 x^2 + 0.664685 x^3 - \n",
    " 2.40773 x^4 + 4.46766 x^5 - 3.7091 x^6 + x^7$\n",
    " \n",
    "Make sure your answers are at most $10^{-6}$ away from the real solution."
   ]
  },
  {
   "cell_type": "code",
   "execution_count": null,
   "metadata": {},
   "outputs": [],
   "source": []
  },
  {
   "cell_type": "code",
   "execution_count": 15,
   "metadata": {},
   "outputs": [],
   "source": [
    "def f(x):\n",
    "    return -0.000216747 + 0.0072868*x - 0.0977383*x**2 + 0.664685*x**3 - \\\n",
    "            2.40773*x**4 + 4.46766*x**5 - 3.7091*x**6 + x**7\n"
   ]
  },
  {
   "cell_type": "markdown",
   "metadata": {},
   "source": [
    "2.1) Find all the local minima and maxima of the above function. How do you figure out whether it is a local maximum or local minimum"
   ]
  },
  {
   "cell_type": "code",
   "execution_count": 16,
   "metadata": {},
   "outputs": [
    {
     "name": "stdout",
     "output_type": "stream",
     "text": [
      "local maximums: \n",
      "x:  0.19136724472045893 y:  1.3690761972153735e-06\n",
      "x:  0.6817805290222166 y:  0.0038258083219751132\n",
      "local minimums: \n",
      "x:  0.2970913887023926 y:  -1.214713659837129e-05\n"
     ]
    },
    {
     "data": {
      "image/png": "[encoded data removed]",
      "text/plain": [
       "<Figure size 432x288 with 1 Axes>"
      ]
     },
     "metadata": {
      "needs_background": "light"
     },
     "output_type": "display_data"
    }
   ],
   "source": [
    "def df(x): #first derivative\n",
    "    return 0.0072868 - 2*0.0977383*x + 3*0.664685*x**2 - \\\n",
    "    4*2.40773*x**3 + 5*4.46766*x**4 - 6*3.7091*x**5 + 7*x**6\n",
    "    \n",
    "def ddf(x): #second derivative\n",
    "    return -2*0.0977383 + 6*0.664685*x - 12*2.40773*x**2 + 20*4.46766*x**3 - 30*3.7091*x**4 + 42*x**5\n",
    "\n",
    "x_df = np.linspace(0, 1, 100)\n",
    "y_df = df(x_df)\n",
    "plt.plot(x_df, y_df, color=\"red\")\n",
    "\n",
    "bound_l = 0.0\n",
    "bound_r = 0.2\n",
    "x_max = []\n",
    "x_min = []\n",
    "ran  = [0.0, 0.1, 0.2, 0.3, 0.4, 0.5, 0.6, 0.7, 0.8, 0.9]\n",
    "\n",
    "\n",
    "for i in ran:\n",
    "    error = 1\n",
    "    bound_l = i\n",
    "    bound_r = i+ 0.1\n",
    "    while(error > 0.000001):\n",
    "        error = error * 0.5\n",
    "        new_bound = (bound_l + bound_r) * 0.5\n",
    "        #print \"new bound: \" , new_bound\n",
    "        plt.axvline(x=new_bound, color = \"green\")\n",
    "        plt.plot()\n",
    "\n",
    "        if( df(new_bound)* df(bound_r) < 0):\n",
    "            bound_l = new_bound\n",
    "        elif(df(new_bound) * df(bound_l) <0):\n",
    "            bound_r = new_bound\n",
    "        else:\n",
    "            new_bound = None\n",
    "            break\n",
    "        \n",
    "    \n",
    "    if new_bound not in x_max and new_bound != None:\n",
    "        x_max.append(new_bound)\n",
    "        #print \"extrempoint: \", new_bound\n",
    "        \n",
    "for value in x_max:\n",
    "    if ddf(value) > 0:\n",
    "        x_max.remove(value)\n",
    "        x_min.append(value)\n",
    "    \n",
    "\n",
    "print (\"local maximums: \")\n",
    "for value in x_max:\n",
    "    print (\"x: \", value, \"y: \", f(value)) \n",
    "\n",
    "print (\"local minimums: \")\n",
    "for value in x_min:\n",
    "    print (\"x: \", value, \"y: \", f(value))\n",
    "    \n",
    "#To find local minimums or maximums, first you have to find the intersection of the first derivation.\n",
    "#This point you enter in the second derivation. If the result is positive you have found a minimum, if it is negative you have found a maximum"
   ]
  },
  {
   "cell_type": "markdown",
   "metadata": {},
   "source": [
    "2.2) What is the `global maximum` and `global minimum` of the function above within the range $x\\in[0,1]$"
   ]
  },
  {
   "cell_type": "code",
   "execution_count": 17,
   "metadata": {},
   "outputs": [
    {
     "name": "stdout",
     "output_type": "stream",
     "text": [
      "global max:  0.19136724472045893 y:  1.3690761972153735e-06\n",
      "global min:  1 y:  -0.07515324699999937\n"
     ]
    },
    {
     "data": {
      "image/png": "[encoded data removed]",
      "text/plain": [
       "<Figure size 432x288 with 1 Axes>"
      ]
     },
     "metadata": {
      "needs_background": "light"
     },
     "output_type": "display_data"
    }
   ],
   "source": [
    "### Just plotting\n",
    "x_f = np.linspace(0, 1, 100)\n",
    "y_f = f(x_f)\n",
    "x_df = np.linspace(0, 1, 100)\n",
    "y_df = df(x_df)\n",
    "x_ddf = np.linspace(0, 1, 100)\n",
    "y_ddf = ddf(x_ddf)\n",
    "\n",
    "plt.plot(x_f, y_f, color=\"orange\")\n",
    "plt.plot(x_df, y_df, color=\"red\")\n",
    "#plt.plot(x_ddf, y_ddf, color=\"blue\")\n",
    "\n",
    "g_max = f(0)\n",
    "g_min = f(0)\n",
    "\n",
    "for value in x_max:\n",
    "    if f(value) > g_max:\n",
    "        g_max = value\n",
    "\n",
    "if f(1) > g_max:\n",
    "        g_max = 1\n",
    "        \n",
    "        \n",
    "for value in x_min:\n",
    "    if f(value) < g_min:\n",
    "        g_min = value\n",
    "\n",
    "if f(1) < g_min:\n",
    "        g_min = 1\n",
    "        \n",
    "print (\"global max: \", g_max, \"y: \", f(g_max))\n",
    "print (\"global min: \", g_min, \"y: \", f(g_min))        \n"
   ]
  },
  {
   "cell_type": "markdown",
   "metadata": {},
   "source": [
    "## Problem 3\n",
    "In quantum physics, when finding a bound state for a finite potential well one would end up with the following equation(Yes E is negative):\n",
    "\n",
    "$$\n",
    "\\sqrt{\\frac{-E}{E+V_0}} = \\tan \\sqrt{2m \\frac{E+V_0}{\\hbar^2} a}\n",
    "$$\n",
    "\n",
    "The goal is to find all Energy($E$) that satisfy this equation.\n",
    "For simplicity, let\n",
    "- $V_0 = 1$\n",
    "- $m = 1$\n",
    "- $a = 1$\n",
    "- $\\hbar = 1$(Yes this is called natural unit)\n",
    "\n",
    "$$\n",
    "    \\sqrt{\\frac{-E}{E+1}} = \\tan \\sqrt{2(E+1)}\n",
    "$$\n",
    "\n",
    "Find the value for $E\\in (-1.0, 0)$ which satisfy the equation above). Make sure you accuracy is $<\\pm10^{-4}$\n"
   ]
  },
  {
   "cell_type": "code",
   "execution_count": 18,
   "metadata": {},
   "outputs": [
    {
     "name": "stdout",
     "output_type": "stream",
     "text": [
      "-0.6000000000000001\n",
      "-0.7000000000000001\n",
      "-0.6500000000000001\n",
      "-0.6250000000000001\n",
      "-0.6125\n",
      "-0.6062500000000001\n",
      "-0.6031250000000001\n",
      "-0.6046875\n",
      "-0.6039062500000001\n",
      "-0.6035156250000001\n",
      "-0.6037109375\n",
      "-0.6038085937500001\n",
      "-0.6038574218750001\n",
      "-0.6038818359375001\n"
     ]
    },
    {
     "data": {
      "text/plain": [
       "[<matplotlib.lines.Line2D at 0x1e7568986d0>]"
      ]
     },
     "execution_count": 18,
     "metadata": {},
     "output_type": "execute_result"
    },
    {
     "data": {
      "image/png": "[encoded data removed]",
      "text/plain": [
       "<Figure size 432x288 with 1 Axes>"
      ]
     },
     "metadata": {
      "needs_background": "light"
     },
     "output_type": "display_data"
    }
   ],
   "source": [
    "def f(x):\n",
    "    return math.sqrt(-x/(x+1))\n",
    "def g(x):\n",
    "    return math.tan(math.sqrt(2*(x + 1)))\n",
    "\n",
    "def fg(x):\n",
    "    return f(x) - g(x)\n",
    "\n",
    "error = 1.0\n",
    "bound_l = -0.8\n",
    "bound_r = -0.4\n",
    "\n",
    "while(error > 0.0001):\n",
    "    error = error / 2\n",
    "    new_bound = (bound_l + bound_r) / 2\n",
    "    print(new_bound)\n",
    "    plt.axvline(x=new_bound, color = \"green\")\n",
    "    plt.plot()\n",
    "    \n",
    "    if( fg(new_bound)* fg(bound_r) < 0):\n",
    "        bound_l = new_bound\n",
    "    else:\n",
    "        bound_r = new_bound\n",
    "\n",
    "\n",
    "\n",
    "xs = np.linspace(-0.999,-0.1, 100)\n",
    "fx = [f(x) for x in xs]\n",
    "gx = [g(x) for x in xs]\n",
    "fgx = [fg(x) for x in xs]\n",
    "plt.plot(xs,fx)\n",
    "plt.plot(xs,gx)\n",
    "plt.plot(xs,fgx, color = \"red\")"
   ]
  },
  {
   "cell_type": "markdown",
   "metadata": {},
   "source": [
    "## Problem 4\n",
    "Ply quit programming and decide to be a Apple(fruit) shop owner. He bought 1000 apples everyday and try to sell it. The probability $k$ customer want Ply's apple(one each) is given by Poisson distribution:\n",
    "\n",
    "$$\n",
    "    P(k; \\lambda) = \\frac{\\lambda^k \\exp(-\\lambda)}{k!}\n",
    "$$\n",
    "\n",
    "Where $\\lambda$ is an parameter that represent the mean of number of people that want Ply's apple each day.\n",
    "\n",
    "After selling apples for 2000 days Ply found that his 1000 apples a day are sold out 600 days out of 2000 days.\n",
    "\n",
    "The goal for this problem is to figure out how he should change the number of apples he bought in a day.\n",
    "\n",
    "- In case you are curious https://en.wikipedia.org/wiki/Poisson_distribution. The true distribution of this selling apple process should be binomial distribution but with large enough customer and low enough probability of an individual buying an apple this is an excellent approximatoin."
   ]
  },
  {
   "cell_type": "markdown",
   "metadata": {
    "collapsed": true
   },
   "source": [
    "4.1) You may find that if you try to code poisson distribution directly. It will not work with large number.\n",
    "$$\n",
    "    P(k; \\lambda) = \\frac{\\lambda^k \\exp(-\\lambda)}{k!}\n",
    "$$\n",
    "\n",
    "Explain briefly why python complains"
   ]
  },
  {
   "cell_type": "code",
   "execution_count": 19,
   "metadata": {},
   "outputs": [
    {
     "name": "stdout",
     "output_type": "stream",
     "text": [
      "Answer: the type float isn't capable to hold such big numbers, because the result of factorial is too big\n"
     ]
    }
   ],
   "source": [
    "import math\n",
    "def bad_poisson(lmd, k):\n",
    "    return pow(lmd,k)*math.exp(-lmd)/math.factorial(k)\n",
    "#bad_poisson(200,200) # uncomment to see it breaks\n",
    "\n",
    "print(\"Answer: the type float isn't capable to hold such big numbers, because the result of factorial is too big\" )"
   ]
  },
  {
   "cell_type": "markdown",
   "metadata": {},
   "source": [
    "4.2) A very useful trick to avoid this problem is to take log and exponentiate. That is\n",
    "\n",
    "$$\n",
    "    P(k; \\lambda) = \\exp\\left( \\ln \\left[ \\frac{\\lambda^k \\exp(-\\lambda)}{k!} \\right] \\right)\n",
    "$$\n",
    "\n",
    "First, show that\n",
    "$$\n",
    "    \\ln(P(k; \\lambda)) = (\\ldots \\ln(\\ldots)-\\ldots)-\\ln(k!)\n",
    "$$\n",
    "\n"
   ]
  },
  {
   "cell_type": "markdown",
   "metadata": {
    "collapsed": true
   },
   "source": [
    "### Proof:\n",
    "Using the logarithm rules we get:\n",
    "$$\n",
    "\\ln(P(k; \\lambda)) = \\ln(\\frac{\\lambda^k \\exp(-\\lambda)}{k!}) = \\ln(\\lambda^k \\exp(-\\lambda)) - \\ln(k!)\n",
    "    = \\ln(\\lambda^k) + \\ln(\\exp(-\\lambda)) - \\ln(k!) = k*\\ln(\\lambda) - \\lambda - ln(k!)\n",
    "$$\n",
    "q.e.d."
   ]
  },
  {
   "cell_type": "markdown",
   "metadata": {},
   "source": [
    "4.3) $\\ln(k!)$ shows up everywhere in math. So most math library have `lgamma` function to compute this very fast.\n",
    "For example,\n",
    "\n",
    "`math.lgamma(5) == math.log(math.factorial(4))`\n",
    "\n",
    "Your job for this problem is to implement $P(k; \\lambda)$ using log-exp trick.\n",
    "\n",
    "If you do it right, $P(k=1000; \\mu=1000) \\approx 0.0126146$"
   ]
  },
  {
   "cell_type": "code",
   "execution_count": 20,
   "metadata": {},
   "outputs": [
    {
     "data": {
      "text/plain": [
       "0.012614611348719664"
      ]
     },
     "execution_count": 20,
     "metadata": {},
     "output_type": "execute_result"
    }
   ],
   "source": [
    "def good_poisson(lmd, k):\n",
    "    return np.exp((k*math.log(lmd)-lmd)-math.lgamma(k+1))\n",
    "good_poisson(1000,1000)"
   ]
  },
  {
   "cell_type": "markdown",
   "metadata": {},
   "source": [
    "4.4) Now here is the fun part. Suppose that $\\lambda = 987.6$(this is not true). Find the probability that Ply will sell all his 1000 apples. (Remember if 2000 people want Ply's apple, he his apple will also be sold out). \n",
    "\n",
    "And No, summing up to infinity is not practical."
   ]
  },
  {
   "cell_type": "code",
   "execution_count": 32,
   "metadata": {},
   "outputs": [
    {
     "name": "stdout",
     "output_type": "stream",
     "text": [
      "Answer\n",
      "We get the propability for P('1000 or more apples') by subtracting P('999 or fewer apples') from 1.\n",
      "The chance that Ply sells all his apples is :  36.260488004681335 %\n"
     ]
    }
   ],
   "source": [
    "print(\"Answer\")\n",
    "print(\"We get the propability for P('1000 or more apples') by subtracting P('999 or fewer apples') from 1.\")\n",
    "\n",
    "def poisson_percentage(lmd):\n",
    "    totalPercent= 0\n",
    "    for p in range (999):\n",
    "        totalPercent += good_poisson(lmd,p) #chance Ply sells less then 1000 apples\n",
    "    return 1-totalPercent\n",
    "print(\"The chance that Ply sells all his apples is : \", poisson_percentage(987.6)*100 , \"%\")"
   ]
  },
  {
   "cell_type": "markdown",
   "metadata": {},
   "source": [
    "4.5) Recall the information that\n",
    "\n",
    "After selling apples for 2000 days Ply found that his 1000 apples a day are sold out 600 days out of 2000 days.\n",
    "\n",
    "Find the value for $\\lambda$ to a decent accuracy($<\\pm 0.1$)"
   ]
  },
  {
   "cell_type": "code",
   "execution_count": 33,
   "metadata": {},
   "outputs": [
    {
     "name": "stdout",
     "output_type": "stream",
     "text": [
      "lambda:  982.2265625\n"
     ]
    },
    {
     "data": {
      "image/png": "[encoded data removed]",
      "text/plain": [
       "<Figure size 432x288 with 1 Axes>"
      ]
     },
     "metadata": {
      "needs_background": "light"
     },
     "output_type": "display_data"
    }
   ],
   "source": [
    "xs=np.linspace(900,1000,200)\n",
    "def find_lambda(lmd):\n",
    "    totalPercent= 0\n",
    "    for i in range (0,999):\n",
    "        totalPercent += good_poisson(lmd,i) #chance Ply sells less then 1000 apples\n",
    "    \n",
    "    return ((1-totalPercent)-0.3)*100\n",
    "\n",
    "#print(xs)\n",
    "arr = [find_lambda(i) for i in xs]\n",
    "\n",
    "plt.plot(xs,arr)\n",
    "plt.axhline(color='red')\n",
    "\n",
    "def bisection(f, a, b, acc):\n",
    "    if f(a)*f(b) > 0:\n",
    "        print(\"No root found.\")\n",
    "    else:\n",
    "        while (b - a)/2 > acc:\n",
    "            midpoint = (a + b)/2\n",
    "            if f(midpoint) == 0:\n",
    "                return(midpoint) \n",
    "            elif f(a)*f(midpoint) < 0:\n",
    "                b = midpoint\n",
    "            else:\n",
    "                a = midpoint\n",
    "        return (midpoint)\n",
    "\n",
    "lamb = bisection(find_lambda, 800, 1200, 0.1)\n",
    "print(\"lambda: \" , lamb)"
   ]
  },
  {
   "cell_type": "markdown",
   "metadata": {},
   "source": [
    "4.6) Using $\\lambda$ you found in 4.5).\n",
    "\n",
    "Ply bounght apple for 20 Baht each and he sell it for 50 Baht each. Which means that for each apple he sells he make a profit of 30 baht. But, at the end of each day Ply has to trash all unsold Apples(taking a loss of 20 Baht each).\n",
    "\n",
    "If Ply bought 1000 apples a day, what would be his expected profit(remember expected value from discrete math/stat/quantum?)."
   ]
  },
  {
   "cell_type": "code",
   "execution_count": 23,
   "metadata": {},
   "outputs": [
    {
     "name": "stdout",
     "output_type": "stream",
     "text": [
      "Ply's profit'  20153.262712307518 baht\n"
     ]
    }
   ],
   "source": [
    "def ex_profit(lmd):\n",
    "    profit=0\n",
    "    for i in range(1000):\n",
    "        profit += good_poisson(lmd,i)*(i*30 - (1000-i)*20) #chance of occuring*value of the event, add all of them up\n",
    "    return profit\n",
    "print(\"Ply's profit' \", ex_profit(lamb), \"baht\")\n"
   ]
  },
  {
   "cell_type": "markdown",
   "metadata": {},
   "source": [
    "4.7) Using $\\lambda$ you found in 4.5) Find the number of apple Ply should buy in a day to maximize his expected profit."
   ]
  },
  {
   "cell_type": "code",
   "execution_count": 24,
   "metadata": {},
   "outputs": [
    {
     "data": {
      "text/plain": [
       "[<matplotlib.lines.Line2D at 0x1e7568f9af0>]"
      ]
     },
     "execution_count": 24,
     "metadata": {},
     "output_type": "execute_result"
    },
    {
     "data": {
      "image/png": "[encoded data removed]",
      "text/plain": [
       "<Figure size 432x288 with 1 Axes>"
      ]
     },
     "metadata": {
      "needs_background": "light"
     },
     "output_type": "display_data"
    }
   ],
   "source": [
    "def ex_profit_func(num_apples,lmd):\n",
    "    profit=0\n",
    "    for i in range(num_apples):\n",
    "        profit += good_poisson(lmd,i)*(i*30 - (num_apples-i)*20) #chance of occuring*value of the event, add all of them up\n",
    "    return profit\n",
    "\n",
    "arr=[ex_profit_func(k,lamb) for k in range(800,1200)]\n",
    "xs=[k for k in range(800,1200)]\n",
    "plt.plot(xs,arr)"
   ]
  },
  {
   "cell_type": "markdown",
   "metadata": {},
   "source": [
    "## Problem 5\n",
    "\n",
    "Full Width at Half Maximum(FWHM). Distribution width is a very important quantity. It tells you how wide a the distribution is. One way to do that is to use a quantity called full-width half max.\n",
    "\n",
    "This is the width of the distribution at half maximum. \n",
    "\n",
    "For example for distribution shown below the maximum is at x=0.0 and y=1.0\n",
    "\n",
    "The maximum of this distribution is 1.0. So we are interested in the width of the distribution when the value of the distribution is 1.0/2=0.5\n",
    "\n",
    "The width of the distribution is shown in black line. In this case it's about 2.35"
   ]
  },
  {
   "cell_type": "code",
   "execution_count": 25,
   "metadata": {},
   "outputs": [
    {
     "data": {
      "text/plain": [
       "Text(0, 0.3, 'FWHM')"
      ]
     },
     "execution_count": 25,
     "metadata": {},
     "output_type": "execute_result"
    },
    {
     "data": {
      "image/png": "[encoded data removed]",
      "text/plain": [
       "<Figure size 432x288 with 1 Axes>"
      ]
     },
     "metadata": {
      "needs_background": "light"
     },
     "output_type": "display_data"
    }
   ],
   "source": [
    "import math\n",
    "def demo(x):\n",
    "    return math.exp(-x**2/2.0)\n",
    "x = np.linspace(-3,3)\n",
    "y = [demo(xx) for xx in x]\n",
    "plt.plot(x,y)\n",
    "plt.axhline(0.5, color='red')\n",
    "\n",
    "plt.axvline(2.355/2,color='red',linestyle='dashed')\n",
    "plt.axvline(-2.355/2,color='red',linestyle='dashed')\n",
    "\n",
    "plt.grid()\n",
    "plt.annotate(\n",
    "    '', xy=(-2.355/2, 0.4), xycoords='data',\n",
    "    xytext=(2.355/2, 0.4), textcoords='data',\n",
    "    arrowprops={'arrowstyle': '<->'})\n",
    "plt.text(0,0.3,'FWHM',horizontalalignment ='center')"
   ]
  },
  {
   "cell_type": "markdown",
   "metadata": {},
   "source": [
    "5.1)Find FWHM of the following function. Make sure the bound on error of the FWHM is less than $10^{-4}$."
   ]
  },
  {
   "cell_type": "code",
   "execution_count": 26,
   "metadata": {},
   "outputs": [
    {
     "name": "stdout",
     "output_type": "stream",
     "text": [
      "FWHM:  6.200555711984634\n"
     ]
    },
    {
     "data": {
      "image/png": "[encoded data removed]",
      "text/plain": [
       "<Figure size 432x288 with 1 Axes>"
      ]
     },
     "metadata": {
      "needs_background": "light"
     },
     "output_type": "display_data"
    }
   ],
   "source": [
    "import math\n",
    "def f(x, gamma=3.1):\n",
    "    mu = 2.345\n",
    "    return gamma/((x-mu)**2+gamma**2)\n",
    "\n",
    "def df(x, gamma=3.1):\n",
    "    mu = 2.345\n",
    "    return -(2*gamma*(x-mu))/((x-mu)**2+gamma**2)**2\n",
    "\n",
    "error = 1.0\n",
    "bound_l = 0.0\n",
    "bound_r = 5.0\n",
    "\n",
    "while(error > 0.0001):\n",
    "    error = error * 0.5\n",
    "    new_bound = (bound_l + bound_r) * 0.5\n",
    "    #print(new_bound)\n",
    "    #plt.axvline(x=new_bound, color = \"green\")\n",
    "    #plt.plot()\n",
    "    \n",
    "    if( df(new_bound)* df(bound_r) < 0):\n",
    "        bound_l = new_bound\n",
    "    else:\n",
    "        bound_r = new_bound\n",
    "\n",
    "f_max = f(new_bound)\n",
    "#print \"new_bound: \", new_bound\n",
    "#print \"f_max: \", f_max\n",
    "\n",
    "plt.axhline(f_max*0.5, color='red')\n",
    "\n",
    "def ff(x, gamma=3.1):\n",
    "    mu = 2.345\n",
    "    return gamma/((x-mu)**2+gamma**2) - f_max*0.5\n",
    "\n",
    "bounds = [[-10, new_bound], [new_bound, 10]]\n",
    "FWHM = 0\n",
    "\n",
    "for b in bounds:\n",
    "    bound_l = b[0]\n",
    "    bound_r = b[1]\n",
    "    error = 1\n",
    "        \n",
    "    while(error > 0.0001):\n",
    "        error = error *0.5\n",
    "        new_bound = (bound_l + bound_r) * 0.5    \n",
    "        if( ff(new_bound)* ff(bound_r) < 0):\n",
    "            bound_l = new_bound\n",
    "        else:\n",
    "            bound_r = new_bound\n",
    "            \n",
    "    plt.axvline(new_bound, color='green', linestyle='dashed')\n",
    "    FWHM = FWHM + abs(new_bound)\n",
    "    \n",
    "\n",
    "x = np.linspace(-10,10,200)\n",
    "y = [f(xx) for xx in x]\n",
    "y5 = [ff(xx) for xx in x]\n",
    "#dy = [df(dx) for dx in x]\n",
    "plt.plot(x,y)\n",
    "#plt.plot(x,y5)\n",
    "#plt.plot(x,dy)\n",
    "\n",
    "print (\"FWHM: \", FWHM)"
   ]
  },
  {
   "cell_type": "markdown",
   "metadata": {},
   "source": [
    "5.2) Plot FWHM(y-axis) as a function of $\\gamma$(gamma) from $\\gamma=0.5\\ldots 3$. Make sure you have at least 30 points."
   ]
  },
  {
   "cell_type": "code",
   "execution_count": 27,
   "metadata": {},
   "outputs": [
    {
     "name": "stdout",
     "output_type": "stream",
     "text": [
      "0.1081651140465921\n",
      "6.200049850158393\n"
     ]
    },
    {
     "data": {
      "image/png": "[encoded data removed]",
      "text/plain": [
       "<Figure size 432x288 with 1 Axes>"
      ]
     },
     "metadata": {
      "needs_background": "light"
     },
     "output_type": "display_data"
    }
   ],
   "source": [
    "print(f(1.0, gamma=0.2)) # you may find this useful\n",
    "\n",
    "#####\n",
    "\n",
    "\n",
    "def f(x, gamma=3.1):\n",
    "        mu = 2.345\n",
    "        return gamma/((x-mu)**2+gamma**2)\n",
    "\n",
    "def df(x, gamma=3.1):\n",
    "    mu = 2.345\n",
    "    return -(2*gamma*(x-mu))/((x-mu)**2+gamma**2)**2\n",
    "\n",
    "\n",
    "    \n",
    "def FWHM(gamma):\n",
    "\n",
    "    #finding maximum of f\n",
    "    error = 1.0\n",
    "    bound_l = -10\n",
    "    bound_r = 10\n",
    "\n",
    "    while(error > 0.00001):\n",
    "        error = error * 0.5\n",
    "        new_bound = (bound_l + bound_r) * 0.5\n",
    "        if( df(new_bound, gamma)* df(bound_r, gamma) < 0):\n",
    "            bound_l = new_bound\n",
    "        else:\n",
    "            bound_r = new_bound\n",
    "\n",
    "    f_max = f(new_bound)\n",
    "    mul = 0.5\n",
    "    \n",
    "    def ff(x, gamma=3.1):\n",
    "        mu = 2.345\n",
    "        return gamma/((x-mu)**2+gamma**2) - f_max*mul\n",
    "    #plt.axhline(f_max*mul, color='red')\n",
    "    \n",
    "    #Finding FWHM\n",
    "    bounds = [[-10, new_bound], [new_bound, 10]]\n",
    "    FWHM = []\n",
    "\n",
    "    for b in bounds:\n",
    "        bound_l = b[0]\n",
    "        bound_r = b[1]\n",
    "        error = 1\n",
    "\n",
    "        while(error > 0.00001):\n",
    "            error = error *0.5\n",
    "            new_bound = (bound_l + bound_r) * 0.5    \n",
    "            if( ff(new_bound, gamma)* ff(bound_r, gamma) < 0):\n",
    "                bound_l = new_bound\n",
    "            else:\n",
    "                bound_r = new_bound\n",
    "\n",
    "        #plt.axvline(new_bound, color='green', linestyle='dashed')\n",
    "        FWHM.append(new_bound)\n",
    "    \n",
    "\n",
    "    return abs(FWHM[0] - FWHM[1])\n",
    "        \n",
    "x = np.linspace(0.5, 3,100)\n",
    "y = [FWHM(xx) for xx in x]\n",
    "plt.plot(x,y, color =\"black\")\n",
    "a = np.linspace(-10,10,200)\n",
    "b = [f(xx) for xx in a]\n",
    "#plt.plot(a, b, color=\"green\")\n",
    "print(FWHM(3.1))"
   ]
  },
  {
   "cell_type": "code",
   "execution_count": 28,
   "metadata": {},
   "outputs": [
    {
     "name": "stdout",
     "output_type": "stream",
     "text": [
      "0.1081651140465921\n"
     ]
    },
    {
     "data": {
      "text/plain": [
       "[<matplotlib.lines.Line2D at 0x1e756446280>]"
      ]
     },
     "execution_count": 28,
     "metadata": {},
     "output_type": "execute_result"
    },
    {
     "data": {
      "image/png": "[encoded data removed]",
      "text/plain": [
       "<Figure size 432x288 with 1 Axes>"
      ]
     },
     "metadata": {
      "needs_background": "light"
     },
     "output_type": "display_data"
    }
   ],
   "source": [
    "print(f(1.0, gamma=0.2)) # you may find this useful\n",
    "x = np.linspace(-10,10,200)\n",
    "y = [f(xx, 0.2) for xx in x]\n",
    "plt.plot(x,y)"
   ]
  },
  {
   "cell_type": "markdown",
   "metadata": {
    "collapsed": true
   },
   "source": [
    "5.3) (Optional) Prove the relation you found in 5.2)"
   ]
  },
  {
   "cell_type": "code",
   "execution_count": null,
   "metadata": {},
   "outputs": [],
   "source": []
  }
 ],
 "metadata": {
  "kernelspec": {
   "display_name": "Python 3",
   "language": "python",
   "name": "python3"
  },
  "language_info": {
   "codemirror_mode": {
    "name": "ipython",
    "version": 3
   },
   "file_extension": ".py",
   "mimetype": "text/x-python",
   "name": "python",
   "nbconvert_exporter": "python",
   "pygments_lexer": "ipython3",
   "version": "3.8.1"
  },
  "toc": {
   "colors": {
    "hover_highlight": "#DAA520",
    "running_highlight": "#FF0000",
    "selected_highlight": "#FFD700"
   },
   "moveMenuLeft": true,
   "nav_menu": {
    "height": "30px",
    "width": "252px"
   },
   "navigate_menu": true,
   "number_sections": false,
   "sideBar": true,
   "threshold": 4,
   "toc_cell": false,
   "toc_section_display": "block",
   "toc_window_display": false
  }
 },
 "nbformat": 4,
 "nbformat_minor": 1
}
