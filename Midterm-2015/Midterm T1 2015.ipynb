{
 "cells": [
  {
   "cell_type": "markdown",
   "metadata": {},
   "source": [
    "###Instruction\n",
    " - There are 8 problems. 100 Points each. The full score is 720.\n",
    " - Work in your notebook.\n",
    " - You may show your work on a separate sheet of A4. I'll also check there for partial credit. If you just give you answer without justification and it's wrong I can't give you any partial credit.\n",
    " - You may ask me for python syntax or matplotlib question. But, you know you can use shift-tab or ? for documentation.\n",
    " - Make sure your code works in order doing Kernel-->restart and then Cell--> Run All. Make sure what appears in the ouput is what you expect"
   ]
  },
  {
   "cell_type": "code",
   "execution_count": 2,
   "metadata": {},
   "outputs": [],
   "source": [
    "%matplotlib inline\n",
    "import numpy as np\n",
    "from matplotlib import pyplot as plt\n",
    "import math"
   ]
  },
  {
   "cell_type": "markdown",
   "metadata": {},
   "source": [
    "###Problem 1)(100) 25 each."
   ]
  },
  {
   "cell_type": "markdown",
   "metadata": {},
   "source": [
    "1.1) Find first 3 **non-zero** terms taylor series expansion of\n",
    "$$ f(x) = \\sqrt{1+x} $$ around $x=0$."
   ]
  },
  {
   "cell_type": "code",
   "execution_count": null,
   "metadata": {},
   "outputs": [],
   "source": []
  },
  {
   "cell_type": "markdown",
   "metadata": {},
   "source": [
    "1.2) Use the taylor series above to estimate $$\\sqrt{0.9}$$."
   ]
  },
  {
   "cell_type": "code",
   "execution_count": null,
   "metadata": {},
   "outputs": [],
   "source": []
  },
  {
   "cell_type": "markdown",
   "metadata": {},
   "source": [
    "1.3) What is the bound on **truncation error** for the estimate you got in 1.2)?"
   ]
  },
  {
   "cell_type": "code",
   "execution_count": null,
   "metadata": {},
   "outputs": [],
   "source": []
  },
  {
   "cell_type": "markdown",
   "metadata": {},
   "source": [
    "1.4) How many **non-zero** terms do I need such that the bound **truncation error** is less than $10^{-7}$?\n",
    "\n",
    "Hint: Try doing a couple derivative and you will see the patterns."
   ]
  },
  {
   "cell_type": "code",
   "execution_count": null,
   "metadata": {},
   "outputs": [],
   "source": []
  },
  {
   "cell_type": "markdown",
   "metadata": {},
   "source": [
    "### Problem 2) (100)"
   ]
  },
  {
   "cell_type": "markdown",
   "metadata": {},
   "source": [
    "2.1) Use bisection method to find **all solutions** of\n",
    "\n",
    "$$ 2e^{-0.1x}\\sin(x) = 0.55 $$\n",
    "\n",
    "for $x>0$. See pic below.\n",
    "\n",
    "Make sure your answers are at most $10^{-4}$ away from the actual solution."
   ]
  },
  {
   "cell_type": "code",
   "execution_count": 4,
   "metadata": {},
   "outputs": [
    {
     "name": "stdout",
     "output_type": "stream",
     "text": [
      "0.2869873046875\n",
      "2.77032470703125\n",
      "6.860809326171875\n",
      "8.708038330078125\n"
     ]
    },
    {
     "data": {
      "image/png": "[encoded data removed]",
      "text/plain": [
       "<Figure size 432x288 with 1 Axes>"
      ]
     },
     "metadata": {
      "needs_background": "light"
     },
     "output_type": "display_data"
    }
   ],
   "source": [
    "def f(x):\n",
    "    return 2*math.exp(-0.1*x)*math.sin(x)\n",
    "x = np.linspace(0,20,100)\n",
    "fx = [f(xx) for xx in x]\n",
    "plt.plot(x,fx, 'r')\n",
    "plt.axhline(0.55)\n",
    "plt.grid()\n",
    "\n",
    "def bis_f(x):\n",
    "    return 2*math.exp(-0.1*x)*math.sin(x)-0.55\n",
    "\n",
    "def bisection(f, a, b, acc):\n",
    "    if f(a)*f(b) > 0:\n",
    "        print(\"No root found.\")\n",
    "    else:\n",
    "        while (b - a)/2 > acc:\n",
    "            midpoint = (a + b)/2\n",
    "            if f(midpoint) == 0:\n",
    "                return(midpoint) \n",
    "            elif f(a)*f(midpoint) < 0:\n",
    "                b = midpoint\n",
    "            else:\n",
    "                a = midpoint\n",
    "        return (midpoint)\n",
    "    \n",
    "\n",
    "print(bisection(bis_f, 0, 2, 1e-4))\n",
    "print(bisection(bis_f, 2, 5, 1e-4))\n",
    "print(bisection(bis_f, 5, 7.5, 1e-4))\n",
    "print(bisection(bis_f, 7.5, 10, 1e-4))"
   ]
  },
  {
   "cell_type": "code",
   "execution_count": null,
   "metadata": {},
   "outputs": [],
   "source": []
  },
  {
   "cell_type": "markdown",
   "metadata": {},
   "source": [
    "###Problem 3) (100)"
   ]
  },
  {
   "cell_type": "markdown",
   "metadata": {
    "collapsed": true
   },
   "source": [
    "3.1) (90 points) Use Newton's method to find intersection of the following two lines.\n",
    "\n",
    "$$f(x) = e^x -1.5$$\n",
    "\n",
    "$$g(x) = x + \\sin(x)$$\n",
    "\n",
    "Any **decent** result from Newton's method will get your full credit. You **must** use Newton's method. No credit will be given to any other method. "
   ]
  },
  {
   "cell_type": "code",
   "execution_count": 6,
   "metadata": {},
   "outputs": [
    {
     "data": {
      "image/png": "[encoded data removed]",
      "text/plain": [
       "<Figure size 432x288 with 1 Axes>"
      ]
     },
     "metadata": {
      "needs_background": "light"
     },
     "output_type": "display_data"
    }
   ],
   "source": [
    "def f(x):\n",
    "    return math.exp(x) - 1.5\n",
    "def g(x):\n",
    "    return x + math.sin(x)\n",
    "x = np.linspace(0,2,100)\n",
    "fx = [f(xx) for xx in x]\n",
    "gx = [g(xx) for xx in x]\n",
    "plt.plot(x,fx)\n",
    "plt.plot(x,gx)\n",
    "plt.grid()"
   ]
  },
  {
   "cell_type": "code",
   "execution_count": 7,
   "metadata": {},
   "outputs": [
    {
     "name": "stdout",
     "output_type": "stream",
     "text": [
      "1.3378496477902477\n"
     ]
    }
   ],
   "source": [
    "def new_func(x):\n",
    "    return f(x) - g(x)\n",
    "\n",
    "def center_diff(f, x, h):\n",
    "    return((f(x+h) - f(x-h))/ (2*h))\n",
    "\n",
    "def newton(f, start, n):\n",
    "    for z in range(n):\n",
    "        x_next = start - (f(start)/ center_diff(f, start, 0.05))\n",
    "        start = x_next\n",
    "    return start\n",
    "\n",
    "print(newton(new_func, 1.5, 100))"
   ]
  },
  {
   "cell_type": "markdown",
   "metadata": {},
   "source": [
    "3.2)(5 Points) Which method converge faster: Newton's Method or bisection?"
   ]
  },
  {
   "cell_type": "code",
   "execution_count": null,
   "metadata": {
    "collapsed": true
   },
   "outputs": [],
   "source": []
  },
  {
   "cell_type": "markdown",
   "metadata": {},
   "source": [
    "3.3) (5 Points) Does Newton's method guarantee to convege to the real answer?"
   ]
  },
  {
   "cell_type": "code",
   "execution_count": null,
   "metadata": {
    "collapsed": true
   },
   "outputs": [],
   "source": []
  },
  {
   "cell_type": "markdown",
   "metadata": {},
   "source": [
    "### Problem 4)  (100)"
   ]
  },
  {
   "cell_type": "markdown",
   "metadata": {
    "collapsed": true
   },
   "source": [
    "4.1)(35 points) Show that\n",
    "\n",
    "$$f'(x) = \\frac{-f(x+2h)+4f(x+h)-3f(x)}{2h} + O(h^2)$$"
   ]
  },
  {
   "cell_type": "code",
   "execution_count": null,
   "metadata": {
    "collapsed": true
   },
   "outputs": [],
   "source": []
  },
  {
   "cell_type": "markdown",
   "metadata": {},
   "source": [
    "4.2)(35 points) Let\n",
    "$$f(x) = \\sin(x^2)$$\n",
    "Plot for $x \\in [0,2\\pi]$ the following lines\n",
    "\n",
    "1. $f(x)$\n",
    "2. $f'(x)$ caculated numerically using central difference method\n",
    "3. $f''(x)$ calculated numerically\n",
    "\n",
    "Pick appropriate value for $h$. Analytical answers will not be accepted."
   ]
  },
  {
   "cell_type": "code",
   "execution_count": null,
   "metadata": {
    "collapsed": true
   },
   "outputs": [],
   "source": []
  },
  {
   "cell_type": "markdown",
   "metadata": {},
   "source": [
    "4.3)(30 points) Plot polynomial of **degree 3** that passes through the following four points.\n",
    "$$(0.1, 3), (0.2,1), (0.5, -1), (1, 1) $$\n",
    "\n",
    "Make sure your polynomial is of **degree 3**."
   ]
  },
  {
   "cell_type": "code",
   "execution_count": null,
   "metadata": {
    "collapsed": true
   },
   "outputs": [],
   "source": []
  },
  {
   "cell_type": "markdown",
   "metadata": {},
   "source": [
    "###Problem 5)  (100)"
   ]
  },
  {
   "cell_type": "markdown",
   "metadata": {
    "collapsed": true
   },
   "source": [
    "5.1) (70 points)Use trapezoid rule with 100 subdivision to find the following calculate the following integral.\n",
    "\n",
    "$$ \\int\\limits_{x=1}^{x=2} \\frac{1}{x} \\; dx$$"
   ]
  },
  {
   "cell_type": "code",
   "execution_count": null,
   "metadata": {
    "collapsed": true
   },
   "outputs": [],
   "source": []
  },
  {
   "cell_type": "markdown",
   "metadata": {},
   "source": [
    "5.2) (15 points)What is bound on **truncation error** for your answer in 3.1)"
   ]
  },
  {
   "cell_type": "code",
   "execution_count": null,
   "metadata": {
    "collapsed": true
   },
   "outputs": [],
   "source": []
  },
  {
   "cell_type": "markdown",
   "metadata": {},
   "source": [
    "5.3) (15 points) How many subdivision do we need to make sure that our answer is at most $10^{-6}$ from the real answer?"
   ]
  },
  {
   "cell_type": "code",
   "execution_count": null,
   "metadata": {
    "collapsed": true
   },
   "outputs": [],
   "source": []
  },
  {
   "cell_type": "markdown",
   "metadata": {},
   "source": [
    "### Problem 6) (100)"
   ]
  },
  {
   "cell_type": "markdown",
   "metadata": {
    "collapsed": true
   },
   "source": [
    "6.1) (70 points) An ice cream store record the temperature and number of ice cream sold on each day. The store have the following data. The store owner want to model the data with a straight line\n",
    "$$ s = at + b$$\n",
    "where $s$ is sale number and $t$ is temperature in celcius.\n",
    "\n",
    "Find the slope and intercept of the best fitted line using least square method."
   ]
  },
  {
   "cell_type": "code",
   "execution_count": 4,
   "metadata": {},
   "outputs": [
    {
     "data": {
      "image/png": "[encoded data removed]",
      "text/plain": [
       "<matplotlib.figure.Figure at 0x105ede090>"
      ]
     },
     "metadata": {},
     "output_type": "display_data"
    }
   ],
   "source": [
    "temperature = [ 20.        ,  20.51724138,  21.03448276,  21.55172414,\n",
    "        22.06896552,  22.5862069 ,  23.10344828,  23.62068966,\n",
    "        24.13793103,  24.65517241,  25.17241379,  25.68965517,\n",
    "        26.20689655,  26.72413793,  27.24137931,  27.75862069,\n",
    "        28.27586207,  28.79310345,  29.31034483,  29.82758621,\n",
    "        30.34482759,  30.86206897,  31.37931034,  31.89655172,\n",
    "        32.4137931 ,  32.93103448,  33.44827586,  33.96551724,\n",
    "        34.48275862,  35.        ]\n",
    "sale = [ 137.51785095,  124.64402538,  134.12166738,  136.9660818 ,\n",
    "        125.79715671,  134.69878693,  143.17103597,  132.86731762,\n",
    "        139.17234271,  163.95542568,  154.81626083,  156.57737534,\n",
    "        164.53795806,  150.94106806,  158.46257369,  176.40478845,\n",
    "        159.69716465,  188.52792981,  173.26043665,  185.19117472,\n",
    "        188.23649894,  177.70904806,  176.95357726,  186.04751343,\n",
    "        192.19480621,  187.55949344,  195.22922111,  201.86099821,\n",
    "        195.35633724,  217.96614178]\n",
    "plt.plot(temperature, sale, '.')\n",
    "plt.ylabel('Ice cream sale')\n",
    "plt.xlabel('Temperature C')\n",
    "plt.grid()"
   ]
  },
  {
   "cell_type": "code",
   "execution_count": null,
   "metadata": {
    "collapsed": true
   },
   "outputs": [],
   "source": []
  },
  {
   "cell_type": "markdown",
   "metadata": {},
   "source": [
    "6.2) (15 points)Plot the best fitted line along with the data points."
   ]
  },
  {
   "cell_type": "code",
   "execution_count": null,
   "metadata": {
    "collapsed": true
   },
   "outputs": [],
   "source": []
  },
  {
   "cell_type": "markdown",
   "metadata": {},
   "source": [
    "6.3) (15 points) If the temperature today is 30 degree, how many ice cream do we expect to sell?"
   ]
  },
  {
   "cell_type": "code",
   "execution_count": null,
   "metadata": {
    "collapsed": true
   },
   "outputs": [],
   "source": []
  },
  {
   "cell_type": "markdown",
   "metadata": {},
   "source": [
    "###Problem 7) (100)"
   ]
  },
  {
   "cell_type": "markdown",
   "metadata": {},
   "source": [
    "7) Find the area of the shaded region to a decent accuracy. \n",
    "\n",
    "The blue line is\n",
    "$$f(x) = e^{-x}\\sin(\\pi x)$$\n",
    "and the green line is\n",
    "$$g(x) = 0.5 - \\frac{x}{2.5}$$"
   ]
  },
  {
   "cell_type": "code",
   "execution_count": 5,
   "metadata": {},
   "outputs": [
    {
     "data": {
      "text/plain": [
       "<matplotlib.collections.PolyCollection at 0x10641d4d0>"
      ]
     },
     "execution_count": 5,
     "metadata": {},
     "output_type": "execute_result"
    },
    {
     "data": {
      "image/png": "[encoded data removed]",
      "text/plain": [
       "<matplotlib.figure.Figure at 0x106196210>"
      ]
     },
     "metadata": {},
     "output_type": "display_data"
    }
   ],
   "source": [
    "x = np.linspace(0,2,100)\n",
    "def f(x):\n",
    "    return math.exp(-x)*math.sin(math.pi*x)\n",
    "def g(x):\n",
    "    return 0.5-x/2.5\n",
    "fx = np.array([f(xx) for xx in x])\n",
    "gx = np.array([g(xx) for xx in x])\n",
    "plt.plot(x,fx)\n",
    "plt.plot(x,gx)\n",
    "plt.grid()\n",
    "plt.axhline(0,color='k')\n",
    "plt.fill_between(x,fx,gx,where=((fx>gx) & (gx>0)), color='red', alpha=0.3)"
   ]
  },
  {
   "cell_type": "code",
   "execution_count": null,
   "metadata": {
    "collapsed": true
   },
   "outputs": [],
   "source": []
  },
  {
   "cell_type": "markdown",
   "metadata": {},
   "source": [
    "###Problem 8)  (100)"
   ]
  },
  {
   "cell_type": "markdown",
   "metadata": {},
   "source": [
    "8) Cheating Fourier Series. In the homework you have found that you can approximate the function using a bunch of sine and cosine and there is a way to find each of the coefficient by performing integrations.\n",
    "\n",
    "Now we are going to achieve a similar effect **without** integration. We will use least square method instead.\n",
    "\n",
    "Let us consider the triangular function shown below. We want to approximate this using a bunch of sines:\n",
    "\n",
    "$$ \\text{triangle}(x) \\approx a \\sin(\\pi x) + b \\sin(3 \\pi x) + c \\sin(5 \\pi x) $$\n",
    "\n",
    "**Find a, b, and c using least squre method. Plot your approximation along with triangular curve.**\n",
    "\n",
    "Hint: This question is actually much easier than it looks. Figure out what is your data and what is your parameter.\n",
    "\n",
    "Hint2: You may use `np.linalg.solve`. Type `?np.linalg.solve` for documentation. Scroll down for example. Also, `np.sin` and all those numpy broadcast operations will save countless number of lines from your code."
   ]
  },
  {
   "cell_type": "code",
   "execution_count": 6,
   "metadata": {},
   "outputs": [
    {
     "data": {
      "image/png": "[encoded data removed]",
      "text/plain": [
       "<matplotlib.figure.Figure at 0x106062410>"
      ]
     },
     "metadata": {},
     "output_type": "display_data"
    }
   ],
   "source": [
    "def triangle(x):\n",
    "    t = x%2.0\n",
    "    if t < 0.5: \n",
    "        return 1*t\n",
    "    elif t < 1.5:\n",
    "        return 1-t\n",
    "    else:\n",
    "        return t-2\n",
    "\n",
    "x = np.linspace(0,5,100)\n",
    "y = [triangle(xx) for xx in x]\n",
    "plt.plot(x,y)\n",
    "plt.grid()"
   ]
  },
  {
   "cell_type": "code",
   "execution_count": null,
   "metadata": {
    "collapsed": true
   },
   "outputs": [],
   "source": []
  }
 ],
 "metadata": {
  "kernelspec": {
   "display_name": "Python 3",
   "language": "python",
   "name": "python3"
  },
  "language_info": {
   "codemirror_mode": {
    "name": "ipython",
    "version": 3
   },
   "file_extension": ".py",
   "mimetype": "text/x-python",
   "name": "python",
   "nbconvert_exporter": "python",
   "pygments_lexer": "ipython3",
   "version": "3.8.1"
  }
 },
 "nbformat": 4,
 "nbformat_minor": 1
}
