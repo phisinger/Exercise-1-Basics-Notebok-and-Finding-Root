{
 "cells": [
  {
   "cell_type": "code",
   "execution_count": 1,
   "metadata": {},
   "outputs": [],
   "source": [
    "import numpy as np\n",
    "from matplotlib import pyplot as plt"
   ]
  },
  {
   "cell_type": "markdown",
   "metadata": {},
   "source": [
    "- open everything including internet and wolfram alpha.\n",
    "- Just no communication\n",
    "- The total score is 650. You only need to do 600 to get full score."
   ]
  },
  {
   "cell_type": "markdown",
   "metadata": {},
   "source": [
    "## Problem 1\n",
    "\n",
    "### 1.1) (50)\n",
    "Find the intersection between these two lines. Get both of them and make sure your uncertainty is less than 1e-6."
   ]
  },
  {
   "cell_type": "code",
   "execution_count": 2,
   "metadata": {},
   "outputs": [
    {
     "data": {
      "image/png": "[encoded data removed]",
      "text/plain": [
       "<Figure size 432x288 with 1 Axes>"
      ]
     },
     "metadata": {
      "needs_background": "light"
     },
     "output_type": "display_data"
    }
   ],
   "source": [
    "def f(x):\n",
    "    return -10*np.exp(-x**2)+0.5*x\n",
    "def g(x):\n",
    "    return x**2 - x - 3\n",
    "xs = np.linspace(0,5,100)\n",
    "fys = f(xs)\n",
    "gys = g(xs)\n",
    "plt.plot(xs, fys)\n",
    "plt.plot(xs, gys)\n",
    "plt.grid()\n",
    "\n"
   ]
  },
  {
   "cell_type": "code",
   "execution_count": null,
   "metadata": {},
   "outputs": [],
   "source": []
  },
  {
   "cell_type": "markdown",
   "metadata": {},
   "source": [
    "### 1.2) (50)\n",
    "Consider finding $\\sqrt[7]{18} = x^{18}$ (the real root).\n",
    "\n",
    "Show that we can find such number with the following formula\n",
    "\n",
    "$$\n",
    "x_{n+1} = A x_n + \\frac{B}{x_n^C}\n",
    "$$\n",
    "\n",
    "Find $A, B, C$. Be careful with the sign.\n",
    "    \n",
    "\n",
    "\n",
    "\n"
   ]
  },
  {
   "cell_type": "code",
   "execution_count": null,
   "metadata": {},
   "outputs": [],
   "source": []
  },
  {
   "cell_type": "markdown",
   "metadata": {},
   "source": [
    "## Problem 2 (Wolfram-alpha is your friend)"
   ]
  },
  {
   "cell_type": "markdown",
   "metadata": {},
   "source": [
    "### 1)  (50)\n",
    "\n",
    "Find taylor series for around x=0 for 4 **non-zero** term.\n",
    "\n",
    "$f(x) = e^x \\sin(x)$\n",
    "\n",
    "and use it to find $e\\times sin(1)$"
   ]
  },
  {
   "cell_type": "code",
   "execution_count": null,
   "metadata": {},
   "outputs": [],
   "source": []
  },
  {
   "cell_type": "markdown",
   "metadata": {},
   "source": [
    "### 2) (50)\n",
    "\n",
    "Given what you did above what is your uncertainty?\n",
    "\n",
    "\n"
   ]
  },
  {
   "cell_type": "code",
   "execution_count": null,
   "metadata": {},
   "outputs": [],
   "source": []
  },
  {
   "cell_type": "markdown",
   "metadata": {},
   "source": [
    "## Problem 3\n",
    "\n",
    "### 3.1 (50)\n",
    "Suppose that we want to perform linear regression of data points $x^{(i)}$ and $y^{(i)}$ for $i=1\\ldots n$ with the function\n",
    "\n",
    "$$\n",
    "y = A \\sin(x) + B \\cos(x) + C\n",
    "$$\n",
    "\n",
    "Write down the normal equation(matrix that you need to solve to get A,B,C).\n"
   ]
  },
  {
   "cell_type": "code",
   "execution_count": null,
   "metadata": {},
   "outputs": [],
   "source": []
  },
  {
   "cell_type": "markdown",
   "metadata": {},
   "source": []
  },
  {
   "cell_type": "markdown",
   "metadata": {},
   "source": []
  },
  {
   "cell_type": "markdown",
   "metadata": {},
   "source": [
    "### 3.2 (50)\n",
    "\n",
    "Find Legendre Polynomial which passes through all these points"
   ]
  },
  {
   "cell_type": "code",
   "execution_count": 3,
   "metadata": {},
   "outputs": [
    {
     "data": {
      "text/plain": [
       "[<matplotlib.lines.Line2D at 0x11f2c41a5e0>]"
      ]
     },
     "execution_count": 3,
     "metadata": {},
     "output_type": "execute_result"
    },
    {
     "data": {
      "image/png": "[encoded data removed]",
      "text/plain": [
       "<Figure size 432x288 with 1 Axes>"
      ]
     },
     "metadata": {
      "needs_background": "light"
     },
     "output_type": "display_data"
    }
   ],
   "source": [
    "xs = np.linspace(0,4,7)\n",
    "ys = np.sin(xs)**2 + np.cos(xs)\n",
    "plt.plot(xs, ys, 'o')\n",
    "\n",
    "def make_legendre(xs, ys):\n",
    "    def legendre(x):\n",
    "        summand = 0\n",
    "        for ind,zz in enumerate(xs):\n",
    "            xZeros = xs.copy()\n",
    "            c = xZeros.pop(ind)\n",
    "            num = 1\n",
    "            den = 1\n",
    "            for xx in xZeros:\n",
    "                num *= ((x-xx)/(c-xx))\n",
    "            summand += ys[ind]*num\n",
    "        return summand\n",
    "    return legendre\n",
    "\n",
    "fun = make_legendre(list(xs), list(ys))\n",
    "xs = np.linspace(0,4)\n",
    "plt.plot(xs, fun(xs))"
   ]
  },
  {
   "cell_type": "markdown",
   "metadata": {},
   "source": [
    "## Problem 4 (50)\n",
    "\n",
    "Fit the data given in `problem4.txt` with the function of the form.\n",
    "$$\n",
    "    f(x) = A\\exp(-(x-\\mu)^2)+Bx\n",
    "$$\n",
    "\n",
    "Find $A, \\mu, B$ which gives you the best fit."
   ]
  },
  {
   "cell_type": "code",
   "execution_count": 4,
   "metadata": {},
   "outputs": [
    {
     "data": {
      "text/plain": [
       "[<matplotlib.lines.Line2D at 0x11f3ae42d30>]"
      ]
     },
     "execution_count": 4,
     "metadata": {},
     "output_type": "execute_result"
    },
    {
     "data": {
      "image/png": "[encoded data removed]",
      "text/plain": [
       "<Figure size 432x288 with 1 Axes>"
      ]
     },
     "metadata": {
      "needs_background": "light"
     },
     "output_type": "display_data"
    }
   ],
   "source": [
    "from scipy.optimize import minimize\n",
    "\n",
    "xs, ys = np.loadtxt('problem4.txt')\n",
    "plt.plot(xs, ys, '.')\n",
    "\n",
    "def cost(v):\n",
    "    a, u, b = v\n",
    "    return sum((a*np.exp(-(xs - u)**2) + b*xs - ys)**2)\n",
    "\n",
    "result = minimize(cost, [1,1,1])\n",
    "a, u, b  = result.x\n",
    "\n",
    "plt.plot(xs, a*np.exp(-(xs - u)**2) + b*xs, color=\"orange\")"
   ]
  },
  {
   "cell_type": "markdown",
   "metadata": {},
   "source": [
    "## Problem 5\n",
    "\n",
    "### 5.1 (50)\n",
    "\n",
    "Use trapezoid rule to find the following integral. Make sure the uncertainty of your answer is less than $10^{-5}$\n",
    "\n",
    "$$\n",
    "     \\int_0^2 3\\sin(x) \\; \\text{dx}\n",
    "$$\n",
    "\n"
   ]
  },
  {
   "cell_type": "code",
   "execution_count": null,
   "metadata": {},
   "outputs": [],
   "source": []
  },
  {
   "cell_type": "markdown",
   "metadata": {},
   "source": [
    "### 5.2 (50)\n",
    "\n",
    "Plot **first** and **second** derivative of $\\sin(\\sin(x))$ for $x=0\\ldots 2\\pi$. Yes there are two $\\sin$s."
   ]
  },
  {
   "cell_type": "code",
   "execution_count": null,
   "metadata": {},
   "outputs": [],
   "source": []
  },
  {
   "cell_type": "markdown",
   "metadata": {},
   "source": [
    "## Problem 6\n",
    "\n",
    "Enough for boring basic stuff. Let's do Something Fun\n",
    "\n",
    "### 6.1 (100)\n",
    "\n",
    "Find the value $C$ such that the area enclosed between the two curves$f,g$ is exactly 1. Area under the blue line but above the orange line.\n",
    "\n",
    "$$\n",
    "    f(x) = -10\\exp(-x^2)+0.5x\\\\\n",
    "    g(x) = x^2 - x - C\n",
    "$$\n",
    "\n",
    "\n",
    "\n",
    "\n"
   ]
  },
  {
   "cell_type": "code",
   "execution_count": 5,
   "metadata": {},
   "outputs": [
    {
     "name": "stdout",
     "output_type": "stream",
     "text": [
      "C: 2.1486854553222647\n",
      "area: 0.9999814830003504\n"
     ]
    },
    {
     "data": {
      "text/plain": [
       "<function matplotlib.pyplot.figure(num=None, figsize=None, dpi=None, facecolor=None, edgecolor=None, frameon=True, FigureClass=<class 'matplotlib.figure.Figure'>, clear=False, **kwargs)>"
      ]
     },
     "execution_count": 5,
     "metadata": {},
     "output_type": "execute_result"
    },
    {
     "data": {
      "image/png": "[encoded data removed]",
      "text/plain": [
       "<Figure size 432x288 with 1 Axes>"
      ]
     },
     "metadata": {
      "needs_background": "light"
     },
     "output_type": "display_data"
    }
   ],
   "source": [
    "C = 0.9\n",
    "\n",
    "def f(x):\n",
    "    return -10*np.exp(-x**2)+0.5*x\n",
    "def g(x):\n",
    "    return x**2 - x - 3 # this is just an example when C = 3\n",
    "\n",
    "def g_new(x, c):\n",
    "    return x**2 - x - c\n",
    "\n",
    "\n",
    "\n",
    "def trapezoid(f, a, b, n):\n",
    "    h = abs(b-a)/n\n",
    "    res = 0\n",
    "    for i in range(1,n):\n",
    "        res += f(a+i*h)\n",
    "    return (h/2)*(f(a) + f(b) + 2*res)\n",
    "\n",
    "\n",
    "\n",
    "def intersec_g_f(x, c):\n",
    "    return f(x) - g_new(x,c)\n",
    "\n",
    "def bisection(f, a, b, acc):\n",
    "    if f(a)*f(b) > 0:\n",
    "        print(\"No root found.\")\n",
    "    else:\n",
    "        while (b - a)/2 > acc:\n",
    "            midpoint = (a + b)/2\n",
    "            if f(midpoint) == 0:\n",
    "                return(midpoint) \n",
    "            elif f(a)*f(midpoint) < 0:\n",
    "                b = midpoint\n",
    "            else:\n",
    "                a = midpoint\n",
    "        return (midpoint)\n",
    "    \n",
    "\n",
    "\n",
    "\n",
    "def area(c):\n",
    "    acc = 0.00001\n",
    "    def intersec_g_f(x):\n",
    "        return f(x) - g_new(x,c)\n",
    "    \n",
    "    def first_der(x):\n",
    "        return (intersec_g_f(x+acc) - intersec_g_f(x-acc))/ (2*acc)\n",
    "\n",
    "    maximum = bisection(first_der, 0.1, 4., acc)\n",
    "    #print(\"Maximum\", maximum)\n",
    "    first_inter = bisection(intersec_g_f, 0.1, maximum, acc)\n",
    "    #print(\"first inter:\", first_inter)\n",
    "    return trapezoid(intersec_g_f, bisection(intersec_g_f, 0.1, maximum, acc), bisection(intersec_g_f, maximum, 4., acc), 1000) - 1\n",
    "\n",
    "c = bisection(area, 0.9, 3, 0.00001)\n",
    "print(\"C:\", c)\n",
    "print(\"area:\", area(c)+1)\n",
    "\n",
    "xs = np.linspace(0,5,100)\n",
    "fys = f(xs)\n",
    "gys = g_new(xs, c)\n",
    "plt.plot(xs, fys, \"b\")\n",
    "plt.plot(xs, gys, color= \"orange\")\n",
    "plt.grid()\n",
    "plt.plot(xs, intersec_g_f(xs, c), color=\"green\")\n",
    "plt.figure\n"
   ]
  },
  {
   "cell_type": "markdown",
   "metadata": {},
   "source": [
    "### 6.2 (100)\n",
    "\n",
    "AJ Piti did financial calculation and found that starting a fradulent cult embezzleing money from less scientific people would make more money than being an AJ.\n",
    "\n",
    "So, he decided to start a cult worshipping the Puyo god. To establish the cult head quarter AJ piti needs to buy **6 plots** of lands. He then tie holy threads between all 6 plots so it would looks somewhat holy. (There are $6\\times5/2$ connections in total.)\n",
    "\n",
    "However, the cost of a land plot depends on it's location(x,y). In particular the plot of land at (x,y)\n",
    "$$\n",
    "\\text{landcost}(x,y) = 2x^2 + y^2\n",
    "$$\n",
    "This means that the further way the land plot is from the center the higher the cost and he needs to buy **6 plots** in total.\n",
    "\n",
    "However, there is an advantage of buying the plot far away from each other since the longer the holy thread the more holy it looks and the more unscientific people he could lure in. In particular, the income is given buy.\n",
    "$$\n",
    "\\text{holy thread income} = 10\\times\\text{total holy thread length}\n",
    "$$\n",
    "\n",
    "**Your Task:** Help AJ Piti find the **6 land plots** which would maximize the profit of his cult.\n",
    "\n",
    "Hint: \n",
    "\n",
    "- `v.reshape(6,2)` would make your code a bit nicer.\n",
    "- Be careful with starting point.\n",
    "- You may use scipy.optimize.minimize\n"
   ]
  },
  {
   "cell_type": "code",
   "execution_count": 6,
   "metadata": {},
   "outputs": [
    {
     "name": "stdout",
     "output_type": "stream",
     "text": [
      "[  0.82765759  -2.63665547  -0.55428518  -1.14170707   1.92178566\n",
      "   0.29780212   4.68386557  -3.           0.           2.\n",
      " -10.          -5.        ]\n",
      "301.7125171921676\n"
     ]
    },
    {
     "data": {
      "text/plain": [
       "array([ -4.172861  ,   4.48998631,   2.33481155,  14.25183878,\n",
       "         4.17285864,  -4.4899959 ,   0.58948555, -24.66488728,\n",
       "        -0.589468  ,  24.66488923,  -2.33482348, -14.25183696])"
      ]
     },
     "execution_count": 6,
     "metadata": {},
     "output_type": "execute_result"
    }
   ],
   "source": [
    "from scipy.optimize import minimize\n",
    "\n",
    "def thread_length(a, b):\n",
    "    x1, y1 = a\n",
    "    x2, y2 = b\n",
    "    return np.sqrt((x1-x2)**2 + (y1-y2)**2)\n",
    "\n",
    "def landcost(x, y):\n",
    "    return 2*x**2 + y**2\n",
    "\n",
    "def thread_income(a, b):\n",
    "    return 10* thread_length(a, b)\n",
    "\n",
    "def thread_profit(a, b):\n",
    "    #print(b)\n",
    "    x1, y1 = a\n",
    "    x2, y2 = b\n",
    "    return thread_income(a, b) - landcost(x1, y1) - landcost(x2, y2)\n",
    "\n",
    "def total_profit(plots):\n",
    "    total_profit = 0\n",
    "    #print(plots)\n",
    "    for i in range(6):\n",
    "        for l in range(i+1,6):\n",
    "            total_profit += thread_profit([plots[i], plots[i+1]], [plots[l], plots[l+1]])\n",
    "    return total_profit\n",
    "\n",
    "start_plots = np.array([\n",
    "    [0, 0],\n",
    "    [1, 0],\n",
    "    [20, 1],\n",
    "    [1, -3],\n",
    "    [0, 2],\n",
    "    [-10, -5]\n",
    "])\n",
    "\n",
    "def profit_min(plots):\n",
    "    return -1*total_profit(plots)\n",
    "\n",
    "#print(start_plots[-1])\n",
    "res = minimize(profit_min, start_plots)\n",
    "plots = res.x\n",
    "\n",
    "print(plots)\n",
    "print(total_profit(plots))\n",
    "      \n",
    "np.array([-4.172861, 4.48998631,\n",
    "                             2.33481155, 14.25183878,\n",
    "                             4.17285864, -4.4899959,\n",
    "                             0.58948555, -24.66488728,\n",
    "                             -0.589468, 24.66488923,\n",
    "                             -2.33482348, -14.25183696])"
   ]
  },
  {
   "cell_type": "code",
   "execution_count": null,
   "metadata": {},
   "outputs": [],
   "source": []
  }
 ],
 "metadata": {
  "kernelspec": {
   "display_name": "Python 3",
   "language": "python",
   "name": "python3"
  },
  "language_info": {
   "codemirror_mode": {
    "name": "ipython",
    "version": 3
   },
   "file_extension": ".py",
   "mimetype": "text/x-python",
   "name": "python",
   "nbconvert_exporter": "python",
   "pygments_lexer": "ipython3",
   "version": "3.8.1"
  },
  "toc": {
   "colors": {
    "hover_highlight": "#DAA520",
    "running_highlight": "#FF0000",
    "selected_highlight": "#FFD700"
   },
   "moveMenuLeft": true,
   "nav_menu": {
    "height": "30px",
    "width": "252px"
   },
   "navigate_menu": true,
   "number_sections": false,
   "sideBar": true,
   "threshold": 4,
   "toc_cell": false,
   "toc_section_display": "block",
   "toc_window_display": false
  }
 },
 "nbformat": 4,
 "nbformat_minor": 2
}
