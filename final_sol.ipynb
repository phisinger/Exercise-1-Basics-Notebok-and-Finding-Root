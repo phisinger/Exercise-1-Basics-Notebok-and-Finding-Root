{
 "cells": [
  {
   "cell_type": "code",
   "execution_count": 5,
   "metadata": {},
   "outputs": [],
   "source": [
    "%matplotlib inline\n",
    "from matplotlib import pyplot as plt\n",
    "import numpy as np\n",
    "import math"
   ]
  },
  {
   "cell_type": "markdown",
   "metadata": {},
   "source": [
    "#### 1) Easy Stuff"
   ]
  },
  {
   "cell_type": "markdown",
   "metadata": {},
   "source": [
    "<span style=\"color:red;\">100</span>"
   ]
  },
  {
   "cell_type": "markdown",
   "metadata": {},
   "source": [
    "1.1) Use gaussian elimination to solve the following system of equations. You can do it by hands. No need to implement one.\n",
    "\n",
    "$$\n",
    "\\begin{bmatrix}\n",
    "1 & 2 & 3 \\\\\n",
    "2 & -1 & 2 \\\\\n",
    "-1 & 2 & 3\n",
    "\\end{bmatrix}\n",
    "\\begin{bmatrix}\n",
    "x\\\\\n",
    "y \\\\\n",
    "z\n",
    "\\end{bmatrix}\n",
    "=\n",
    "\\begin{bmatrix}\n",
    "13 \\\\\n",
    "-2 \\\\\n",
    "15\n",
    "\\end{bmatrix}\n",
    "$$"
   ]
  },
  {
   "cell_type": "code",
   "execution_count": 4,
   "metadata": {},
   "outputs": [
    {
     "ename": "SyntaxError",
     "evalue": "invalid syntax (<ipython-input-4-ec1471c431f4>, line 5)",
     "output_type": "error",
     "traceback": [
      "\u001b[1;36m  File \u001b[1;32m\"<ipython-input-4-ec1471c431f4>\"\u001b[1;36m, line \u001b[1;32m5\u001b[0m\n\u001b[1;33m    print np.linalg.solve(A,C)\u001b[0m\n\u001b[1;37m          ^\u001b[0m\n\u001b[1;31mSyntaxError\u001b[0m\u001b[1;31m:\u001b[0m invalid syntax\n"
     ]
    }
   ],
   "source": [
    "\n",
    "A = [[1.,2,3],\n",
    "    [0,-5,-4],\n",
    "    [0,0,2.8]]\n",
    "C = [13.,-28,5.6]\n",
    "print np.linalg.solve(A,C)\n",
    "\n",
    "print \"SEE HANDED IN PAPER FOR SOLN\""
   ]
  },
  {
   "cell_type": "markdown",
   "metadata": {},
   "source": [
    "1.2) Random number manipulation. \n",
    "\n",
    "Use np.random.rand() which generate uniform random real number from 0-1. To generate the following random number generator which generates"
   ]
  },
  {
   "cell_type": "markdown",
   "metadata": {},
   "source": [
    "1.2.1) A uniform random real number from 0-2."
   ]
  },
  {
   "cell_type": "code",
   "execution_count": null,
   "metadata": {},
   "outputs": [],
   "source": [
    "x = np.random.rand(1000000)*2\n",
    "plt.hist(x,bins=100)"
   ]
  },
  {
   "cell_type": "markdown",
   "metadata": {},
   "source": [
    "1.2.2) A uniform random real number from 10-15"
   ]
  },
  {
   "cell_type": "code",
   "execution_count": null,
   "metadata": {},
   "outputs": [],
   "source": [
    "x = (np.random.rand(1000000)*5)+10\n",
    "plt.hist(x,bins=100)"
   ]
  },
  {
   "cell_type": "markdown",
   "metadata": {},
   "source": [
    "1.2.3) A random ** integer ** which gives 0 50% of the time and  1 50% of the time."
   ]
  },
  {
   "cell_type": "code",
   "execution_count": null,
   "metadata": {},
   "outputs": [],
   "source": [
    "x = np.random.rand(1000000)\n",
    "for i in range(len(x)):\n",
    "    if (x[i]<0.5):\n",
    "        x[i] = 0\n",
    "    else:\n",
    "        x[i] = 1\n",
    "plt.hist(x,bins=100)"
   ]
  },
  {
   "cell_type": "markdown",
   "metadata": {},
   "source": [
    "1.2.4) A random ** integer ** which gives 0 10% of the time and  1 20% and 2 70% of the time."
   ]
  },
  {
   "cell_type": "code",
   "execution_count": null,
   "metadata": {},
   "outputs": [],
   "source": [
    "x = np.random.rand(1000000)\n",
    "for i in range(len(x)):\n",
    "    if (x[i]<0.1):\n",
    "        x[i] = 0\n",
    "    elif (x[i]<0.3):\n",
    "        x[i] = 1\n",
    "    else:\n",
    "        x[i] = 2\n",
    "plt.hist(x,bins=100)"
   ]
  },
  {
   "cell_type": "markdown",
   "metadata": {},
   "source": [
    "#### 2) System of Non-linear Equations\n",
    "\n",
    "<span style=\"color:red;\">100</span>"
   ]
  },
  {
   "cell_type": "markdown",
   "metadata": {},
   "source": [
    "Find a solution to the following system of non linear equations using Newton's Method.\n",
    "$$x^2 + xy = 3.63$$\n",
    "$$y^2 + \\exp(xy)= 16.08$$"
   ]
  },
  {
   "cell_type": "code",
   "execution_count": null,
   "metadata": {},
   "outputs": [],
   "source": [
    "u = lambda x,y: (x**2) + (x*y) - 3.63\n",
    "v = lambda x,y: (y**2) + np.exp(x*y) - 16.08\n",
    "\n",
    "#see http://matplotlib.org/examples/pylab_examples/contour_demo.html\n",
    "nx = 200\n",
    "ny = 200\n",
    "x = np.linspace(-20,20,nx)\n",
    "y = np.linspace(-20,20,ny)\n",
    "xgrid, ygrid = np.meshgrid(x, y)\n",
    "#print ygrid\n",
    "uz = np.zeros((nx,ny))\n",
    "vz = np.zeros((nx,ny))\n",
    "for ix in range(nx):\n",
    "    for iy in range(ny):\n",
    "        xx = x[ix]\n",
    "        yy = y[iy]\n",
    "        uz[iy,ix] = u(xx,yy) ##<<<<<<This is not a typo: [iy,ix]\n",
    "        vz[iy,ix] = v(xx,yy)\n",
    "\n",
    "\n",
    "ucs = plt.contour(x, y, uz, colors=('r'))\n",
    "plt.clabel(ucs, inline=1, fontsize=10)\n",
    "vcs = plt.contour(x, y, vz, colors=('b'))\n",
    "plt.clabel(vcs, inline=1, fontsize=10)\n",
    "plt.grid()"
   ]
  },
  {
   "cell_type": "code",
   "execution_count": null,
   "metadata": {},
   "outputs": [],
   "source": [
    "ux = lambda x,y: (2*x) + y\n",
    "uy = lambda x,y: x\n",
    "vx = lambda x,y: y*np.exp(x*y)\n",
    "vy = lambda x,y: (2*y) + x*np.exp(x*y)\n",
    "\n",
    "def uNewt(x,y,n):\n",
    "    for i in range(n):\n",
    "        A = [[ux(x,y),uy(x,y)],\n",
    "            [vx(x,y),vy(x,y)]]\n",
    "        C = [-u(x,y)+ux(x,y)*x+uy(x,y)*y,\n",
    "            -v(x,y)+vx(x,y)*x+vy(x,y)*y]\n",
    "        x,y = np.linalg.solve(A,C)\n",
    "    return x,y\n",
    "\n",
    "ucs = plt.contour(x, y, uz, colors=('r'))\n",
    "plt.clabel(ucs, inline=1, fontsize=10)\n",
    "vcs = plt.contour(x, y, vz, colors=('b'))\n",
    "plt.clabel(vcs, inline=1, fontsize=10)\n",
    "plt.grid()\n",
    "\n",
    "sol1 = uNewt(1.,3.,10)\n",
    "print sol1\n",
    "plt.plot(sol1[0],sol1[1],'or')"
   ]
  },
  {
   "cell_type": "markdown",
   "metadata": {},
   "source": [
    "#### 3) Implement gradient descent.\n",
    "\n",
    "<span style=\"color:red;\">100</span>"
   ]
  },
  {
   "cell_type": "markdown",
   "metadata": {},
   "source": [
    "Implement a gradient descent method to find the minimum of the following function. Note that You ** must ** use analytic gradient.\n",
    "\n",
    "$$f(x) = (x-1)^2 + (x+2y)^2 + (y-3)^2$$"
   ]
  },
  {
   "cell_type": "code",
   "execution_count": null,
   "metadata": {},
   "outputs": [],
   "source": [
    "from mpl_toolkits.mplot3d import Axes3D\n",
    "from matplotlib import cm\n",
    "\n",
    "#see http://matplotlib.org/examples/pylab_examples/contour_demo.html\n",
    "def f(x,y):\n",
    "    return ((x-1.)**2)+((x+(2.*y))**2)+((y-3.)**2)\n",
    "\n",
    "nx = 200\n",
    "ny = 200\n",
    "x = np.linspace(-20,20,nx)\n",
    "y = np.linspace(-20,20,ny)\n",
    "xgrid, ygrid = np.meshgrid(x, y)\n",
    "#print ygrid\n",
    "uz = np.zeros((nx,ny))\n",
    "\n",
    "for ix in range(nx):\n",
    "    for iy in range(ny):\n",
    "        xx = x[ix]\n",
    "        yy = y[iy]\n",
    "        uz[iy,ix] = f(xx,yy) ##<<<<<<This is not a typo: [iy,ix]\n",
    "\n",
    "ucs = plt.contour(x, y, uz, [2,10,50,100,200,400,500], cmap=cm.brg)\n",
    "plt.clabel(ucs, inline=1, fontsize=10)\n",
    "plt.grid()\n",
    "plt.title('f(x,y)')"
   ]
  },
  {
   "cell_type": "code",
   "execution_count": null,
   "metadata": {},
   "outputs": [],
   "source": [
    "def gradient(w):\n",
    "    x,y = w\n",
    "    return np.array([(2*(x-1))+((x+(2.*y))*2),((x+(2.*y))*4)+(2*(y-3.))])\n",
    "\n",
    "def minimization(x,y,lm,n):\n",
    "    xn = np.array([x,y])\n",
    "    plt.plot(xn[0],xn[1],'or')\n",
    "    for i in range(n):\n",
    "        gr = gradient(xn)\n",
    "        xn[0] = xn[0] - lm*gr[0]\n",
    "        xn[1] = xn[1] - lm*gr[1]\n",
    "        plt.plot(xn[0],xn[1],'or')\n",
    "    return xn[0],xn[1]\n",
    "\n",
    "ucs = plt.contour(x, y, uz, [2,10,50,100,200,400,500], cmap=cm.brg)\n",
    "plt.clabel(ucs, inline=1, fontsize=10)\n",
    "plt.grid()\n",
    "plt.title('f(x,y)')\n",
    "\n",
    "fin = minimization(15.,-5.,0.1,100)\n",
    "print fin\n",
    "print f(fin[0],fin[1])"
   ]
  },
  {
   "cell_type": "markdown",
   "metadata": {},
   "source": [
    "#### 4) Minimization"
   ]
  },
  {
   "cell_type": "markdown",
   "metadata": {},
   "source": [
    "For this question, you may use scipy.optimize.minimize.\n",
    "\n",
    "Consider the following data points given below. We want to describe these data points by the function\n",
    "\n",
    "$$y = A\\sin(kx +\\phi)$$\n",
    "\n",
    "Find the value of $A, k$ and $\\phi$ that *best* describe the data."
   ]
  },
  {
   "cell_type": "code",
   "execution_count": 8,
   "metadata": {},
   "outputs": [
    {
     "data": {
      "text/plain": [
       "[<matplotlib.lines.Line2D at 0x2025eafa4f0>]"
      ]
     },
     "execution_count": 8,
     "metadata": {},
     "output_type": "execute_result"
    },
    {
     "data": {
      "image/png": "[encoded data removed]",
      "text/plain": [
       "<Figure size 432x288 with 1 Axes>"
      ]
     },
     "metadata": {
      "needs_background": "light"
     },
     "output_type": "display_data"
    }
   ],
   "source": [
    "x = np.linspace(0,10,100)\n",
    "y = np.array([ 0.87594138,  0.00187073, -0.36573143,  0.76250315,  0.71772064,\n",
    "        0.44582141,  1.18984937,  0.30210475,  0.44718754,  1.13650828,\n",
    "        0.77477971,  1.18729759,  1.34469878,  1.21906018,  0.45724119,\n",
    "        0.90268274,  1.84135746,  0.33209727,  0.79716091,  1.58446526,\n",
    "        0.60082369,  0.95656976,  1.76714422,  1.27360306,  1.29432609,\n",
    "        0.8764998 ,  0.91893545,  1.13449145,  0.19556633,  1.00371468,\n",
    "       -0.4917874 ,  0.95211807,  0.93085338,  1.17528794,  0.97019515,\n",
    "        0.34800232,  1.33460961,  0.19541652,  0.48435961,  0.4535738 ,\n",
    "        0.20263126,  0.20628831,  0.05357449, -1.05603472, -0.37243859,\n",
    "        0.15929149,  0.16114982, -0.11897708, -0.31760363, -0.26226457,\n",
    "       -0.87269997, -0.32289201, -0.5455574 , -1.09146517, -0.91605662,\n",
    "       -0.35484732, -0.5402054 , -1.05639834, -0.6707393 , -1.1103123 ,\n",
    "       -1.46841708, -0.85913281, -1.37888016, -0.76116445, -0.76145762,\n",
    "       -1.21563262, -1.09119695, -1.33646586, -1.84765469, -1.40931384,\n",
    "       -1.58152849, -1.04528117, -0.89163675, -1.50150266, -0.94210447,\n",
    "       -0.6711762 , -1.07401834, -1.3724999 , -0.47769512, -0.84698827,\n",
    "        0.44472111, -0.81110287, -1.03221068, -0.42803576,  0.37194001,\n",
    "       -0.81116413, -0.04489177, -0.07186512, -0.44065763,  0.50875647,\n",
    "        0.97151862, -0.44979909,  0.3019211 ,  0.36899344,  0.67941424,\n",
    "        0.83858668,  0.85788781,  1.569432  ,  0.53797592,  1.47616064])\n",
    "plt.plot(x,y,'.r')\n",
    "plt.plot(x,3*np.sin(0.5*x+0.2))"
   ]
  },
  {
   "cell_type": "code",
   "execution_count": 11,
   "metadata": {},
   "outputs": [
    {
     "data": {
      "text/plain": [
       "[<matplotlib.lines.Line2D at 0x20260c9c7c0>]"
      ]
     },
     "execution_count": 11,
     "metadata": {},
     "output_type": "execute_result"
    },
    {
     "data": {
      "image/png": "[encoded data removed]",
      "text/plain": [
       "<Figure size 432x288 with 1 Axes>"
      ]
     },
     "metadata": {
      "needs_background": "light"
     },
     "output_type": "display_data"
    }
   ],
   "source": [
    "import scipy.optimize\n",
    "\n",
    "def cost(w):\n",
    "    A,k,phi = w\n",
    "    return np.sum(((A*np.sin(k*x)+phi)-y)**2)\n",
    "\n",
    "res = scipy.optimize.minimize(cost,[1.,1.,1.])\n",
    "A,k,phi = res.x\n",
    "\n",
    "\n",
    "plt.plot(x,y,'.r')\n",
    "plt.plot(x,3*np.sin(0.5*x+0.2))\n",
    "plt.plot(x,(A*np.sin(k*x)+phi))"
   ]
  },
  {
   "cell_type": "markdown",
   "metadata": {},
   "source": [
    "#### 5) Monte Carlo Integration\n",
    "<span style=\"color:red;\">100</span>"
   ]
  },
  {
   "cell_type": "markdown",
   "metadata": {},
   "source": [
    "5.1) Evaluate the following integral using Monte Carlo method.\n",
    "\n",
    "$$ \\iiint \\limits_C (x+2y+3z)^2 \\; dx \\; dy \\;dz$$\n",
    "\n",
    "where $C$ is a sphere of radius 1 centered at $(-1,-2,-3)$"
   ]
  },
  {
   "cell_type": "code",
   "execution_count": null,
   "metadata": {},
   "outputs": [],
   "source": [
    "def f(x,y,z):\n",
    "    return (x+(2.*y)+(3.*z))**2\n",
    "\n",
    "n = 1000000\n",
    "x = (np.random.rand(n)*2)-2.\n",
    "y = (np.random.rand(n)*2)-3.\n",
    "z = (np.random.rand(n)*2)-4.\n",
    "\n",
    "ans = 0.\n",
    "for i in range(n):\n",
    "    if ((((x[i]+1.)**2)+((y[i]+2.)**2)+((z[i]+3.)**2))<=(1.**2)):\n",
    "        ans += f(x[i],y[i],z[i])\n",
    "ans *= (2.**3)/n\n",
    "print ans"
   ]
  },
  {
   "cell_type": "markdown",
   "metadata": {},
   "source": [
    "5.2) Evaluate the following integral\n",
    "\n",
    "$$ \\iint \\limits_D (x+2y)^2 \\; dx \\; dy$$\n",
    "\n",
    "where $D$ is an area that is the area *inside* the blue circle but *outside* the green box shown below.\n",
    "\n",
    "Hint: draw the line from the center to the corner of green box. What is that angle.\n",
    "\n",
    "<img src=\"area.png\"/>"
   ]
  },
  {
   "cell_type": "code",
   "execution_count": null,
   "metadata": {},
   "outputs": [],
   "source": [
    "def f(x,y):\n",
    "    return (x+(2.*y))**2\n",
    "\n",
    "n = 100000\n",
    "x = (np.random.rand(n)*4)-2\n",
    "y = (np.random.rand(n)*4)-2\n",
    "\n",
    "ln2 = np.sin(np.pi/4)*2\n",
    "ans = 0.\n",
    "for i in range(n):\n",
    "    #inside circle\n",
    "    if (((x[i]**2)+(y[i]**2))<=(2.**2)):\n",
    "        if (x[i]>=ln2):\n",
    "             plt.plot(x[i],y[i],'or')\n",
    "            ans += f(x[i],y[i])\n",
    "        elif (x[i]<=-ln2):\n",
    "             plt.plot(x[i],y[i],'or')\n",
    "            ans += f(x[i],y[i])\n",
    "        elif (y[i]>=ln2):\n",
    "             plt.plot(x[i],y[i],'or')\n",
    "            ans += f(x[i],y[i])\n",
    "        elif (y[i]<=-ln2):\n",
    "             plt.plot(x[i],y[i],'or')\n",
    "            ans += f(x[i],y[i])\n",
    "ans *= (4.**2)/n\n",
    "print ans"
   ]
  },
  {
   "cell_type": "code",
   "execution_count": null,
   "metadata": {},
   "outputs": [],
   "source": []
  },
  {
   "cell_type": "markdown",
   "metadata": {},
   "source": [
    "#### 6) Monte Carlo Simulations.\n",
    "\n",
    "<span style=\"color:red;\">100</span>"
   ]
  },
  {
   "cell_type": "markdown",
   "metadata": {},
   "source": [
    "Let us consider a game where you have 49% of winning and 51% of losing.\n",
    "\n",
    "You start with 20 coins. On each turn you bet 1 Baht. If you win you get 2 Baht back(making 1 Baht profit). If you lose, you lose 1 Baht that you bet. The game ends after 100 games or you lose all your money.\n",
    "\n",
    "What is the probability that you have strictly more than 20 Baht at the end of the game?"
   ]
  },
  {
   "cell_type": "code",
   "execution_count": null,
   "metadata": {},
   "outputs": [],
   "source": [
    "def prob(coins,n,turns):\n",
    "    profit = 0\n",
    "    for i in range(n):\n",
    "        curr = coins\n",
    "        for j in range(turns):\n",
    "            c = np.random.rand()\n",
    "            if (c<0.49):\n",
    "                curr += 1\n",
    "            else:\n",
    "                curr -= 1\n",
    "            if (curr==0):\n",
    "                break\n",
    "        if (curr>20):\n",
    "            profit += 1\n",
    "    return float(profit)/n\n",
    "\n",
    "print prob(20,100000,100)"
   ]
  },
  {
   "cell_type": "markdown",
   "metadata": {},
   "source": [
    "#### 7) Match making.\n",
    "\n",
    "<span style=\"color:red;\">100</span>\n",
    "\n",
    "A good match making system is an essential system for online game like DOTA. The system involve making 2 teams of 5 player each(10 Player in total) from a pool of people waiting to play the game.\n",
    "\n",
    "First, the match would not be fun if the two teams are too different in skills. The array below of 200 people. \n",
    "\n",
    "But if we only focus on balancing the overall score we might create the the team with 4 pros(Tae Won, Bossy, AJ Sunsern, Nop) and 1 new player(John) pitching against another team of similar composition. This would not be a very fun game since John will get blamed for all the poor decisions he made.\n",
    "\n",
    "A better match making system can be made by not only making sure that both teams has similar skill but also making sure that only similar skill players are in the same team.\n",
    "\n",
    "Your job is to implement an algorithm that find a good match. 1) Two teams must have similar overall skill. 2) and skill difference in each team should be small.\n",
    "\n",
    "Hint: If you forgot, Python has a short way to check whether something is in the list or not. eg: `2 in [1,2,3]` returns True and `4 in [1,2,3]` returns False.\n",
    "\n",
    "This is open ended question. You just need a sensible cost function."
   ]
  },
  {
   "cell_type": "code",
   "execution_count": null,
   "metadata": {},
   "outputs": [],
   "source": [
    "skill = np.array([ 1036.41323553,   779.64959813,   884.88992042,  1154.11217727,\n",
    "         636.09231606,  1083.31417449,   899.77139923,   900.78370824,\n",
    "         843.99439496,  1163.8260374 ,   947.29801927,  1018.19993222,\n",
    "         647.8521486 ,  1028.18250279,   744.78576711,   820.08467693,\n",
    "        1019.96585248,   924.91908776,   827.57264474,  1140.52648019,\n",
    "        1299.86015419,   910.33790805,  1307.34307106,   764.70163277,\n",
    "        1208.43024923,   904.48057462,  1243.66856818,  1404.41573825,\n",
    "        1148.82782336,   770.81824778,  1187.91949848,  1127.73722148,\n",
    "         892.86242549,  1032.00510862,   832.05508914,  1128.8881727 ,\n",
    "         887.09198455,  1157.6374174 ,   963.04233564,   974.16336742,\n",
    "         784.19565874,   902.72622295,  1122.01246893,   809.47013347,\n",
    "        1101.26250493,  1292.23166119,   694.38082411,  1130.39186495,\n",
    "        1121.2640599 ,   975.5762228 ,   871.32984072,  1289.21947005,\n",
    "        1120.30038031,  1092.64292734,  1398.74986041,  1233.20231417,\n",
    "         952.78602484,  1242.5306623 ,  1108.6993943 ,  1077.08009286,\n",
    "         808.42541901,  1071.0748471 ,  1026.76640856,  1125.37236183,\n",
    "        1162.94641729,   809.19013877,   992.62256346,  1033.88640403,\n",
    "        1104.86256426,  1197.38359748,   853.6803351 ,  1011.09650518,\n",
    "        1012.98591658,   718.70886706,   667.89164265,  1248.77861984,\n",
    "        1176.06304616,  1236.65444327,  1032.46560601,  1091.701724  ,\n",
    "        1073.85827097,  1060.82122062,  1370.90926994,   739.18452974,\n",
    "         839.02467662,  1463.91729159,  1085.16850893,   729.21088856,\n",
    "         876.9242819 ,   947.60271498,  1006.8440154 ,  1074.33878304,\n",
    "        1113.22079402,  1355.71242029,  1233.86524524,   903.90363635,\n",
    "        1018.5828025 ,   604.88562896,   916.45182323,  1268.30797604,\n",
    "        1090.92557809,  1168.96017069,   981.05284388,  1219.43184896,\n",
    "        1152.17689387,   753.67971064,  1084.80922048,   728.89338589,\n",
    "        1044.12976277,  1063.1914928 ,  1040.78480847,  1390.25923403,\n",
    "        1198.05439333,  1293.15741172,  1032.50191447,   949.30725077,\n",
    "         830.76766521,   930.99089196,  1321.27758537,   737.89207057,\n",
    "         844.03282794,  1152.96153267,  1019.07639006,  1234.39541091,\n",
    "        1330.66093245,   896.5382043 ,   852.6928155 ,   927.52847247,\n",
    "        1099.40887544,  1020.29281441,  1192.87253213,  1132.64363953,\n",
    "        1059.1476316 ,  1176.86448769,   946.27290292,   574.96378169,\n",
    "         854.3525837 ,  1036.78391062,   964.71387327,  1238.02427937,\n",
    "        1058.82361331,   772.39751114,   844.04999331,   932.85421456,\n",
    "        1169.73823521,   884.93790911,   688.26146826,   864.79557755,\n",
    "        1162.3345688 ,  1222.46495685,  1369.20256643,   764.15535369,\n",
    "        1153.12150432,   993.4003862 ,   958.44653991,   963.98091012,\n",
    "         943.5108768 ,   822.76978185,   679.14056294,  1052.8367666 ,\n",
    "        1060.02235278,   928.3539241 ,   902.27344952,   916.2877734 ,\n",
    "        1253.42369015,   936.86828777,   959.65247446,  1181.05832829,\n",
    "         859.96436822,  1097.58886974,  1249.02481832,   859.01563631,\n",
    "        1038.20295468,   970.57034018,  1055.22427415,   655.4029039 ,\n",
    "         962.90703416,   529.77003785,  1371.08904716,   921.53323368,\n",
    "        1106.5355557 ,  1016.81650559,  1004.55265434,  1230.3835476 ,\n",
    "        1208.91112765,  1093.48896004,   918.11556215,  1257.61868138,\n",
    "         669.49938027,  1025.28199332,  1164.40565037,  1003.91847136,\n",
    "         973.82117685,  1245.93898465,   890.40483594,   773.88217805,\n",
    "        1164.99307426,  1119.15640114,   933.47025098,   917.13085854])"
   ]
  },
  {
   "cell_type": "code",
   "execution_count": null,
   "metadata": {},
   "outputs": [],
   "source": [
    "def cost(w):\n",
    "    t1,t2 = w\n",
    "    \n",
    "    sum1,sum2 = 0.,0.\n",
    "    #teamDiff\n",
    "    for j in range(5):\n",
    "        sum1 += skill[t1[j]]\n",
    "        sum2 += skill[t2[j]]\n",
    "    skillDiffTeams = (sum1-sum2)**2\n",
    "    \n",
    "    #playerDiff\n",
    "    mean1 = sum1/5.\n",
    "    mean2 = sum2/5.\n",
    "    diff1,diff2 = 0.,0.\n",
    "    for j in range(5):\n",
    "        diff1 += (skill[t1[j]]-mean1)**2\n",
    "        diff2 += (skill[t2[j]]-mean2)**2\n",
    "    skillDiffPlayer = diff1+diff2\n",
    "    \n",
    "    return (skillDiffTeams + skillDiffPlayer)\n",
    "\n",
    "def dotaMatching(team1,team2,n):\n",
    "    costSoFar = cost([team1,team2])\n",
    "    for i in range(n):\n",
    "        x = np.random.randint(0,200)\n",
    "        if ((x in team1) or (x in team2)):\n",
    "            continue\n",
    "        else:\n",
    "            minC = costSoFar\n",
    "            mt1 = np.copy(team1)\n",
    "            mt2 = np.copy(team2)\n",
    "            for j in range(5):\n",
    "                tmp1 = np.copy(team1)\n",
    "                tmp1[j] = x\n",
    "                tcost = cost([tmp1,team2])\n",
    "                if (tcost<minC):\n",
    "                    mt1 = tmp1\n",
    "                    mt2 = team2\n",
    "                    minC = tcost\n",
    "            for j in range(5):\n",
    "                tmp2 = np.copy(team2)\n",
    "                tmp2[j] = x\n",
    "                tcost = cost([team1,tmp2])\n",
    "                if (tcost<minC):\n",
    "                    mt1 = team1\n",
    "                    mt2 = tmp2\n",
    "                    minC = tcost\n",
    "            team1 = mt1\n",
    "            team2 = mt2\n",
    "    return team1,team2\n",
    "\n",
    "start1 = [0,1,2,3,4]\n",
    "start2 = [5,6,7,8,9]\n",
    "\n",
    "m1,m2 =  dotaMatching(start1,start2,10000)\n",
    "print \"team1 = \" + str(m1)\n",
    "print \"team2 = \" + str(m2)\n",
    "\n",
    "s1,s2 = [],[]\n",
    "for j in range(5):\n",
    "    s1.append(skill[m1[j]])\n",
    "    s2.append(skill[m2[j]])\n",
    "print \"skills1 = \" + str(s1)\n",
    "print \"sum1 = \" + str(np.sum(s1))\n",
    "print \"skills2 = \" + str(s2)\n",
    "print \"sum2 = \" + str(np.sum(s2))"
   ]
  },
  {
   "cell_type": "markdown",
   "metadata": {},
   "source": [
    "#### 8) X-men. \n",
    "\n",
    "<span style=\"color:red;\">100</span>\n",
    "\n",
    "This problem would be very easy if you have done homework 8.\n",
    "\n",
    "To have a super power in X-men one need to consider what gene a person have in the last 20 position of your genome.\n",
    "\n",
    "A gene consists of coding of four types of neucleotide G,T,C,A. For example the last 20 position of your gene may look like\n",
    "\n",
    " CAGTCGATGACTGTCATACG\n",
    "\n",
    "Law of x-men dictates that you can **only have 5 of each neucleotide in the last 20 genes**.\n",
    "\n",
    "These genes dictates how much power you have and here is the list of super power. How much power each gene gives you is given in the list below.\n",
    "\n",
    "For example, let us consider the power of the 5 following gene\n",
    "\n",
    "  AAACG\n",
    "  \n",
    "You will get power from AAA, AAC, ACG which is 4.5+9.1+10.1. The important part is you get the power from all the substring occurences.\n",
    "\n",
    "Your job is to use hill climbing to find the 20 genes that give you a decent amount of superpower. **Remember that you only have 5 of each type of gene.**\n",
    "\n",
    "Note: If you do the problem with out the 5 gene of each type constrain, you will recieve some partial credit. "
   ]
  },
  {
   "cell_type": "code",
   "execution_count": null,
   "metadata": {},
   "outputs": [],
   "source": [
    "power  = {'AAA': 4.583090196030584,\n",
    " 'AAC': 9.107506020519258,\n",
    " 'AAG': 11.518014051304256,\n",
    " 'AAT': 0.5943525271208183,\n",
    " 'ACA': 1.1113580291024472,\n",
    " 'ACC': 16.444034487254292,\n",
    " 'ACG': 10.123045604089748,\n",
    " 'ACT': 9.897601844020329,\n",
    " 'AGA': 16.729138541558445,\n",
    " 'AGC': 3.107193950552256,\n",
    " 'AGG': 11.158302356539052,\n",
    " 'AGT': 15.723838107032366,\n",
    " 'ATA': 14.68360120193772,\n",
    " 'ATC': 17.912113028518768,\n",
    " 'ATG': 17.89522970059069,\n",
    " 'ATT': 15.795675356834844,\n",
    " 'CAA': 10.439667561647646,\n",
    " 'CAC': 4.24387205852751,\n",
    " 'CAG': 7.305326746947656,\n",
    " 'CAT': 1.3097127939617148,\n",
    " 'CCA': 3.5296095796695615,\n",
    " 'CCC': 13.991581011316157,\n",
    " 'CCG': 8.36957368698493,\n",
    " 'CCT': 0.5914656131940332,\n",
    " 'CGA': 9.620563465398078,\n",
    " 'CGC': 19.200372566857652,\n",
    " 'CGG': 6.960423648119118,\n",
    " 'CGT': 17.11999003766589,\n",
    " 'CTA': 7.510779993509679,\n",
    " 'CTC': 11.641563616015931,\n",
    " 'CTG': 5.680850426276871,\n",
    " 'CTT': 7.835729875296169,\n",
    " 'GAA': 14.57069797200856,\n",
    " 'GAC': 3.2230197873225297,\n",
    " 'GAG': 10.82623910262562,\n",
    " 'GAT': 5.2628654997081785,\n",
    " 'GCA': 1.8609059517160031,\n",
    " 'GCC': 0.18994613401547733,\n",
    " 'GCG': 17.375951646159898,\n",
    " 'GCT': 17.308641829952567,\n",
    " 'GGA': 11.552691184268845,\n",
    " 'GGC': 17.114687046257387,\n",
    " 'GGG': 5.809368417027086,\n",
    " 'GGT': 4.624023232180572,\n",
    " 'GTA': 17.71188724483854,\n",
    " 'GTC': 10.745653783083727,\n",
    " 'GTG': 15.936708179944787,\n",
    " 'GTT': 10.193719434789749,\n",
    " 'TAA': 3.893410816086078,\n",
    " 'TAC': 17.498145583372565,\n",
    " 'TAG': 6.182991513447269,\n",
    " 'TAT': 18.58918405062135,\n",
    " 'TCA': 1.3727231951472318,\n",
    " 'TCC': 10.821411488062814,\n",
    " 'TCG': 4.361802324865525,\n",
    " 'TCT': 10.960254544132209,\n",
    " 'TGA': 17.998271635446883,\n",
    " 'TGC': 13.64694858961673,\n",
    " 'TGG': 2.526749786232678,\n",
    " 'TGT': 7.766261755331603,\n",
    " 'TTA': 11.507518238991798,\n",
    " 'TTC': 13.14818578961485,\n",
    " 'TTG': 14.920604441566477,\n",
    " 'TTT': 6.743174200372066}"
   ]
  },
  {
   "cell_type": "code",
   "execution_count": null,
   "metadata": {},
   "outputs": [],
   "source": [
    "## here is how to loop and list all the length 3 substring\n",
    "gene = 'CAGTCGATGACTGTCATACG'\n",
    "for i in range(len(gene)-2):\n",
    "    print gene[i:i+3],\n",
    "    \n",
    "print ''\n",
    "\n",
    "#here is how you replace a character at position i\n",
    "glist = list(gene) #convert to list first\n",
    "glist[0]='T' #change the first character to T\n",
    "gene2 = ''.join(glist) #then join all the character back to string\n",
    "\n",
    "print gene\n",
    "print gene2\n",
    "\n",
    "#here is how to find out how much power a gene gives you\n",
    "print power['TTT']"
   ]
  },
  {
   "cell_type": "code",
   "execution_count": null,
   "metadata": {},
   "outputs": [],
   "source": [
    "def powerCost(w):\n",
    "    p = 0.\n",
    "    for i in range(len(w)-2):\n",
    "        p += power[w[i:i+3]]\n",
    "    return p\n",
    "\n",
    "def superpower(gene, n):\n",
    "    PowerSoFar = powerCost(gene)\n",
    "    for i in range(n):\n",
    "        x1 = np.random.randint(0,20)\n",
    "        x2 = np.random.randint(0,20)\n",
    "        if (x1==x2):\n",
    "            continue\n",
    "        glist = list(gene)\n",
    "        c1 = glist[x1]\n",
    "        c2 = glist[x2]\n",
    "        glist[x1] = c2\n",
    "        glist[x2] = c1\n",
    "        newGene = ''.join(glist)\n",
    "        newPower = powerCost(newGene)\n",
    "        if (newPower>PowerSoFar):\n",
    "            gene = newGene\n",
    "            PowerSoFar = newPower\n",
    "    return gene, PowerSoFar\n",
    "\n",
    "start = 'GGGGGTTTTTCCCCCAAAAA'\n",
    "endGene, endPower = superpower(start,100000)\n",
    "print endGene, endPower"
   ]
  },
  {
   "cell_type": "code",
   "execution_count": null,
   "metadata": {},
   "outputs": [],
   "source": []
  }
 ],
 "metadata": {
  "kernelspec": {
   "display_name": "Python 3",
   "language": "python",
   "name": "python3"
  },
  "language_info": {
   "codemirror_mode": {
    "name": "ipython",
    "version": 3
   },
   "file_extension": ".py",
   "mimetype": "text/x-python",
   "name": "python",
   "nbconvert_exporter": "python",
   "pygments_lexer": "ipython3",
   "version": "3.8.1"
  }
 },
 "nbformat": 4,
 "nbformat_minor": 1
}
