{
 "cells": [
  {
   "cell_type": "code",
   "execution_count": 1,
   "metadata": {},
   "outputs": [],
   "source": [
    "%matplotlib inline\n",
    "from matplotlib import pyplot as plt\n",
    "import numpy as np\n",
    "import math\n",
    "import scipy"
   ]
  },
  {
   "cell_type": "markdown",
   "metadata": {},
   "source": [
    "Rules:\n",
    "- Open book, open notes, open google, open wolfram alpha. No chat no forum post.\n",
    "- 8 Problem 100 each.\n",
    "- Full score = 720.\n",
    "- Comment your code. Write your code with good style.\n",
    "- For problem 6, 7, 8 there is a +10 bonus for each problem on good coding style."
   ]
  },
  {
   "cell_type": "markdown",
   "metadata": {},
   "source": [
    "# 1) Easy Stuff"
   ]
  },
  {
   "cell_type": "markdown",
   "metadata": {},
   "source": [
    "1.1) Use gaussian elimination to solve the following system of equations. You can do it by hands. No need to implement one. And no do not use np.linalg.solve(only use it for checking answer).\n",
    "\n",
    "$$\n",
    "\\begin{bmatrix}\n",
    "1 & -1 & 1 \\\\\n",
    "2 & -1 & 3 \\\\\n",
    "-1 & 3 & 4 \\\\\n",
    "\\end{bmatrix}\n",
    "\\begin{bmatrix}\n",
    "x\\\\\n",
    "y \\\\\n",
    "z\n",
    "\\end{bmatrix}\n",
    "=\n",
    "\\begin{bmatrix}\n",
    "4 \\\\\n",
    "17 \\\\\n",
    "29\n",
    "\\end{bmatrix}\n",
    "$$"
   ]
  },
  {
   "cell_type": "code",
   "execution_count": null,
   "metadata": {},
   "outputs": [],
   "source": []
  },
  {
   "cell_type": "markdown",
   "metadata": {},
   "source": [
    "1.2) Random number manipulation. \n",
    "\n",
    "Use **np.random.rand()** which generate uniform random real number from 0-1. To generate the following random number generator which generates"
   ]
  },
  {
   "cell_type": "markdown",
   "metadata": {},
   "source": [
    "1.2.1) A uniform random real number from 63-90"
   ]
  },
  {
   "cell_type": "code",
   "execution_count": null,
   "metadata": {},
   "outputs": [],
   "source": []
  },
  {
   "cell_type": "markdown",
   "metadata": {},
   "source": [
    "1.2.2) A random ** integer ** which gives -1 40% of the time and  0 20% and 1 40% of the time."
   ]
  },
  {
   "cell_type": "code",
   "execution_count": null,
   "metadata": {},
   "outputs": [],
   "source": []
  },
  {
   "cell_type": "markdown",
   "metadata": {},
   "source": [
    "# 2) System of Non-linear Equations"
   ]
  },
  {
   "cell_type": "markdown",
   "metadata": {},
   "source": [
    "Find **all solutions** to the following system of non linear equations using Newton's Method given that $x \\in [-10,10]$ and $y \\in [-10, 10]$\n",
    "$$x^3 + y^3 = 9.8667 - xy$$\n",
    "$$y^2  = 2x - 20$$"
   ]
  },
  {
   "cell_type": "code",
   "execution_count": 2,
   "metadata": {},
   "outputs": [],
   "source": [
    "#give me ALL solutions"
   ]
  },
  {
   "cell_type": "markdown",
   "metadata": {},
   "source": [
    "# 3) Gradient Descent."
   ]
  },
  {
   "cell_type": "markdown",
   "metadata": {},
   "source": [
    "3.1) (70) Implement a gradient descent method to find the **minimum** location of the following function. Note that You ** must ** use analytic gradient.\n",
    "\n",
    "$$f(x,y) = (x-1)^4 + (x-y)^4 + (y-2)^4 - 10 $$"
   ]
  },
  {
   "cell_type": "code",
   "execution_count": null,
   "metadata": {},
   "outputs": [],
   "source": []
  },
  {
   "cell_type": "markdown",
   "metadata": {},
   "source": [
    "3.2) (30) Answer the following questions.\n",
    "\n",
    "3.2.1) Does Gradient Descent guarantee to converge to absolute minimum?\n"
   ]
  },
  {
   "cell_type": "code",
   "execution_count": null,
   "metadata": {},
   "outputs": [],
   "source": []
  },
  {
   "cell_type": "markdown",
   "metadata": {},
   "source": [
    "3.2.2) What is wrong with large learning rate($\\lambda$)?\n"
   ]
  },
  {
   "cell_type": "code",
   "execution_count": null,
   "metadata": {},
   "outputs": [],
   "source": []
  },
  {
   "cell_type": "markdown",
   "metadata": {},
   "source": [
    "3.2.3) What is wrong with small learning rate($\\lambda$)?"
   ]
  },
  {
   "cell_type": "code",
   "execution_count": null,
   "metadata": {},
   "outputs": [],
   "source": []
  },
  {
   "cell_type": "markdown",
   "metadata": {},
   "source": [
    "# 4) Linear Regression"
   ]
  },
  {
   "cell_type": "markdown",
   "metadata": {},
   "source": [
    "Suppose that we want to fit the following data with the function\n",
    "$$\n",
    "f(x) = A \\sin(x) + B x + C \n",
    "$$\n",
    "for some value of $A$, $B$ and $C$\n",
    "\n",
    "Find $A$, $B$ and $C$ that gives you the best fit."
   ]
  },
  {
   "cell_type": "code",
   "execution_count": 3,
   "metadata": {},
   "outputs": [
    {
     "data": {
      "image/png": "[encoded data removed]",
      "text/plain": [
       "<matplotlib.figure.Figure at 0x105f30198>"
      ]
     },
     "metadata": {},
     "output_type": "display_data"
    }
   ],
   "source": [
    "xs = xs = np.linspace(0,6,100)\n",
    "ys = np.array([  4.56      ,   4.77631801,   4.99236246,   5.20786079,\n",
    "         5.42254245,   5.63613989,   5.84838954,   6.05903277,\n",
    "         6.26781686,   6.47449592,   6.67883177,   6.88059486,\n",
    "         7.07956506,   7.27553253,   7.46829841,   7.65767565,\n",
    "         7.84348959,   8.02557869,   8.20379507,   8.37800508,\n",
    "         8.54808979,   8.71394539,   8.87548362,   9.03263207,\n",
    "         9.18533445,   9.33355078,   9.47725759,   9.61644793,\n",
    "         9.75113145,   9.88133434,  10.00709927,  10.12848518,\n",
    "        10.24556709,  10.35843583,  10.46719772,  10.57197412,\n",
    "        10.67290105,  10.77012868,  10.86382072,  10.9541539 ,\n",
    "        11.04131728,  11.12551153,  11.20694826,  11.28584918,\n",
    "        11.36244533,  11.4369762 ,  11.50968885,  11.58083706,\n",
    "        11.65068031,  11.7194829 ,  11.78751294,  11.85504137,\n",
    "        11.92234098,  11.98968541,  12.05734812,  12.12560141,\n",
    "        12.1947154 ,  12.26495706,  12.33658922,  12.4098696 ,\n",
    "        12.48504987,  12.56237473,  12.64208098,  12.7243967 ,\n",
    "        12.80954039,  12.89772014,  12.98913293,  13.08396383,\n",
    "        13.18238539,  13.28455695,  13.39062409,  13.5007181 ,\n",
    "        13.61495545,  13.73343744,  13.85624974,  13.98346214,\n",
    "        14.11512829,  14.25128545,  14.39195442,  14.53713941,\n",
    "        14.68682806,  14.84099147,  14.99958431,  15.16254498,\n",
    "        15.32979585,  15.50124353,  15.67677922,  15.85627912,\n",
    "        16.03960485,  16.226604  ,  16.41711067,  16.61094608,\n",
    "        16.80791921,  17.00782755,  17.21045779,  17.41558662,\n",
    "        17.62298157,  17.83240185,  18.04359923,  18.25631894])\n",
    "plt.plot(xs,ys,'.');"
   ]
  },
  {
   "cell_type": "code",
   "execution_count": null,
   "metadata": {},
   "outputs": [],
   "source": []
  },
  {
   "cell_type": "markdown",
   "metadata": {},
   "source": [
    "# 5) Monte Carlo Integration"
   ]
  },
  {
   "cell_type": "markdown",
   "metadata": {},
   "source": [
    "5.1) Evaluate the following integral using Monte Carlo method.\n",
    "\n",
    "$$ \\iiint \\limits_C e^{-x^2 + 2y - z} \\; dx \\; dy \\; dz$$\n",
    "\n",
    "where $C$ is a sphere of radius 2 centered at $(1,2,3)$"
   ]
  },
  {
   "cell_type": "code",
   "execution_count": null,
   "metadata": {},
   "outputs": [],
   "source": []
  },
  {
   "cell_type": "markdown",
   "metadata": {},
   "source": [
    "5.2) Evaluate the following integral\n",
    "\n",
    "$$ \\iint \\limits_D \\left(\\sin(x)+\\cos(y)\\right)^2 \\; dx \\; dy$$\n",
    "\n",
    "where $D$ the red area show in the picture below. It is the **union** of\n",
    "- circle which centers at (-1.5, 0) with radius 2\n",
    "- circle which centers at (1, 0) with readius 2\n",
    "\n",
    "<img src=\"area.png\"/>"
   ]
  },
  {
   "cell_type": "code",
   "execution_count": null,
   "metadata": {},
   "outputs": [],
   "source": []
  },
  {
   "cell_type": "markdown",
   "metadata": {},
   "source": [
    "# 6) Minimization"
   ]
  },
  {
   "cell_type": "markdown",
   "metadata": {},
   "source": [
    "11.1 Surround Speakers problem. Nowadays the sound system gets so fancy we even have 11.1 speakers. That's the total of 11 speakers + 1 subwoofer.\n",
    "\n",
    "Given this many speakers one problem that becomes less trivial is the delay between speakers. We want to hear the sound from all the speaker at the same time. Since sound travel at constant speed in air, we will hear from the speaker that is **nearest** to us first and the **furthest** speaker last. If these **two distances** are **too different**, the listener would get confused.\n",
    "\n",
    "Placing a speaker in a cicular manner would have solved this problem but that would ruins all the interior design. So we will fix where the speakers are but we will change where we sit instead.\n",
    "\n",
    "So the goal for this problem is to figure out where we should sit so we can hear sound from all speaker **at the same time as much as possible**. In other words, the distance from all speakers should be as equal as possible.\n",
    "\n",
    "Be sure to justify your cost functions.\n",
    "\n",
    "This is a semi-openended problem. Anything sensible goes. Be careful about starting position."
   ]
  },
  {
   "cell_type": "code",
   "execution_count": 4,
   "metadata": {},
   "outputs": [
    {
     "data": {
      "image/png": "[encoded data removed]",
      "text/plain": [
       "<matplotlib.figure.Figure at 0x10475e550>"
      ]
     },
     "metadata": {},
     "output_type": "display_data"
    }
   ],
   "source": [
    "from scipy.optimize import minimize\n",
    "# theta = np.linspace(0,6,12)\n",
    "# xs = np.cos(theta) + np.linspace(0,2,12)\n",
    "# ys = np.sin(theta) - np.linspace(0,2,12)\n",
    "tmp = np.linspace(-1,1.2,12)\n",
    "xs = tmp\n",
    "ys = xs**2\n",
    "plt.plot(xs, ys, 'ob')\n",
    "plt.grid(True)"
   ]
  },
  {
   "cell_type": "code",
   "execution_count": null,
   "metadata": {},
   "outputs": [],
   "source": [
    "\n"
   ]
  },
  {
   "cell_type": "markdown",
   "metadata": {},
   "source": [
    "# 7) Monte Carlo Simulations.\n",
    "\n",
    "Consider a dice game between two person.\n",
    "\n",
    " - Each person throw a dice two times.\n",
    " - If the results of the two dices are different. The score is calculated by the sum. Eg. $(5,6) \\to 5+6 = 11$\n",
    " - If the results of the two dices are the same. The score is 5 times the sum of the two. Eg. $(1,1) \\to 5 \\times(1+1) = 10$\n",
    " \n",
    " You are presented with 2 dices.\n",
    "  - A standard 6 sided fair dice. Faces are 1,2,3,4,5,6.\n",
    "  - A fair dice 6 sided dice. Faces are 1,2,3,1,2,3. Hoping for higher chance of getting bonus.\n",
    "  \n",
    "Which dice has higher probability of winning?"
   ]
  },
  {
   "cell_type": "code",
   "execution_count": null,
   "metadata": {},
   "outputs": [],
   "source": []
  },
  {
   "cell_type": "markdown",
   "metadata": {},
   "source": [
    "# 8) <span style=\"color:#bc47bc\">Couple</span><span style=\"color:#515489\">Maker</span>\n",
    "\n",
    "Gift saw Ply business going well. She wants to make money too. She decides to stop playing Widowmaker on Overwatch and build a startup matchmaking service called <span style=\"color:#bc47bc\">Couple</span><span style=\"color:#515489\">Maker</span>. \n",
    "\n",
    "Her clients consists of equal amount of male and female.\n",
    "\n",
    "Everyone get to look at the profile of everyone of the opposite sex and put down the number on how much he/she is willing to pay if <span style=\"color:#bc47bc\">Couple</span><span style=\"color:#515489\">Maker</span> match he/she to that person.\n",
    "\n",
    "To illustrate, let us consider if there are 4 person: M1, M2, F1 and F2. Where the prefix M indicates male and F indicates female.\n",
    " - M1 see the profile of F1 and F2 and decide to write down 5 Dollars for F1 and 10 Dollars for F2.\n",
    " - M2 see the profile of F1 and F2 and decide to write down 7 Dollars for F1 and 20 Dollars for F2.\n",
    " - F1 see the profile of M1 and M2 and decide to write down 12 Dollars for M1 and 2 Dollars for M2.\n",
    " - F2 see the profile of M1 and M2 and decide to write down 15 Dollars for M1 and 1 Dollar for M2.\n",
    "\n",
    "Suppose that <span style=\"color:#bc47bc\">Couple</span><span style=\"color:#515489\">Maker</span> system match (M1 with F1) and (M2 with F2). Then the company will receive payment of\n",
    "\n",
    "- 5 Dollars from M1\n",
    "- 12 Dollars from F1\n",
    "- 20 Dollars from M2\n",
    "- 1 Dollar from F2\n",
    "\n",
    "which gives the total of 38$.\n",
    "\n",
    "## The Problem\n",
    "\n",
    "Gift has 50 male clients and 50 female clients and she wants to **maximize** the revenue. The amount of money are willing to pay each depending whom they got matched with is given in matrix $rfm$(rating from male) and $rff$(rating from remale)\n",
    "\n",
    "- ```rfm[m, f]``` is how much male $m$ would pay if he is matched with female $f$\n",
    "- ```rff[f, m]``` is how much a female $f$ would pay if she is matched with male $m$\n",
    "\n",
    "Use Hill climbing to help Gift maximize the revenue by finding out who should be match with whom.\n",
    "\n",
    "\n",
    "\n",
    "\n",
    "\n",
    "\n",
    "\n",
    "\n",
    "\n"
   ]
  },
  {
   "cell_type": "code",
   "execution_count": 5,
   "metadata": {},
   "outputs": [],
   "source": [
    "# np.random.seed(100)\n",
    "# rfm = np.random.randn(50,50)**2 *100\n",
    "# rff = np.random.randn(50,50)**2 *50 + 50\n",
    "# np.savetxt('rfm.txt', rfm)\n",
    "# np.savetxt('rff.txt', rff)\n",
    "rfm = np.loadtxt('rfm.txt')\n",
    "rff = np.loadtxt('rff.txt')"
   ]
  },
  {
   "cell_type": "code",
   "execution_count": 6,
   "metadata": {},
   "outputs": [
    {
     "data": {
      "text/plain": [
       "<matplotlib.image.AxesImage at 0x107b58630>"
      ]
     },
     "execution_count": 6,
     "metadata": {},
     "output_type": "execute_result"
    },
    {
     "data": {
      "image/png": "[encoded data removed]",
      "text/plain": [
       "<matplotlib.figure.Figure at 0x105f07d68>"
      ]
     },
     "metadata": {},
     "output_type": "display_data"
    },
    {
     "data": {
      "image/png": "[encoded data removed]",
      "text/plain": [
       "<matplotlib.figure.Figure at 0x105f07e10>"
      ]
     },
     "metadata": {},
     "output_type": "display_data"
    }
   ],
   "source": [
    "plt.matshow(rfm)\n",
    "plt.matshow(rff)"
   ]
  },
  {
   "cell_type": "code",
   "execution_count": null,
   "metadata": {
    "collapsed": true
   },
   "outputs": [],
   "source": []
  }
 ],
 "metadata": {
  "kernelspec": {
   "display_name": "Python 3",
   "language": "python",
   "name": "python3"
  },
  "language_info": {
   "codemirror_mode": {
    "name": "ipython",
    "version": 3
   },
   "file_extension": ".py",
   "mimetype": "text/x-python",
   "name": "python",
   "nbconvert_exporter": "python",
   "pygments_lexer": "ipython3",
   "version": "3.5.2"
  },
  "toc": {
   "colors": {
    "hover_highlight": "#DAA520",
    "running_highlight": "#FF0000",
    "selected_highlight": "#FFD700"
   },
   "moveMenuLeft": true,
   "nav_menu": {
    "height": "248px",
    "width": "252px"
   },
   "navigate_menu": true,
   "number_sections": false,
   "sideBar": true,
   "threshold": 4,
   "toc_cell": false,
   "toc_section_display": "block",
   "toc_window_display": false
  }
 },
 "nbformat": 4,
 "nbformat_minor": 1
}
